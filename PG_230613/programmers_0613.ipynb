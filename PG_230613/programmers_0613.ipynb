{
  "nbformat": 4,
  "nbformat_minor": 0,
  "metadata": {
    "colab": {
      "provenance": []
    },
    "kernelspec": {
      "name": "python3",
      "display_name": "Python 3"
    },
    "language_info": {
      "name": "python"
    }
  },
  "cells": [
    {
      "cell_type": "markdown",
      "source": [
        "# 이름이 있는 동물의 아이디\n",
        "동물 보호소에 들어온 동물 중, 이름이 있는 동물의 ID를 조회하는 SQL 문을 작성해주세요. 단, ID는 오름차순 정렬되어야 합니다."
      ],
      "metadata": {
        "id": "PpfVd4RfhVvF"
      }
    },
    {
      "cell_type": "code",
      "execution_count": null,
      "metadata": {
        "id": "7CkD_7cHgx8M"
      },
      "outputs": [],
      "source": [
        "SELECT ANIMAL_ID\n",
        "FROM ANIMAL_INS\n",
        "WHERE NAME IS NOT NULL\n",
        "ORDER BY ANIMAL_ID"
      ]
    },
    {
      "cell_type": "markdown",
      "source": [
        "# 이름이 없는 동물의 아이디"
      ],
      "metadata": {
        "id": "iczOLqx-hZ0G"
      }
    },
    {
      "cell_type": "code",
      "source": [
        "SELECT ANIMAL_ID\n",
        "FROM ANIMAL_INS\n",
        "WHERE NAME IS NULL\n",
        "ORDER BY ANIMAL_ID"
      ],
      "metadata": {
        "id": "qcNRINMWhsAs"
      },
      "execution_count": null,
      "outputs": []
    },
    {
      "cell_type": "markdown",
      "source": [
        "# 인기있는 아이스크림\n",
        "상반기에 판매된 아이스크림의 맛을 총주문량을 기준으로 내림차순 정렬하고 총주문량이 같다면 출하 번호를 기준으로 오름차순 정렬하여 조회하는 SQL 문을 작성해주세요."
      ],
      "metadata": {
        "id": "PP6kXdaSiNRS"
      }
    },
    {
      "cell_type": "code",
      "source": [
        "SELECT FLAVOR\n",
        "FROM FIRST_HALF\n",
        "ORDER BY TOTAL_ORDER DESC, SHIPMENT_ID"
      ],
      "metadata": {
        "id": "qyNrBeqhiPs8"
      },
      "execution_count": null,
      "outputs": []
    },
    {
      "cell_type": "markdown",
      "source": [
        "# 상위 n개 레코드\n",
        "동물 보호소에 가장 먼저 들어온 동물의 이름을 조회하는 SQL 문을 작성해주세요."
      ],
      "metadata": {
        "id": "X4jczMMQihpi"
      }
    },
    {
      "cell_type": "code",
      "source": [
        "SELECT NAME\n",
        "FROM ANIMAL_INS\n",
        "ORDER BY DATETIME\n",
        "LIMIT 1"
      ],
      "metadata": {
        "id": "NHxk3OBUijyY"
      },
      "execution_count": null,
      "outputs": []
    },
    {
      "cell_type": "markdown",
      "source": [
        "# 여러 기준으로 정렬하기\n",
        "동물 보호소에 들어온 모든 동물의 아이디와 이름, 보호 시작일을 이름 순으로 조회하는 SQL문을 작성해주세요. 단, 이름이 같은 동물 중에서는 보호를 나중에 시작한 동물을 먼저 보여줘야 합니다."
      ],
      "metadata": {
        "id": "uTLtUMrmjLTQ"
      }
    },
    {
      "cell_type": "code",
      "source": [
        "SELECT ANIMAL_ID, NAME, DATETIME\n",
        "FROM ANIMAL_INS\n",
        "ORDER BY NAME, DATETIME DESC"
      ],
      "metadata": {
        "id": "-ERfvzRRjNwL"
      },
      "execution_count": null,
      "outputs": []
    },
    {
      "cell_type": "markdown",
      "source": [
        "# 동물의 아이디와 이름\n",
        "동물 보호소에 들어온 모든 동물의 아이디와 이름을 ANIMAL_ID순으로 조회하는 SQL문을 작성해주세요. SQL을 실행하면 다음과 같이 출력되어야 합니다."
      ],
      "metadata": {
        "id": "vuycE48Ijgad"
      }
    },
    {
      "cell_type": "code",
      "source": [
        "SELECT ANIMAL_ID, NAME\n",
        "FROM ANIMAL_INS\n",
        "ORDER BY ANIMAL_ID"
      ],
      "metadata": {
        "id": "VQDRgCsCjiJX"
      },
      "execution_count": null,
      "outputs": []
    },
    {
      "cell_type": "markdown",
      "source": [
        "# 모든 레코드 조회하기\n",
        "동물 보호소에 들어온 모든 동물의 정보를 ANIMAL_ID순으로 조회하는 SQL문을 작성해주세요. SQL을 실행하면 다음과 같이 출력되어야 합니다."
      ],
      "metadata": {
        "id": "30vqcOf2j57d"
      }
    },
    {
      "cell_type": "code",
      "source": [
        "SELECT *\n",
        "FROM ANIMAL_INS\n",
        "ORDER BY ANIMAL_ID"
      ],
      "metadata": {
        "id": "qpUevF7oj7n4"
      },
      "execution_count": null,
      "outputs": []
    },
    {
      "cell_type": "markdown",
      "source": [
        "# 이름에 el이 들어가는 동물 찾기\n",
        "보호소에 돌아가신 할머니가 기르던 개를 찾는 사람이 찾아왔습니다. 이 사람이 말하길 할머니가 기르던 개는 이름에 'el'이 들어간다고 합니다. 동물 보호소에 들어온 동물 이름 중, 이름에 \"EL\"이 들어가는 개의 아이디와 이름을 조회하는 SQL문을 작성해주세요. 이때 결과는 이름 순으로 조회해주세요. 단, 이름의 대소문자는 구분하지 않습니다."
      ],
      "metadata": {
        "id": "_6jUr-Vik4uM"
      }
    },
    {
      "cell_type": "code",
      "source": [
        "SELECT ANIMAL_ID, NAME\n",
        "FROM ANIMAL_INS\n",
        "WHERE ANIMAL_TYPE = 'Dog'\n",
        "AND NAME LIKE '%EL%'\n",
        "ORDER BY NAME"
      ],
      "metadata": {
        "id": "jCApLmUIk71O"
      },
      "execution_count": null,
      "outputs": []
    },
    {
      "cell_type": "markdown",
      "source": [
        "# 고양이와 개는 몇 마리 있을까\n",
        "동물 보호소에 들어온 동물 중 고양이와 개가 각각 몇 마리인지 조회하는 SQL문을 작성해주세요. 이때 고양이를 개보다 먼저 조회해주세요.\n",
        "\n"
      ],
      "metadata": {
        "id": "MiKuOOqNlkbf"
      }
    },
    {
      "cell_type": "code",
      "source": [
        "SELECT\n",
        "    ANIMAL_TYPE,\n",
        "    COUNT(ANIMAL_ID)\n",
        "FROM ANIMAL_INS\n",
        "GROUP BY ANIMAL_TYPE\n",
        "ORDER BY ANIMAL_TYPE"
      ],
      "metadata": {
        "id": "TqfP2UhdlmZC"
      },
      "execution_count": null,
      "outputs": []
    },
    {
      "cell_type": "markdown",
      "source": [
        "# 카테고리 별 상품 개수 구하기\n",
        "PRODUCT 테이블에서 상품 카테고리 코드(PRODUCT_CODE 앞 2자리) 별 상품 개수를 출력하는 SQL문을 작성해주세요. 결과는 상품 카테고리 코드를 기준으로 오름차순 정렬해주세요."
      ],
      "metadata": {
        "id": "GSoQlmfvmvbg"
      }
    },
    {
      "cell_type": "code",
      "source": [
        "SELECT\n",
        "    LEFT(PRODUCT_CODE, 2) AS CATEGORY,\n",
        "    COUNT(PRODUCT_ID) AS PRODUCTS\n",
        "FROM PRODUCT\n",
        "GROUP BY CATEGORY\n",
        "ORDER BY CATEGORY"
      ],
      "metadata": {
        "id": "aEAw0h1WmyS1"
      },
      "execution_count": null,
      "outputs": []
    },
    {
      "cell_type": "markdown",
      "source": [
        "# 가격대 별 상품 개수 구하기\n",
        "PRODUCT 테이블에서 만원 단위의 가격대 별로 상품 개수를 출력하는 SQL 문을 작성해주세요. 이때 컬럼명은 각각 컬럼명은 PRICE_GROUP, PRODUCTS로 지정해주시고 가격대 정보는 각 구간의 최소금액(10,000원 이상 ~ 20,000 미만인 구간인 경우 10,000)으로 표시해주세요. 결과는 가격대를 기준으로 오름차순 정렬해주세요."
      ],
      "metadata": {
        "id": "47Q5rGcRr4h_"
      }
    },
    {
      "cell_type": "code",
      "source": [
        "SELECT\n",
        "    LEFT(PRICE/10000, 1) * 10000 AS PRICE_GROUP,\n",
        "    COUNT(PRODUCT_ID) AS PRODUCTS\n",
        "FROM PRODUCT\n",
        "GROUP BY PRICE_GROUP\n",
        "ORDER BY PRICE_GROUP"
      ],
      "metadata": {
        "id": "VK-z_Rzlr8jI"
      },
      "execution_count": null,
      "outputs": []
    },
    {
      "cell_type": "markdown",
      "source": [
        "# 동명 동물 수 찾기\n",
        "동물 보호소에 들어온 동물 이름 중 두 번 이상 쓰인 이름과 해당 이름이 쓰인 횟수를 조회하는 SQL문을 작성해주세요. 이때 결과는 이름이 없는 동물은 집계에서 제외하며, 결과는 이름 순으로 조회해주세요."
      ],
      "metadata": {
        "id": "sdlnuQRusxsg"
      }
    },
    {
      "cell_type": "code",
      "source": [
        "SELECT\n",
        "    NAME,\n",
        "    COUNT(NAME) AS COUNT\n",
        "FROM ANIMAL_INS\n",
        "GROUP BY NAME\n",
        "HAVING COUNT >= 2\n",
        "ORDER BY NAME"
      ],
      "metadata": {
        "id": "Tfxs_fHosz0t"
      },
      "execution_count": null,
      "outputs": []
    },
    {
      "cell_type": "markdown",
      "source": [
        "# 재구매가 일어난 상품과 회원 리스트 구하기\n",
        "ONLINE_SALE 테이블에서 동일한 회원이 동일한 상품을 재구매한 데이터를 구하여, 재구매한 회원 ID와 재구매한 상품 ID를 출력하는 SQL문을 작성해주세요. 결과는 회원 ID를 기준으로 오름차순 정렬해주시고 회원 ID가 같다면 상품 ID를 기준으로 내림차순 정렬해주세요.\n",
        "\n"
      ],
      "metadata": {
        "id": "P4w0SUk1vGmJ"
      }
    },
    {
      "cell_type": "code",
      "source": [
        "SELECT\n",
        "    USER_ID,\n",
        "    PRODUCT_ID\n",
        "FROM ONLINE_SALE\n",
        "GROUP BY USER_ID, PRODUCT_ID\n",
        "HAVING COUNT(PRODUCT_ID) >= 2\n",
        "ORDER BY USER_ID, PRODUCT_ID DESC"
      ],
      "metadata": {
        "id": "_RmGUNm4vKOX"
      },
      "execution_count": null,
      "outputs": []
    },
    {
      "cell_type": "markdown",
      "source": [
        "# 12세 이하인 여자 환자 목록 출력하기\n",
        "PATIENT 테이블에서 12세 이하인 여자환자의 환자이름, 환자번호, 성별코드, 나이, 전화번호를 조회하는 SQL문을 작성해주세요. 이때 전화번호가 없는 경우, 'NONE'으로 출력시켜 주시고 결과는 나이를 기준으로 내림차순 정렬하고, 나이 같다면 환자이름을 기준으로 오름차순 정렬해주세요."
      ],
      "metadata": {
        "id": "rp22GNyGwQOL"
      }
    },
    {
      "cell_type": "code",
      "source": [
        "SELECT\n",
        "    PT_NAME,\n",
        "    PT_NO,\n",
        "    GEND_CD,\n",
        "    AGE,\n",
        "    IFNULL(TLNO, 'NONE')\n",
        "FROM PATIENT\n",
        "WHERE AGE <= 12\n",
        "AND GEND_CD = 'W'\n",
        "ORDER BY AGE DESC, PT_NAME"
      ],
      "metadata": {
        "id": "PlPV6Ce4wSzu"
      },
      "execution_count": null,
      "outputs": []
    },
    {
      "cell_type": "markdown",
      "source": [
        "# 경기도에 위치한 식품창고 목록 출력하기\n",
        "FOOD_WAREHOUSE 테이블에서 경기도에 위치한 창고의 ID, 이름, 주소, 냉동시설 여부를 조회하는 SQL문을 작성해주세요. 이때 냉동시설 여부가 NULL인 경우, 'N'으로 출력시켜 주시고 결과는 창고 ID를 기준으로 오름차순 정렬해주세요."
      ],
      "metadata": {
        "id": "PkbGmzS8xxr3"
      }
    },
    {
      "cell_type": "code",
      "source": [
        "SELECT\n",
        "    WAREHOUSE_ID,\n",
        "    WAREHOUSE_NAME,\n",
        "    ADDRESS,\n",
        "    IFNULL(FREEZER_YN, 'N')\n",
        "FROM FOOD_WAREHOUSE\n",
        "WHERE WAREHOUSE_NAME LIKE '%경기%'\n",
        "ORDER BY WAREHOUSE_ID"
      ],
      "metadata": {
        "id": "7Vm7idDxxzp1"
      },
      "execution_count": null,
      "outputs": []
    },
    {
      "cell_type": "markdown",
      "source": [
        "# 강원도에 위치한 생산공장 목록 출력하기\n",
        "FOOD_FACTORY 테이블에서 강원도에 위치한 식품공장의 공장 ID, 공장 이름, 주소를 조회하는 SQL문을 작성해주세요. 이때 결과는 공장 ID를 기준으로 오름차순 정렬해주세요."
      ],
      "metadata": {
        "id": "GYbFlT2_y2DS"
      }
    },
    {
      "cell_type": "code",
      "source": [
        "SELECT\n",
        "    FACTORY_ID,\n",
        "    FACTORY_NAME,\n",
        "    ADDRESS\n",
        "FROM FOOD_FACTORY\n",
        "WHERE ADDRESS LIKE '강원도%'\n",
        "ORDER BY FACTORY_ID"
      ],
      "metadata": {
        "id": "eZ35Fqrpy4lX"
      },
      "execution_count": null,
      "outputs": []
    }
  ]
}