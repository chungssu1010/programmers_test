{
  "nbformat": 4,
  "nbformat_minor": 0,
  "metadata": {
    "colab": {
      "provenance": []
    },
    "kernelspec": {
      "name": "python3",
      "display_name": "Python 3"
    },
    "language_info": {
      "name": "python"
    }
  },
  "cells": [
    {
      "cell_type": "markdown",
      "source": [
        "## 모의고사 Lv.1"
      ],
      "metadata": {
        "id": "xcqUcpGjteNA"
      }
    },
    {
      "cell_type": "code",
      "execution_count": null,
      "metadata": {
        "id": "v1WuLh_KkW4k"
      },
      "outputs": [],
      "source": [
        "# 내 답\n",
        "\n",
        "def solution(answers):\n",
        "    one = [1, 2, 3, 4, 5]\n",
        "    two = [2, 1, 2, 3, 2, 4, 2, 5]\n",
        "    three = [3, 3, 1, 1, 2, 2, 4, 4, 5, 5]\n",
        "\n",
        "    # one\n",
        "    one_score = 0\n",
        "\n",
        "    one_score += answers[0::5].count(1)\n",
        "    one_score += answers[1::5].count(2)\n",
        "    one_score += answers[2::5].count(3)\n",
        "    one_score += answers[3::5].count(4)\n",
        "    one_score += answers[4::5].count(5)\n",
        "\n",
        "    # two\n",
        "    two_score = 0\n",
        "\n",
        "    two_score += answers[0::2].count(2)\n",
        "    two_score += answers[1::8].count(1)\n",
        "    two_score += answers[3::8].count(3)\n",
        "    two_score += answers[5::8].count(4)\n",
        "    two_score += answers[7::8].count(5)\n",
        "\n",
        "    # three\n",
        "    three_score = 0\n",
        "\n",
        "    three_score += answers[0::10].count(3)\n",
        "    three_score += answers[1::10].count(3)\n",
        "    three_score += answers[2::10].count(1)\n",
        "    three_score += answers[3::10].count(1)\n",
        "    three_score += answers[4::10].count(2)\n",
        "    three_score += answers[5::10].count(2)\n",
        "    three_score += answers[6::10].count(4)\n",
        "    three_score += answers[7::10].count(4)\n",
        "    three_score += answers[8::10].count(5)\n",
        "    three_score += answers[9::10].count(5)\n",
        "\n",
        "    score = [one_score, two_score, three_score]\n",
        "    dic = {'one_score':1, 'two_score':2, 'three_score':3}\n",
        "\n",
        "    result = []\n",
        "\n",
        "    for i, value in zip(dic.keys(), score):\n",
        "        if value == max(score):\n",
        "            result.append(dic[i])\n",
        "\n",
        "    return result"
      ]
    },
    {
      "cell_type": "code",
      "source": [
        "def solution(answers):\n",
        "    pattern1 = [1,2,3,4,5]\n",
        "    pattern2 = [2,1,2,3,2,4,2,5]\n",
        "    pattern3 = [3,3,1,1,2,2,4,4,5,5]\n",
        "    score = [0, 0, 0]\n",
        "    result = []\n",
        "\n",
        "    for idx, answer in enumerate(answers):\n",
        "        if answer == pattern1[idx%len(pattern1)]:\n",
        "            score[0] += 1\n",
        "        if answer == pattern2[idx%len(pattern2)]:\n",
        "            score[1] += 1\n",
        "        if answer == pattern3[idx%len(pattern3)]:\n",
        "            score[2] += 1\n",
        "\n",
        "    for idx, s in enumerate(score):\n",
        "        if s == max(score):\n",
        "            result.append(idx+1)\n",
        "\n",
        "    return result"
      ],
      "metadata": {
        "id": "RenkbVMjvRvP"
      },
      "execution_count": null,
      "outputs": []
    },
    {
      "cell_type": "code",
      "source": [
        "from itertools import cycle\n",
        "\n",
        "def solution(answers):\n",
        "    giveups = [\n",
        "        cycle([1,2,3,4,5]),\n",
        "        cycle([2,1,2,3,2,4,2,5]),\n",
        "        cycle([3,3,1,1,2,2,4,4,5,5]),\n",
        "    ]\n",
        "    scores = [0, 0, 0]\n",
        "    for num in answers:\n",
        "        for i in range(3):\n",
        "            if next(giveups[i]) == num:\n",
        "                scores[i] += 1\n",
        "    highest = max(scores)\n",
        "\n",
        "    return [i + 1 for i, v in enumerate(scores) if v == highest]"
      ],
      "metadata": {
        "id": "B5aSTfIbvQxB"
      },
      "execution_count": null,
      "outputs": []
    }
  ]
}