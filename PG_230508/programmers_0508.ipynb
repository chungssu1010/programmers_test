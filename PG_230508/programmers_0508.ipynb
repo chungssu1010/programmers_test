{
  "nbformat": 4,
  "nbformat_minor": 0,
  "metadata": {
    "colab": {
      "provenance": []
    },
    "kernelspec": {
      "name": "python3",
      "display_name": "Python 3"
    },
    "language_info": {
      "name": "python"
    }
  },
  "cells": [
    {
      "cell_type": "markdown",
      "source": [
        "## 배열 원소의 길이\n",
        "* 문자열 배열 strlist가 매개변수로 주어집니다. strlist 각 원소의 길이를 담은 배열을 retrun하도록 solution 함수를 완성해주세요.\n",
        "\n"
      ],
      "metadata": {
        "id": "TZR8o7l4qxgu"
      }
    },
    {
      "cell_type": "code",
      "execution_count": null,
      "metadata": {
        "id": "HFc2rYh4pLwM"
      },
      "outputs": [],
      "source": [
        "# 내 답\n",
        "\n",
        "def solution(strlist):\n",
        "    answer = []\n",
        "    for i in strlist:\n",
        "        answer.append(len(i))\n",
        "    return answer"
      ]
    },
    {
      "cell_type": "code",
      "source": [
        "# 리스트컴프리헨션\n",
        "\n",
        "def solution(strlist):\n",
        "    return [len(str) for str in strlist]"
      ],
      "metadata": {
        "id": "iO5NkX4QtqgO"
      },
      "execution_count": null,
      "outputs": []
    },
    {
      "cell_type": "code",
      "source": [
        "def solution(strlist):\n",
        "    answer = list(map(len, strlist))\n",
        "    return answer"
      ],
      "metadata": {
        "id": "pfsk0JtXsg7p"
      },
      "execution_count": null,
      "outputs": []
    },
    {
      "cell_type": "code",
      "source": [
        "# map 활용법\n",
        "a = [1.2, 2.5, 3.7, 4.6]\n",
        "a = list(map(int, a))\n",
        "a\n",
        "[1, 2, 3, 4]"
      ],
      "metadata": {
        "id": "qZO2wgMNzX_T"
      },
      "execution_count": null,
      "outputs": []
    },
    {
      "cell_type": "markdown",
      "source": [
        "## 배열 뒤집기\n",
        "* 정수가 들어 있는 배열 num_list가 매개변수로 주어집니다. num_list의 원소의 순서를 거꾸로 뒤집은 배열을 return하도록 solution 함수를 완성해주세요."
      ],
      "metadata": {
        "id": "NIGPhweK5HR4"
      }
    },
    {
      "cell_type": "code",
      "source": [
        "# 내 답\n",
        "\n",
        "def solution(num_list):\n",
        "    num_list.reverse()\n",
        "    return num_list"
      ],
      "metadata": {
        "id": "0b4V0M2_5K7l"
      },
      "execution_count": null,
      "outputs": []
    },
    {
      "cell_type": "code",
      "source": [
        "def solution(num_list):\n",
        "    return num_list[::-1]"
      ],
      "metadata": {
        "id": "xucsZBbe5bgv"
      },
      "execution_count": null,
      "outputs": []
    },
    {
      "cell_type": "markdown",
      "source": [
        "## 중복된 숫자 개수\n",
        "* 정수가 담긴 배열 array와 정수 n이 매개변수로 주어질 때, array에 n이 몇 개 있는 지를 return 하도록 solution 함수를 완성해보세요.\n",
        "\n"
      ],
      "metadata": {
        "id": "L2Nrn5KBEpcf"
      }
    },
    {
      "cell_type": "code",
      "source": [
        "# 내 답\n",
        "\n",
        "def solution(array, n):\n",
        "    return array.count(n)"
      ],
      "metadata": {
        "id": "TNMZTQAEE62y"
      },
      "execution_count": null,
      "outputs": []
    },
    {
      "cell_type": "markdown",
      "source": [
        "## 순서쌍의 개수\n",
        "* 순서쌍이란 두 개의 숫자를 순서를 정하여 짝지어 나타낸 쌍으로 (a, b)로 표기합니다. 자연수 n이 매개변수로 주어질 때 두 숫자의 곱이 n인 자연수 순서쌍의 개수를 return하도록 solution 함수를 완성해주세요.\n",
        "\n"
      ],
      "metadata": {
        "id": "6lyxsp-ON1Mg"
      }
    },
    {
      "cell_type": "code",
      "source": [
        "# 내 답\n",
        "\n",
        "def solution(n):\n",
        "    num_1 = []\n",
        "    num_2 = []\n",
        "    for x in range(1, n+1):\n",
        "        if n % x == 0:\n",
        "            num_1.append(x)\n",
        "    for i in num_1:\n",
        "        for j in num_1:\n",
        "            if i * j == n:\n",
        "                num_2.append((i, j))\n",
        "    return len(num_2)"
      ],
      "metadata": {
        "id": "2pQy3bsDOFd1"
      },
      "execution_count": null,
      "outputs": []
    },
    {
      "cell_type": "code",
      "source": [
        "# 보완 ex) n = 20일 때 약수는 (1,2,4,5,10,20) / 순서쌍은 (1,20), (2,10), (4,5), (5,4), (10,2), (20,1) 약수의 개수 = 순서쌍의 개수\n",
        "\n",
        "def solution(n):\n",
        "    num = []\n",
        "    for i in range(1, n+1):\n",
        "        if n % i == 0:\n",
        "            num.append(i)\n",
        "            \n",
        "    return len(num)"
      ],
      "metadata": {
        "id": "ylSWu2ZoONu_"
      },
      "execution_count": null,
      "outputs": []
    },
    {
      "cell_type": "code",
      "source": [
        "def solution(n):\n",
        "    answer = 0\n",
        "    for i in range(1,n+1):\n",
        "        if n % i == 0:\n",
        "            answer += 1\n",
        "    return answer"
      ],
      "metadata": {
        "id": "Ml02VaRnVU3T"
      },
      "execution_count": null,
      "outputs": []
    },
    {
      "cell_type": "code",
      "source": [
        "def solution(n):\n",
        "    return len([number for number in range(1, n+1) if n%number == 0])"
      ],
      "metadata": {
        "id": "BENh4_vGUiqc"
      },
      "execution_count": null,
      "outputs": []
    },
    {
      "cell_type": "markdown",
      "source": [
        "## 문자열 뒤집기\n",
        "\n",
        "*문자열 my_string이 매개변수로 주어집니다. my_string을 거꾸로 뒤집은 문자열을 return하도록 solution 함수를 완성해주세요."
      ],
      "metadata": {
        "id": "BWGyQ4NcVlCa"
      }
    },
    {
      "cell_type": "code",
      "source": [
        "# 내 답\n",
        "\n",
        "def solution(my_string):\n",
        "    return my_string[::-1]"
      ],
      "metadata": {
        "id": "Ez1yerHyVoJ0"
      },
      "execution_count": null,
      "outputs": []
    },
    {
      "cell_type": "markdown",
      "source": [
        "## 특정 문자 제거하기\n",
        "* 문자열 my_string과 문자 letter이 매개변수로 주어집니다. my_string에서 letter를 제거한 문자열을 return하도록 solution 함수를 완성해주세요."
      ],
      "metadata": {
        "id": "jVrKE7TMV84a"
      }
    },
    {
      "cell_type": "code",
      "source": [
        "# 내 답\n",
        "\n",
        "def solution(my_string, letter):\n",
        "    return my_string.replace(letter,'')"
      ],
      "metadata": {
        "id": "hL492CkcXTo4"
      },
      "execution_count": null,
      "outputs": []
    },
    {
      "cell_type": "markdown",
      "source": [
        "## 편지\n",
        "* 머쓱이는 할머니께 생신 축하 편지를 쓰려고 합니다. 할머니가 보시기 편하도록 글자 한 자 한 자를 가로 2cm 크기로 적으려고 하며, 편지를 가로로만 적을 때, 축하 문구 message를 적기 위해 필요한 편지지의 최소 가로길이를 return 하도록 solution 함수를 완성해주세요."
      ],
      "metadata": {
        "id": "-sQ2BwGgX8LU"
      }
    },
    {
      "cell_type": "code",
      "source": [
        "# 내 답\n",
        "\n",
        "def solution(message):\n",
        "    return len(message) * 2"
      ],
      "metadata": {
        "id": "Y6HMziuvX-au"
      },
      "execution_count": null,
      "outputs": []
    },
    {
      "cell_type": "markdown",
      "source": [
        "## 모음 제거\n",
        "* 영어에선 a, e, i, o, u 다섯 가지 알파벳을 모음으로 분류합니다. 문자열 my_string이 매개변수로 주어질 때 모음을 제거한 문자열을 return하도록 solution 함수를 완성해주세요."
      ],
      "metadata": {
        "id": "J5E-_I9Cay1W"
      }
    },
    {
      "cell_type": "code",
      "source": [
        "# 내 답\n",
        "\n",
        "def solution(my_string):\n",
        "    for i in my_string:\n",
        "        if i in ['a','e','i','o','u']:\n",
        "            my_string = my_string.replace(i, '')\n",
        "    \n",
        "    return my_string"
      ],
      "metadata": {
        "id": "WQX6fBX5a03h"
      },
      "execution_count": null,
      "outputs": []
    },
    {
      "cell_type": "markdown",
      "source": [
        "## 문자 반복 출력하기\n",
        "* 문자열 my_string과 정수 n이 매개변수로 주어질 때, my_string에 들어있는 각 문자를 n만큼 반복한 문자열을 return 하도록 solution 함수를 완성해보세요."
      ],
      "metadata": {
        "id": "JPoUgR6-fKcq"
      }
    },
    {
      "cell_type": "code",
      "source": [
        "# 내 답\n",
        "\n",
        "def solution(my_string, n):\n",
        "    answer = ''\n",
        "    for i in my_string:\n",
        "        answer += i * n\n",
        "    return answer"
      ],
      "metadata": {
        "id": "WbRjwXVwe-6M"
      },
      "execution_count": null,
      "outputs": []
    },
    {
      "cell_type": "code",
      "source": [
        "def solution(my_string, n):\n",
        "    return ''.join(i*n for i in my_string)"
      ],
      "metadata": {
        "id": "a2A_EWZlfyq5"
      },
      "execution_count": null,
      "outputs": []
    },
    {
      "cell_type": "markdown",
      "source": [
        "## 배열의 유사도\n",
        "* 두 배열이 얼마나 유사한지 확인해보려고 합니다. 문자열 배열 s1과 s2가 주어질 때 같은 원소의 개수를 return하도록 solution 함수를 완성해주세요.\n",
        "\n"
      ],
      "metadata": {
        "id": "WX6TJX0_hHWL"
      }
    },
    {
      "cell_type": "code",
      "source": [
        "# 내 답\n",
        "\n",
        "def solution(s1, s2):\n",
        "    answer = 0\n",
        "    for i in s2:\n",
        "        if i in s1:\n",
        "            answer += 1\n",
        "    \n",
        "    return answer"
      ],
      "metadata": {
        "id": "5PHZo5pMiPnD"
      },
      "execution_count": null,
      "outputs": []
    },
    {
      "cell_type": "code",
      "source": [
        "def solution(s1, s2):\n",
        "    return len(set(s1)&set(s2));"
      ],
      "metadata": {
        "id": "YrB36A3qimPc"
      },
      "execution_count": null,
      "outputs": []
    },
    {
      "cell_type": "markdown",
      "source": [
        "## 자릿수 더하기\n",
        "* 정수 n이 매개변수로 주어질 때 n의 각 자리 숫자의 합을 return하도록 solution 함수를 완성해주세요"
      ],
      "metadata": {
        "id": "Ccb9WK_Sjl1k"
      }
    },
    {
      "cell_type": "code",
      "source": [
        "# 내 답\n",
        "\n",
        "def solution(n):\n",
        "    sum = 0\n",
        "    for i in str(n):\n",
        "        sum += int(i)\n",
        "        \n",
        "    return sum"
      ],
      "metadata": {
        "id": "9R8TQmTwjoIB"
      },
      "execution_count": null,
      "outputs": []
    },
    {
      "cell_type": "code",
      "source": [
        "def solution(n):\n",
        "    return sum(int(i) for i in str(n))"
      ],
      "metadata": {
        "id": "JLfylH-xkudb"
      },
      "execution_count": null,
      "outputs": []
    },
    {
      "cell_type": "code",
      "source": [
        "# map 활용\n",
        "\n",
        "def solution(n):\n",
        "    answer = sum(list(map(int,(str(n)))))       # list(map(int, (str(n)))) = [1, 2, 3, 4]\n",
        "    return answer"
      ],
      "metadata": {
        "id": "XiLCodOij8MW"
      },
      "execution_count": null,
      "outputs": []
    },
    {
      "cell_type": "markdown",
      "source": [
        "## 숨어있는 숫자의 덧셈 (1)\n",
        "* 문자열 my_string이 매개변수로 주어집니다. my_string안의 모든 자연수들의 합을 return하도록 solution 함수를 완성해주세요.\n",
        "\n"
      ],
      "metadata": {
        "id": "fENsWIWJl5sk"
      }
    },
    {
      "cell_type": "code",
      "source": [
        "# 내 답\n",
        "\n",
        "def solution(my_string):\n",
        "    sum = 0\n",
        "    for i in my_string:\n",
        "        if i.isdigit():\n",
        "            sum += int(i)\n",
        "            \n",
        "    return sum"
      ],
      "metadata": {
        "id": "Rxwa5Nzrl7ug"
      },
      "execution_count": null,
      "outputs": []
    },
    {
      "cell_type": "code",
      "source": [
        "# 리스트 컴프리헨션\n",
        "def solution(my_string):\n",
        "    return sum(int(i) for i in my_string if i.isdigit())"
      ],
      "metadata": {
        "id": "2bc5fpY9mVX0"
      },
      "execution_count": null,
      "outputs": []
    },
    {
      "cell_type": "markdown",
      "source": [
        "## 문자열안에 문자열\n",
        "* 문자열 str1, str2가 매개변수로 주어집니다. str1 안에 str2가 있다면 1을 없다면 2를 return하도록 solution 함수를 완성해주세요."
      ],
      "metadata": {
        "id": "g6OuijIfmvxz"
      }
    },
    {
      "cell_type": "code",
      "source": [
        "# 내 답\n",
        "\n",
        "def solution(str1, str2):\n",
        "    if str2 in str1:\n",
        "        return 1\n",
        "    else:\n",
        "        return 2"
      ],
      "metadata": {
        "id": "nQ8i-e9cmyLF"
      },
      "execution_count": null,
      "outputs": []
    },
    {
      "cell_type": "code",
      "source": [
        "# 출처: 프로그래머스 코딩 테스트 연습\n",
        "# https://school.programmers.co.kr/learn/challenges"
      ],
      "metadata": {
        "id": "akvxvCmqmife"
      },
      "execution_count": null,
      "outputs": []
    }
  ]
}