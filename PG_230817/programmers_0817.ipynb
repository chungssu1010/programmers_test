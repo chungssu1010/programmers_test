{
  "nbformat": 4,
  "nbformat_minor": 0,
  "metadata": {
    "colab": {
      "provenance": []
    },
    "kernelspec": {
      "name": "python3",
      "display_name": "Python 3"
    },
    "language_info": {
      "name": "python"
    }
  },
  "cells": [
    {
      "cell_type": "markdown",
      "source": [
        "# 문자열 내 마음대로 정렬하기 Lv.1"
      ],
      "metadata": {
        "id": "HzYeEseklkM6"
      }
    },
    {
      "cell_type": "code",
      "source": [
        "# 내 답\n",
        "\n",
        "def solution(strings, n):\n",
        "    strings = sorted(strings)\n",
        "    result = sorted(strings, key=lambda x:x[n])\n",
        "    return result"
      ],
      "metadata": {
        "id": "RFdj058blkBg"
      },
      "execution_count": null,
      "outputs": []
    },
    {
      "cell_type": "markdown",
      "source": [
        "## K번째수 Lv.1"
      ],
      "metadata": {
        "id": "XDxsviLvmlhJ"
      }
    },
    {
      "cell_type": "code",
      "source": [
        "# 내 답\n",
        "\n",
        "def solution(array, commands):\n",
        "\n",
        "    result = []\n",
        "\n",
        "    for command in commands:\n",
        "        i, j, k = command\n",
        "        result.append(sorted(array[i-1:j])[k-1])\n",
        "\n",
        "    return result"
      ],
      "metadata": {
        "id": "bw7bi7QrmlxY"
      },
      "execution_count": null,
      "outputs": []
    },
    {
      "cell_type": "code",
      "source": [
        "def solution(array, commands):\n",
        "    return list(map(lambda x:sorted(array[x[0]-1:x[1]])[x[2]-1], commands))"
      ],
      "metadata": {
        "id": "bgZrO7NHppPq"
      },
      "execution_count": null,
      "outputs": []
    },
    {
      "cell_type": "code",
      "source": [
        "def solution(array, commands):\n",
        "    return [sorted(array[x[0]-1:x[1]])[x[2]-1] for x in commands]"
      ],
      "metadata": {
        "id": "KlYti3oKqFp2"
      },
      "execution_count": null,
      "outputs": []
    }
  ]
}