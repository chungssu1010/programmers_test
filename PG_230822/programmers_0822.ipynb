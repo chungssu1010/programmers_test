{
  "nbformat": 4,
  "nbformat_minor": 0,
  "metadata": {
    "colab": {
      "provenance": []
    },
    "kernelspec": {
      "name": "python3",
      "display_name": "Python 3"
    },
    "language_info": {
      "name": "python"
    }
  },
  "cells": [
    {
      "cell_type": "markdown",
      "source": [
        "## 가장 가까운 같은 글자 Lv.1"
      ],
      "metadata": {
        "id": "sbrHxwVwFmqk"
      }
    },
    {
      "cell_type": "code",
      "execution_count": null,
      "metadata": {
        "id": "HqLTFvlp7jKm"
      },
      "outputs": [],
      "source": [
        "# 내 답\n",
        "\n",
        "def solution(s):\n",
        "    stack = ''\n",
        "    result = []\n",
        "\n",
        "    for word in s:\n",
        "        if word in stack:\n",
        "            result.append(len(stack) - stack.rfind(word))\n",
        "            stack += word\n",
        "        else:\n",
        "            stack += (word)\n",
        "            result.append(-1)\n",
        "\n",
        "    return result"
      ]
    },
    {
      "cell_type": "code",
      "source": [
        "def solution(s):\n",
        "    answer = []\n",
        "    dic = dict()\n",
        "    for i in range(len(s)):\n",
        "        if s[i] not in dic:\n",
        "            answer.append(-1)\n",
        "        else:\n",
        "            answer.append(i - dic[s[i]])\n",
        "        dic[s[i]] = i\n",
        "\n",
        "    return answer"
      ],
      "metadata": {
        "id": "C2WqZ5KJAtuZ"
      },
      "execution_count": null,
      "outputs": []
    }
  ]
}