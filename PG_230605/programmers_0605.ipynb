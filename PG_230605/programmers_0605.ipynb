{
  "nbformat": 4,
  "nbformat_minor": 0,
  "metadata": {
    "colab": {
      "provenance": []
    },
    "kernelspec": {
      "name": "python3",
      "display_name": "Python 3"
    },
    "language_info": {
      "name": "python"
    }
  },
  "cells": [
    {
      "cell_type": "markdown",
      "source": [
        "# 인덱스 바꾸기 Lv.0\n",
        "문자열 my_string과 정수 num1, num2가 매개변수로 주어질 때, my_string에서 인덱스 num1과 인덱스 num2에 해당하는 문자를 바꾼 문자열을 return 하도록 solution 함수를 완성해보세요."
      ],
      "metadata": {
        "id": "q0-iS8N13TLE"
      }
    },
    {
      "cell_type": "code",
      "source": [
        "# 내 답\n",
        "\n",
        "def solution(my_string, num1, num2):\n",
        "    my_string = list(my_string)\n",
        "    re1 = my_string[num1]\n",
        "    re2 = my_string[num2]\n",
        "    my_string[num1] = re2\n",
        "    my_string[num2] = re1\n",
        "    \n",
        "    return ''.join(my_string)"
      ],
      "metadata": {
        "id": "Xzn5B1Qs3W6M"
      },
      "execution_count": null,
      "outputs": []
    },
    {
      "cell_type": "code",
      "source": [
        "def solution(my_string, num1, num2):\n",
        "    s = list(my_string)\n",
        "    s[num1],s[num2] = s[num2],s[num1]\n",
        "    return ''.join(s)"
      ],
      "metadata": {
        "id": "ViYDc3BR30C-"
      },
      "execution_count": null,
      "outputs": []
    },
    {
      "cell_type": "markdown",
      "source": [
        "# 크기가 작은 부분문자열 Lv.1\n",
        "숫자로 이루어진 문자열 t와 p가 주어질 때, t에서 p와 길이가 같은 부분문자열 중에서, 이 부분문자열이 나타내는 수가 p가 나타내는 수보다 작거나 같은 것이 나오는 횟수를 return하는 함수 solution을 완성하세요.\n",
        "\n",
        "예를 들어, t=\"3141592\"이고 p=\"271\" 인 경우, t의 길이가 3인 부분 문자열은 314, 141, 415, 159, 592입니다. 이 문자열이 나타내는 수 중 271보다 작거나 같은 수는 141, 159 2개 입니다."
      ],
      "metadata": {
        "id": "-pZxSigR5bc0"
      }
    },
    {
      "cell_type": "code",
      "source": [
        "# 내 답\n",
        "\n",
        "def solution(t, p):\n",
        "    result = 0\n",
        "    for i in range(len(t) - len(p) + 1):\n",
        "        if t[i:i+len(p)] <= p:\n",
        "            result += 1\n",
        "\n",
        "    return result"
      ],
      "metadata": {
        "id": "7i3UihU65gG3"
      },
      "execution_count": null,
      "outputs": []
    }
  ]
}