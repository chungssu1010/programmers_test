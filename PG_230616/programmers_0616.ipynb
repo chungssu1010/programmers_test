{
  "nbformat": 4,
  "nbformat_minor": 0,
  "metadata": {
    "colab": {
      "provenance": []
    },
    "kernelspec": {
      "name": "python3",
      "display_name": "Python 3"
    },
    "language_info": {
      "name": "python"
    }
  },
  "cells": [
    {
      "cell_type": "markdown",
      "source": [
        "# 중복 제거하기\n",
        "동물 보호소에 들어온 동물의 이름은 몇 개인지 조회하는 SQL 문을 작성해주세요. 이때 이름이 NULL인 경우는 집계하지 않으며 중복되는 이름은 하나로 칩니다."
      ],
      "metadata": {
        "id": "T_2wA_qMzHp2"
      }
    },
    {
      "cell_type": "code",
      "execution_count": null,
      "metadata": {
        "id": "uYw39Fouy9QB"
      },
      "outputs": [],
      "source": [
        "SELECT\n",
        "    COUNT(DISTINCT NAME)\n",
        "FROM ANIMAL_INS"
      ]
    },
    {
      "cell_type": "markdown",
      "source": [
        "# 동물 수 구하기\n",
        "동물 보호소에 동물이 몇 마리 들어왔는지 조회하는 SQL 문을 작성해주세요."
      ],
      "metadata": {
        "id": "HzN4Mvd-zXPJ"
      }
    },
    {
      "cell_type": "code",
      "source": [
        "SELECT\n",
        "    COUNT(DISTINCT ANIMAL_ID)\n",
        "FROM ANIMAL_INS"
      ],
      "metadata": {
        "id": "qgb4W6COzZHt"
      },
      "execution_count": null,
      "outputs": []
    },
    {
      "cell_type": "markdown",
      "source": [
        "# 최솟값 구하기\n",
        "동물 보호소에 가장 먼저 들어온 동물은 언제 들어왔는지 조회하는 SQL 문을 작성해주세요"
      ],
      "metadata": {
        "id": "jB6KaVcoziQG"
      }
    },
    {
      "cell_type": "code",
      "source": [
        "SELECT\n",
        "    MIN(DATETIME)\n",
        "FROM ANIMAL_INS"
      ],
      "metadata": {
        "id": "lZxAD3jlzkDU"
      },
      "execution_count": null,
      "outputs": []
    },
    {
      "cell_type": "markdown",
      "source": [
        "# NULL 처리하기\n",
        "입양 게시판에 동물 정보를 게시하려 합니다. 동물의 생물 종, 이름, 성별 및 중성화 여부를 아이디 순으로 조회하는 SQL문을 작성해주세요. 이때 프로그래밍을 모르는 사람들은 NULL이라는 기호를 모르기 때문에, 이름이 없는 동물의 이름은 \"No name\"으로 표시해 주세요."
      ],
      "metadata": {
        "id": "m9hLkMRYzlNi"
      }
    },
    {
      "cell_type": "code",
      "source": [
        "SELECT\n",
        "    ANIMAL_TYPE,\n",
        "    IFNULL(NAME, 'No name'),\n",
        "    SEX_UPON_INTAKE\n",
        "FROM ANIMAL_INS\n",
        "ORDER BY ANIMAL_ID"
      ],
      "metadata": {
        "id": "gTW8A3gD0G6M"
      },
      "execution_count": null,
      "outputs": []
    },
    {
      "cell_type": "markdown",
      "source": [
        "# 가장 비싼 상품 구하기\n",
        "PRODUCT 테이블에서 판매 중인 상품 중 가장 높은 판매가를 출력하는 SQL문을 작성해주세요. 이때 컬럼명은 MAX_PRICE로 지정해주세요."
      ],
      "metadata": {
        "id": "YepAsOw40b8t"
      }
    },
    {
      "cell_type": "code",
      "source": [
        "SELECT\n",
        "    MAX(PRICE) AS MAX_PRICE\n",
        "FROM PRODUCT"
      ],
      "metadata": {
        "id": "FU5nEDCs0dZ_"
      },
      "execution_count": null,
      "outputs": []
    },
    {
      "cell_type": "markdown",
      "source": [
        "# DATETIME에서 DATE로 형 변환\n",
        "ANIMAL_INS 테이블에 등록된 모든 레코드에 대해, 각 동물의 아이디와 이름, 들어온 날짜1를 조회하는 SQL문을 작성해주세요. 이때 결과는 아이디 순으로 조회해야 합니다."
      ],
      "metadata": {
        "id": "Gj3XIPAm1LTt"
      }
    },
    {
      "cell_type": "code",
      "source": [
        "SELECT\n",
        "    ANIMAL_ID,\n",
        "    NAME,\n",
        "    DATE_FORMAT(DATETIME, '%Y-%m-%d')\n",
        "FROM ANIMAL_INS\n",
        "ORDER BY ANIMAL_ID"
      ],
      "metadata": {
        "id": "ERpjeB431Npv"
      },
      "execution_count": null,
      "outputs": []
    },
    {
      "cell_type": "markdown",
      "source": [
        "# 가격이 제일 비싼 식품의 정보 출력하기\n",
        "FOOD_PRODUCT 테이블에서 가격이 제일 비싼 식품의 식품 ID, 식품 이름, 식품 코드, 식품분류, 식품 가격을 조회하는 SQL문을 작성해주세요."
      ],
      "metadata": {
        "id": "Q32_4NjZW19q"
      }
    },
    {
      "cell_type": "code",
      "source": [
        "SELECT\n",
        "    PRODUCT_ID,\n",
        "    PRODUCT_NAME,\n",
        "    PRODUCT_CD,\n",
        "    CATEGORY,\n",
        "    PRICE\n",
        "FROM FOOD_PRODUCT\n",
        "WHERE PRICE = (\n",
        "    SELECT MAX(PRICE)\n",
        "    FROM FOOD_PRODUCT\n",
        ")"
      ],
      "metadata": {
        "id": "kQAf-9eaW5Pf"
      },
      "execution_count": null,
      "outputs": []
    },
    {
      "cell_type": "markdown",
      "source": [
        "# 중성화 여부 파악하기\n",
        "보호소의 동물이 중성화되었는지 아닌지 파악하려 합니다. 중성화된 동물은 SEX_UPON_INTAKE 컬럼에 'Neutered' 또는 'Spayed'라는 단어가 들어있습니다. 동물의 아이디와 이름, 중성화 여부를 아이디 순으로 조회하는 SQL문을 작성해주세요. 이때 중성화가 되어있다면 'O', 아니라면 'X'라고 표시해주세요."
      ],
      "metadata": {
        "id": "Uo80Aai76qMl"
      }
    },
    {
      "cell_type": "code",
      "source": [
        "SELECT\n",
        "    ANIMAL_ID,\n",
        "    NAME,\n",
        "    CASE\n",
        "        WHEN SEX_UPON_INTAKE LIKE 'Neutered%' THEN 'O'\n",
        "        WHEN SEX_UPON_INTAKE LIKE 'Spayed%' THEN 'O'\n",
        "        ELSE 'X'\n",
        "    END AS 중성화\n",
        "FROM ANIMAL_INS\n",
        "ORDER BY ANIMAL_ID"
      ],
      "metadata": {
        "id": "A-dP_Fjo6snO"
      },
      "execution_count": null,
      "outputs": []
    },
    {
      "cell_type": "markdown",
      "source": [
        "# 조건에 맞는 회원수 구하기\n",
        "USER_INFO 테이블에서 2021년에 가입한 회원 중 나이가 20세 이상 29세 이하인 회원이 몇 명인지 출력하는 SQL문을 작성해주세요."
      ],
      "metadata": {
        "id": "7xYDMPEC6uLY"
      }
    },
    {
      "cell_type": "code",
      "source": [
        "SELECT\n",
        "    COUNT(USER_ID)\n",
        "FROM USER_INFO\n",
        "WHERE EXTRACT(YEAR FROM JOINED) = 2021\n",
        "AND AGE BETWEEN 20 AND 29"
      ],
      "metadata": {
        "id": "neVKwHMG6uX0"
      },
      "execution_count": null,
      "outputs": []
    }
  ]
}