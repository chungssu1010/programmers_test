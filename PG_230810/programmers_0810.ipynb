{
  "nbformat": 4,
  "nbformat_minor": 0,
  "metadata": {
    "colab": {
      "provenance": []
    },
    "kernelspec": {
      "name": "python3",
      "display_name": "Python 3"
    },
    "language_info": {
      "name": "python"
    }
  },
  "cells": [
    {
      "cell_type": "markdown",
      "source": [
        "# 연속된 수의 합 Lv.0\n"
      ],
      "metadata": {
        "id": "Ttbno3AUy52Y"
      }
    },
    {
      "cell_type": "code",
      "source": [
        "# 내 답\n",
        "\n",
        "def solution(num, total):\n",
        "    x = (total - sum([i for i in range(num)])) // num\n",
        "\n",
        "    return [i for i in range(x, x+num)]"
      ],
      "metadata": {
        "id": "X6OB6J8Yy5_9"
      },
      "execution_count": null,
      "outputs": []
    },
    {
      "cell_type": "markdown",
      "source": [
        "## 소수 찾기 Lv.1"
      ],
      "metadata": {
        "id": "PJ6bFEyJh3FM"
      }
    },
    {
      "cell_type": "code",
      "source": [
        "# 내 답\n",
        "\n",
        "def is_prime_number(x):\n",
        "    for i in range(2, int(x ** 0.5) + 1):\n",
        "        if x % i == 0:\n",
        "            return 0\n",
        "    return 1\n",
        "\n",
        "def solution(n):\n",
        "    result = 0\n",
        "\n",
        "    for i in range(1, n+1):\n",
        "        result += is_prime_number(i)\n",
        "\n",
        "    return result - 1"
      ],
      "metadata": {
        "id": "o05Qbci-h6OJ"
      },
      "execution_count": null,
      "outputs": []
    },
    {
      "cell_type": "markdown",
      "source": [
        "## 3진법 뒤집기 Lv.1"
      ],
      "metadata": {
        "id": "L7b9yc7JTACT"
      }
    },
    {
      "cell_type": "code",
      "source": [
        "# 내 답\n",
        "\n",
        "def solution(n):\n",
        "    s = ''\n",
        "\n",
        "    while n:\n",
        "        s += str(n % 3)\n",
        "        n //= 3\n",
        "\n",
        "    return int(s, 3)"
      ],
      "metadata": {
        "colab": {
          "base_uri": "https://localhost:8080/"
        },
        "id": "3kab5wNhTNH1",
        "outputId": "a6a0e1a8-c864-4e4b-994a-3d5b77be0743"
      },
      "execution_count": 8,
      "outputs": [
        {
          "output_type": "execute_result",
          "data": {
            "text/plain": [
              "7"
            ]
          },
          "metadata": {},
          "execution_count": 8
        }
      ]
    },
    {
      "cell_type": "markdown",
      "source": [
        "## 삼총사 Lv.1"
      ],
      "metadata": {
        "id": "OvXkeK93T3FY"
      }
    },
    {
      "cell_type": "code",
      "source": [
        "# 내 답\n",
        "\n",
        "def solution(number):\n",
        "    n = len(number)\n",
        "    result = 0\n",
        "\n",
        "    for i in range(n-2):\n",
        "        for j in range(i+1, n-1):\n",
        "            for k in range(j+1, n):\n",
        "                if number[i] + number[j] + number[k] == 0:\n",
        "                    result += 1\n",
        "\n",
        "    return result"
      ],
      "metadata": {
        "id": "2EnYPihQd9ZY"
      },
      "execution_count": null,
      "outputs": []
    },
    {
      "cell_type": "code",
      "source": [
        "def solution (number) :\n",
        "    from itertools import combinations\n",
        "    cnt = 0\n",
        "    for i in combinations(number,3) :\n",
        "        if sum(i) == 0 :\n",
        "            cnt += 1\n",
        "    return cnt"
      ],
      "metadata": {
        "id": "IL-nxFPchhci"
      },
      "execution_count": null,
      "outputs": []
    }
  ]
}