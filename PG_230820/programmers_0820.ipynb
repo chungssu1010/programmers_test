{
  "nbformat": 4,
  "nbformat_minor": 0,
  "metadata": {
    "colab": {
      "provenance": []
    },
    "kernelspec": {
      "name": "python3",
      "display_name": "Python 3"
    },
    "language_info": {
      "name": "python"
    }
  },
  "cells": [
    {
      "cell_type": "markdown",
      "source": [
        "## 옹알이 (1) Lv.0"
      ],
      "metadata": {
        "id": "-qedclr4iShf"
      }
    },
    {
      "cell_type": "code",
      "source": [
        "# 내 답\n",
        "\n",
        "def solution(babbling):\n",
        "    word = [\"aya\", \"ye\", \"woo\", \"ma\"]\n",
        "    result = 0\n",
        "\n",
        "    for i in babbling:\n",
        "        for j in word:\n",
        "            i = i.replace(j, ' ')\n",
        "\n",
        "        if i.replace(' ', '') == '':\n",
        "            result += 1\n",
        "\n",
        "    return result"
      ],
      "metadata": {
        "id": "g6Iezxf5iUej"
      },
      "execution_count": null,
      "outputs": []
    },
    {
      "cell_type": "code",
      "source": [
        "import re\n",
        "\n",
        "def solution(babbling):\n",
        "    regex = re.compile('^(aya|ye|woo|ma)+$')\n",
        "    cnt=0\n",
        "    for e in babbling:\n",
        "        if regex.match(e):\n",
        "            cnt+=1\n",
        "    return cnt"
      ],
      "metadata": {
        "id": "5wJwDqS8iz3E"
      },
      "execution_count": null,
      "outputs": []
    }
  ]
}