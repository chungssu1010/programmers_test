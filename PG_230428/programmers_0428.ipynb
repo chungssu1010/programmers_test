{
  "nbformat": 4,
  "nbformat_minor": 0,
  "metadata": {
    "colab": {
      "provenance": [],
      "toc_visible": true
    },
    "kernelspec": {
      "name": "python3",
      "display_name": "Python 3"
    },
    "language_info": {
      "name": "python"
    }
  },
  "cells": [
    {
      "cell_type": "markdown",
      "source": [
        "# 숫자 비교하기\n",
        "\n",
        "*정수 num1과 num2가 매개변수로 주어집니다. 두 수가 같으면 1 다르면 -1을 retrun하도록 solution 함수를 완성해주세요."
      ],
      "metadata": {
        "id": "gQqfC8K86s0j"
      }
    },
    {
      "cell_type": "code",
      "source": [
        "# 내 답\n",
        "def solution(num1, num2):\n",
        "    if num1 == num2:\n",
        "        return 1\n",
        "    else:\n",
        "        return -1"
      ],
      "metadata": {
        "id": "GRJKvxmY6r_F"
      },
      "execution_count": null,
      "outputs": []
    },
    {
      "cell_type": "code",
      "source": [
        "def solution(num1, num2):\n",
        "    if num1 == num2:\n",
        "        return 1\n",
        "    return -1   # else 생략 가능"
      ],
      "metadata": {
        "id": "-WIoE-Ew__24"
      },
      "execution_count": null,
      "outputs": []
    },
    {
      "cell_type": "code",
      "source": [
        "# 좋은 풀이\n",
        "def solution(num1, num2):\n",
        "    return 1 if num1 == num2 else -1"
      ],
      "metadata": {
        "id": "9gYtwT5Y8NY_"
      },
      "execution_count": null,
      "outputs": []
    },
    {
      "cell_type": "markdown",
      "source": [
        "# 나이 출력\n",
        "\n",
        "* 머쓱이는 40살인 선생님이 몇 년도에 태어났는지 궁금해졌습니다. 나이 age가 주어질 때, 2022년을 기준 출생 연도를 return 하는 solution 함수를 완성해주세요."
      ],
      "metadata": {
        "id": "xQAQ2g0v8l1O"
      }
    },
    {
      "cell_type": "code",
      "source": [
        "# 내 답\n",
        "def solution(age):\n",
        "    return 2022 - age + 1"
      ],
      "metadata": {
        "id": "DwAxJxzT8qKi"
      },
      "execution_count": null,
      "outputs": []
    },
    {
      "cell_type": "markdown",
      "source": [
        "# 각도기\n",
        "\n",
        "* 각에서 0도 초과 90도 미만은 예각, 90도는 직각, 90도 초과 180도 미만은 둔각 180도는 평각으로 분류합니다. 각 angle이 매개변수로 주어질 때 예각일 때 1, 직각일 때 2, 둔각일 때 3, 평각일 때 4를 return하도록 solution 함수를 완성해주세요."
      ],
      "metadata": {
        "id": "mY0-PiRAA9WS"
      }
    },
    {
      "cell_type": "code",
      "source": [
        "# 내 답\n",
        "def solution(angle):\n",
        "    if 0 < angle < 90:\n",
        "        return 1\n",
        "    elif angle == 90:\n",
        "        return 2\n",
        "    elif 90 < angle < 180:  # angle < 180 이라고 해도 가능. angle <= 90 이였으면 앞에서 return 됐으므로\n",
        "        return 3\n",
        "    else:\n",
        "        return 4"
      ],
      "metadata": {
        "id": "eBy63WmxA_3p"
      },
      "execution_count": null,
      "outputs": []
    },
    {
      "cell_type": "markdown",
      "source": [
        "# 배열의 평균값\n",
        "\n",
        "* 정수 배열 numbers가 매개변수로 주어집니다. numbers의 원소의 평균값을 return하도록 solution 함수를 완성해주세요."
      ],
      "metadata": {
        "id": "MXCwvgLJJ7ys"
      }
    },
    {
      "cell_type": "code",
      "source": [
        "# 내 답\n",
        "def solution(numbers):\n",
        "    return sum(numbers) / len(numbers)"
      ],
      "metadata": {
        "id": "ZN-MBPgJJ7es"
      },
      "execution_count": null,
      "outputs": []
    },
    {
      "cell_type": "code",
      "source": [
        "# 출처: 프로그래머스 코딩 테스트 연습\n",
        "# https://school.programmers.co.kr/learn/challenges"
      ],
      "metadata": {
        "id": "4_9TboxtKg8h"
      },
      "execution_count": null,
      "outputs": []
    }
  ]
}