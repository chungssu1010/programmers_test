{
  "nbformat": 4,
  "nbformat_minor": 0,
  "metadata": {
    "colab": {
      "provenance": []
    },
    "kernelspec": {
      "name": "python3",
      "display_name": "Python 3"
    },
    "language_info": {
      "name": "python"
    }
  },
  "cells": [
    {
      "cell_type": "markdown",
      "source": [
        "## 과일 장수 Lv.1"
      ],
      "metadata": {
        "id": "7nTrUwxRjd0n"
      }
    },
    {
      "cell_type": "code",
      "execution_count": null,
      "metadata": {
        "id": "mkBbtEjYjRZo"
      },
      "outputs": [],
      "source": [
        "# 내 답\n",
        "\n",
        "def solution(k, m, score):\n",
        "    score = sorted(score, reverse=True)\n",
        "\n",
        "    result = 0\n",
        "\n",
        "    for i in range(len(score) // m):\n",
        "        result += min(score[i*m:(i+1)*m]) * m\n",
        "\n",
        "    return result"
      ]
    },
    {
      "cell_type": "code",
      "source": [
        "def solution(k, m, score):\n",
        "    return sum(sorted(score)[len(score)%m::m])*m"
      ],
      "metadata": {
        "id": "Ds3OuGHLjjYW"
      },
      "execution_count": null,
      "outputs": []
    }
  ]
}