{
  "nbformat": 4,
  "nbformat_minor": 0,
  "metadata": {
    "colab": {
      "provenance": []
    },
    "kernelspec": {
      "name": "python3",
      "display_name": "Python 3"
    },
    "language_info": {
      "name": "python"
    }
  },
  "cells": [
    {
      "cell_type": "markdown",
      "source": [
        "## 완주하지 못한 선수 Lv.1"
      ],
      "metadata": {
        "id": "s5V8NT2NFm0f"
      }
    },
    {
      "cell_type": "code",
      "execution_count": null,
      "metadata": {
        "id": "awDQ-sXdA4qZ"
      },
      "outputs": [],
      "source": [
        "# 내 답\n",
        "\n",
        "def solution(participant, completion):\n",
        "\n",
        "    participant.sort()\n",
        "    completion.sort()\n",
        "\n",
        "    for i in range(len(completion)):\n",
        "        if participant[i] != completion[i]:\n",
        "            return participant[i]\n",
        "\n",
        "    return ''.join(participant[-1:])"
      ]
    },
    {
      "cell_type": "code",
      "source": [
        "import collections\n",
        "\n",
        "\n",
        "def solution(participant, completion):\n",
        "    answer = collections.Counter(participant) - collections.Counter(completion)\n",
        "    return list(answer.keys())[0]"
      ],
      "metadata": {
        "id": "NfgzSVDuF5Yf"
      },
      "execution_count": null,
      "outputs": []
    }
  ]
}