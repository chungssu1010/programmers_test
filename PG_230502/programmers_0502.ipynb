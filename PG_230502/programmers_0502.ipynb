{
  "nbformat": 4,
  "nbformat_minor": 0,
  "metadata": {
    "colab": {
      "provenance": []
    },
    "kernelspec": {
      "name": "python3",
      "display_name": "Python 3"
    },
    "language_info": {
      "name": "python"
    }
  },
  "cells": [
    {
      "cell_type": "markdown",
      "source": [
        "## 학점"
      ],
      "metadata": {
        "id": "EWyJZHUthxHk"
      }
    },
    {
      "cell_type": "code",
      "execution_count": null,
      "metadata": {
        "id": "p1mEtP4GhfTY"
      },
      "outputs": [],
      "source": [
        "score = int(input('점수를 입력하세요 : '))\n",
        "결석일수 = int(input('결석을 몇 번 했는지 적으세요 : '))\n",
        "\n",
        "if 결석일수 >= 3:\n",
        "    print('F')\n",
        "elif score >= 90:\n",
        "    print('A')\n",
        "elif score >= 80:\n",
        "    print('B')\n",
        "elif score >= 60:\n",
        "    print('C')\n",
        "elif score >= 40: \n",
        "    print('D')  \n",
        "else:\n",
        "    print('F')"
      ]
    },
    {
      "cell_type": "code",
      "source": [
        "score = int(input('점수를 입력하세요 : '))\n",
        "결석일수 = int(input('결석을 몇 번 했는지 적으세요 : '))\n",
        "\n",
        "if 결석일수 < 3:\n",
        "    if score >= 90:\n",
        "        print('A')\n",
        "    elif score >= 80:\n",
        "        print('B')\n",
        "    elif score >= 60:\n",
        "        print('C')\n",
        "    elif score >= 40: \n",
        "        print('D')\n",
        "    else:\n",
        "        print('F')\n",
        "else:\n",
        "    print('F')"
      ],
      "metadata": {
        "id": "dSGNN4NtiBL9"
      },
      "execution_count": null,
      "outputs": []
    },
    {
      "cell_type": "markdown",
      "source": [
        "## 홀수, 짝수 구별"
      ],
      "metadata": {
        "id": "ttEtAYQRiEVU"
      }
    },
    {
      "cell_type": "code",
      "source": [
        "num = int(input('숫자를 입력하세요 : '))\n",
        "\n",
        "if num % 2 == 0:\n",
        "    print(f'{num}은 짝수입니다.')\n",
        "else:\n",
        "    print(f'{num}은 홀수입니다.')"
      ],
      "metadata": {
        "id": "22YuGX58iGUH"
      },
      "execution_count": null,
      "outputs": []
    },
    {
      "cell_type": "markdown",
      "source": [
        "## 커피 사고 거스름돈 주기\n",
        "\n",
        "* money에는 현재 돈이 얼마 있는지 input으로 받고\n",
        "* 커피는 600원,  1000원, 1500원 세가지가 있습니다.\n",
        "* 돈이 있어서 커피를 샀으면 거스름돈을 계산하고 만약에 돈이 부족하면 메세지를 띄워주세요."
      ],
      "metadata": {
        "id": "7YcSt-m1iI_h"
      }
    },
    {
      "cell_type": "code",
      "source": [
        "money = int(input('현재 얼마있습니까 : '))\n",
        "coffee = int(input('어떤 커피를 구매하시겠습니까? (600, 1000, 1500) : '))\n",
        "거스름돈 = money-coffee\n",
        "\n",
        "if coffee == 1500:\n",
        "    if money >= 1500:\n",
        "        print(f'구매되었습니다. 거스름돈은 {거스름돈}입니다.')\n",
        "    else:\n",
        "        print('잔액이 부족합니다.')\n",
        "elif coffee == 1000:\n",
        "    if money >= 1000:\n",
        "        print(f'구매되었습니다. 거스름돈은 {거스름돈}입니다.')\n",
        "    else:\n",
        "        print('잔액이 부족합니다.')\n",
        "elif coffee == 600:\n",
        "    if money >= 600:\n",
        "        print(f'구매되었습니다. 거스름돈은 {거스름돈}입니다.')\n",
        "    else:\n",
        "        print('잔액이 부족합니다.')"
      ],
      "metadata": {
        "id": "gQCaOQX1iNF5"
      },
      "execution_count": null,
      "outputs": []
    },
    {
      "cell_type": "code",
      "source": [
        "money = int(input('현재 얼마있습니까? : '))\n",
        "coffee = int(input('얼마짜리 커피?(600, 1000, 1500 중 택1 : '))\n",
        "거스름돈 = money - coffee\n",
        "\n",
        "if (coffee == 600 or 1000 or 1500) and money - coffee >= 0:\n",
        "    print(f'거스름돈은{거스름돈}입니다.')\n",
        "else:\n",
        "    print('잔액부족')"
      ],
      "metadata": {
        "id": "1eP_VK-kilT1"
      },
      "execution_count": null,
      "outputs": []
    },
    {
      "cell_type": "code",
      "source": [
        "# dic 활용\n",
        "money = int(input('현재 얼마있습니까 : '))\n",
        "coffee = int(input('어떤 커피를 구매하시겠습니까? (600, 1000, 1500) : '))\n",
        "\n",
        "prices = {600: '600원', 1000: '1000원', 1500: '1500원'}\n",
        "if coffee not in prices:\n",
        "    print('잘못된 커피값입니다. 600, 1000, 1500 중 하나를 입력해주세요.')\n",
        "else:\n",
        "    if money >= coffee: \n",
        "        change = money - coffee\n",
        "        print(f\"{prices[coffee]} 커피를 구매하셨습니다. 거스름돈은 {change}원 입니다.\")\n",
        "    else:\n",
        "        print('잔액이 부족합니다.')"
      ],
      "metadata": {
        "id": "H8zRwmJri2Cz"
      },
      "execution_count": null,
      "outputs": []
    },
    {
      "cell_type": "markdown",
      "source": [
        "## 만나이로 변경\n",
        "\n",
        "* 태어난 연도를 입력받아 생애주기 받기 2023년 6월 28일부터 만나이로 변경이 되면서\n",
        "* 나이에 혼선이 생기고 있는 가운데 정부 연령기준에 맞춰 자신이 어떤 나이대인지 찾아보자\n",
        "* 태어난 연도를 입력받는다.\n",
        "* 만나이 적용 날짜를 산출한다.\n",
        "* if문을 통해 어떤 종류의 생애주기 인지를 출력한다.\n",
        "* 만나이를 계산하고, 만나이 기준 생애주기를 출력하세요."
      ],
      "metadata": {
        "id": "IyjoRx3Hi8l2"
      }
    },
    {
      "cell_type": "code",
      "source": [
        "import datetime\n",
        "from datetime import timedelta, timezone\n",
        "\n",
        "year = int(input('태어난 연도를 입력하세요 : '))\n",
        "month = int(input('태어난 월을 입력하세요 : '))\n",
        "day = int(input('태어난 일을 입력하세요 : '))\n",
        "\n",
        "birthday = datetime.date(year, month, day)\n",
        "\n",
        "# 현재 날짜\n",
        "# today = datetime.date.today()\n",
        "\n",
        "# 만 나이 적용일자\n",
        "# datetime.date(2023, 6, 28)\n",
        "\n",
        "d_day = datetime.date(2023, 6, 28)\n",
        "\n",
        "# 만나이 계산\n",
        "\n",
        "age = d_day.year - birthday.year - ((d_day.month, d_day.day) < (birthday.month, birthday.day))"
      ],
      "metadata": {
        "id": "EgHcb8RZi95o"
      },
      "execution_count": null,
      "outputs": []
    },
    {
      "cell_type": "markdown",
      "source": [
        "## for문 활용 1"
      ],
      "metadata": {
        "id": "dmgeN81rjHqo"
      }
    },
    {
      "cell_type": "code",
      "source": [
        "for i in range(100):\n",
        "    print(f'{i} 물고기를 잡았습니다')\n",
        "    if i == 5:\n",
        "        print('만선입니다.')\n",
        "        break\n",
        "else:\n",
        "    print('아직 여유가 있습니다.')\n",
        "print('수고하셨습니다.')"
      ],
      "metadata": {
        "colab": {
          "base_uri": "https://localhost:8080/"
        },
        "id": "mvqkRfByjJZo",
        "outputId": "b113d223-d01a-4d1a-d58c-ec4fb08cf582"
      },
      "execution_count": 1,
      "outputs": [
        {
          "output_type": "stream",
          "name": "stdout",
          "text": [
            "0 물고기를 잡았습니다\n",
            "1 물고기를 잡았습니다\n",
            "2 물고기를 잡았습니다\n",
            "3 물고기를 잡았습니다\n",
            "4 물고기를 잡았습니다\n",
            "5 물고기를 잡았습니다\n",
            "만선입니다.\n",
            "수고하셨습니다.\n"
          ]
        }
      ]
    },
    {
      "cell_type": "markdown",
      "source": [
        "## for문 활용 2"
      ],
      "metadata": {
        "id": "6iM_FGj7jU9O"
      }
    },
    {
      "cell_type": "code",
      "source": [
        "l = [0, 3, -1, 10]\n",
        "\n",
        "for x in l:\n",
        "    if x < 0:\n",
        "        print('음수가 발견되었습니다. 프로그램을 종료합니다.')\n",
        "        break\n",
        "else:\n",
        "    print('음수를 발견하지 못했습니다.')"
      ],
      "metadata": {
        "colab": {
          "base_uri": "https://localhost:8080/"
        },
        "id": "dfZXPDEqjXmq",
        "outputId": "26021923-0359-4f7e-ec81-072eaa8649f9"
      },
      "execution_count": 2,
      "outputs": [
        {
          "output_type": "stream",
          "name": "stdout",
          "text": [
            "음수가 발견되었습니다. 프로그램을 종료합니다.\n"
          ]
        }
      ]
    },
    {
      "cell_type": "markdown",
      "source": [
        "## for문 활용 3"
      ],
      "metadata": {
        "id": "JF2D9rVAjb_b"
      }
    },
    {
      "cell_type": "code",
      "source": [
        "for i in range(10):\n",
        "\n",
        "    if i == 3:\n",
        "        break\n",
        "    \n",
        "    if i == 1:\n",
        "        continue\n",
        "\n",
        "print(i)"
      ],
      "metadata": {
        "colab": {
          "base_uri": "https://localhost:8080/"
        },
        "id": "9_aJqFwEjgoR",
        "outputId": "1dca4989-0e37-4488-c022-e6f6fb89b623"
      },
      "execution_count": 3,
      "outputs": [
        {
          "output_type": "stream",
          "name": "stdout",
          "text": [
            "3\n"
          ]
        }
      ]
    },
    {
      "cell_type": "code",
      "source": [
        "for i in range(10):\n",
        "\n",
        "    if i == 3:\n",
        "        break\n",
        "    \n",
        "    if i == 1:\n",
        "        continue\n",
        "\n",
        "    print(i)"
      ],
      "metadata": {
        "colab": {
          "base_uri": "https://localhost:8080/"
        },
        "id": "i9kaRTG1jj60",
        "outputId": "6b71f259-0049-4952-ef47-e02099c5b5bc"
      },
      "execution_count": 4,
      "outputs": [
        {
          "output_type": "stream",
          "name": "stdout",
          "text": [
            "0\n",
            "2\n"
          ]
        }
      ]
    },
    {
      "cell_type": "code",
      "source": [
        "for a in range(8):\n",
        "    a += 1\n",
        "print(a)"
      ],
      "metadata": {
        "colab": {
          "base_uri": "https://localhost:8080/"
        },
        "id": "w4Ww2ZBjj3mg",
        "outputId": "783bb5ea-a676-468c-dff5-60847e28b5db"
      },
      "execution_count": 5,
      "outputs": [
        {
          "output_type": "stream",
          "name": "stdout",
          "text": [
            "8\n"
          ]
        }
      ]
    },
    {
      "cell_type": "code",
      "source": [
        "for a in range(8):\n",
        "    a *= (a - 1)\n",
        "print(a)"
      ],
      "metadata": {
        "colab": {
          "base_uri": "https://localhost:8080/"
        },
        "id": "-OVIg3Qhj6Xn",
        "outputId": "0fddc425-df18-47e8-e6a9-35329deae002"
      },
      "execution_count": 6,
      "outputs": [
        {
          "output_type": "stream",
          "name": "stdout",
          "text": [
            "42\n"
          ]
        }
      ]
    },
    {
      "cell_type": "code",
      "source": [
        "for a in range(8):\n",
        "    a += a\n",
        "print(a)"
      ],
      "metadata": {
        "colab": {
          "base_uri": "https://localhost:8080/"
        },
        "id": "w4jkqFomj72G",
        "outputId": "a203093c-038f-4151-bea9-2e46884ea675"
      },
      "execution_count": 7,
      "outputs": [
        {
          "output_type": "stream",
          "name": "stdout",
          "text": [
            "14\n"
          ]
        }
      ]
    },
    {
      "cell_type": "code",
      "source": [
        "for a in range(8):\n",
        "    a *= 1\n",
        "print(a)"
      ],
      "metadata": {
        "colab": {
          "base_uri": "https://localhost:8080/"
        },
        "id": "qWbjc0MTj9Ub",
        "outputId": "7d6847d9-6590-4026-a32a-4004b4218739"
      },
      "execution_count": 8,
      "outputs": [
        {
          "output_type": "stream",
          "name": "stdout",
          "text": [
            "7\n"
          ]
        }
      ]
    },
    {
      "cell_type": "markdown",
      "source": [
        "## for문 활용 4 : 구구단"
      ],
      "metadata": {
        "id": "iN6iRKAhjons"
      }
    },
    {
      "cell_type": "code",
      "source": [
        "for i in range(1, 10):\n",
        "    for j in range(1, 10):\n",
        "        print(i, j, i*j)"
      ],
      "metadata": {
        "id": "3u74Falajqxv"
      },
      "execution_count": null,
      "outputs": []
    },
    {
      "cell_type": "code",
      "source": [
        "# 구구단 5단까지 출력하기\n",
        "\n",
        "for i in range(2, 10):\n",
        "    for j in range(1, 10):\n",
        "        if j > 5:\n",
        "            break\n",
        "        print(f'{i} x {j} = {i*j}')"
      ],
      "metadata": {
        "id": "yEzUP4CxkDBT"
      },
      "execution_count": null,
      "outputs": []
    },
    {
      "cell_type": "markdown",
      "source": [
        "## for문 활용 5 : 입력받은 숫자만큼 반복하기"
      ],
      "metadata": {
        "id": "BUk1BOXTlCfw"
      }
    },
    {
      "cell_type": "code",
      "source": [
        "num = int(input())\n",
        "\n",
        "for i in range(num):\n",
        "    print(num)"
      ],
      "metadata": {
        "id": "rqR9zc9nlB4i"
      },
      "execution_count": null,
      "outputs": []
    },
    {
      "cell_type": "markdown",
      "source": [
        "## for문 활용 6 : 제곱"
      ],
      "metadata": {
        "id": "tGZuoibtlYNv"
      }
    },
    {
      "cell_type": "code",
      "source": [
        "num = int(input('정수 : '))\n",
        "\n",
        "for i in range(1, num + 1):\n",
        "    print(i, i * i)"
      ],
      "metadata": {
        "id": "a8oVet_dlaix"
      },
      "execution_count": null,
      "outputs": []
    },
    {
      "cell_type": "markdown",
      "source": [
        "## while문 활용 1 : 구구단"
      ],
      "metadata": {
        "id": "CznTdvZ1kOif"
      }
    },
    {
      "cell_type": "code",
      "source": [
        "i = 2\n",
        "\n",
        "while i < 10:\n",
        "    k = 1\n",
        "    while k < 10:\n",
        "        print(i, 'x', k, '=', i * k)\n",
        "        k += 1\n",
        "    i += 1"
      ],
      "metadata": {
        "id": "dfNhtn-ekQoo"
      },
      "execution_count": null,
      "outputs": []
    },
    {
      "cell_type": "markdown",
      "source": [
        "## while문 활용 2 : 1~10까지 중 짝수 뽑기"
      ],
      "metadata": {
        "id": "M4uFcqp_kVFB"
      }
    },
    {
      "cell_type": "code",
      "source": [
        "a = 1\n",
        "\n",
        "while a < 11:\n",
        "    if a % 2 == 0:\n",
        "        print(a)\n",
        "        a += 1\n",
        "    else:\n",
        "        a += 1\n",
        "\n",
        "    if a == 0:\n",
        "        break"
      ],
      "metadata": {
        "colab": {
          "base_uri": "https://localhost:8080/"
        },
        "id": "4Xt9q5iQkUxJ",
        "outputId": "a6ac4842-8606-4f1b-bbdc-b16b269c1db9"
      },
      "execution_count": 9,
      "outputs": [
        {
          "output_type": "stream",
          "name": "stdout",
          "text": [
            "2\n",
            "4\n",
            "6\n",
            "8\n",
            "10\n"
          ]
        }
      ]
    },
    {
      "cell_type": "markdown",
      "source": [
        "## while문 활용 3"
      ],
      "metadata": {
        "id": "6eJs6FYLkZxA"
      }
    },
    {
      "cell_type": "code",
      "source": [
        "money = 2000\n",
        "snack = 500\n",
        "water = 1000\n",
        "while money != 0:\n",
        "    if money > 1000:\n",
        "        money -= water\n",
        "    elif 0 < money <= 1000:\n",
        "        money -= snack * 2\n",
        "print(money)"
      ],
      "metadata": {
        "colab": {
          "base_uri": "https://localhost:8080/"
        },
        "id": "gxsYh9XYkoaf",
        "outputId": "f1b123e3-b8ca-442d-fa1d-8f9311d62f04"
      },
      "execution_count": 10,
      "outputs": [
        {
          "output_type": "stream",
          "name": "stdout",
          "text": [
            "0\n"
          ]
        }
      ]
    },
    {
      "cell_type": "markdown",
      "source": [
        "## while문 활용 4 : 특정 데이터 제거"
      ],
      "metadata": {
        "id": "WUMuk3Chkq_7"
      }
    },
    {
      "cell_type": "code",
      "source": [
        "cust_all = [1, 2, 1, 2]\n",
        "value = 1\n",
        "\n",
        "while value in cust_all:\n",
        "    cust_all.remove(value)\n",
        "\n",
        "print(cust_all)"
      ],
      "metadata": {
        "colab": {
          "base_uri": "https://localhost:8080/"
        },
        "id": "aT_NEXR2ktxY",
        "outputId": "c9548ad7-370d-4444-896e-9b2d1b2ff656"
      },
      "execution_count": 11,
      "outputs": [
        {
          "output_type": "stream",
          "name": "stdout",
          "text": [
            "[2, 2]\n"
          ]
        }
      ]
    },
    {
      "cell_type": "markdown",
      "source": [
        "## while문 활용 5 : 1~100 사이의 숫자를 맞출 때까지 반복"
      ],
      "metadata": {
        "id": "ELOmwrU0kwZG"
      }
    },
    {
      "cell_type": "code",
      "source": [
        "import random\n",
        "\n",
        "guess_number = random.randint(1, 100)\n",
        "user_input = int(input('숫자를 입력해서 맞춰보세요'))\n",
        "\n",
        "while guess_number != user_input:\n",
        "    if user_input > guess_number:\n",
        "        print('숫자가 큽니다.')\n",
        "    else:\n",
        "        print('숫자가 작습니다.')\n",
        "    user_input = int(input('숫자를 입력해서 맞춰보세요'))\n",
        "else:\n",
        "    print('맞췄습니다.')  "
      ],
      "metadata": {
        "id": "QRz9fus4k1_R"
      },
      "execution_count": null,
      "outputs": []
    },
    {
      "cell_type": "markdown",
      "source": [
        "## while문 활용 6 : 입력받은 숫자만큼 반복하기"
      ],
      "metadata": {
        "id": "CPCZHHKjk50N"
      }
    },
    {
      "cell_type": "code",
      "source": [
        "num = int(input())\n",
        "i = 0\n",
        "\n",
        "while i < num:\n",
        "    print(num)\n",
        "    i += 1 "
      ],
      "metadata": {
        "id": "1z8jD3h4k9ix"
      },
      "execution_count": null,
      "outputs": []
    },
    {
      "cell_type": "markdown",
      "source": [
        "## while문 활용 7 : 제곱\n",
        "\n",
        "* 정수를 한 개 입력받아, 1부터 입력받은 수까지 각각에 대해 제곱을 구해 프린트하는 프로그램을 작성해 보세요. 단, while 문을 사용하세요.\n"
      ],
      "metadata": {
        "id": "oabPgTYxlImT"
      }
    },
    {
      "cell_type": "code",
      "source": [
        "num = int(input('정수 : '))\n",
        "i = 1\n",
        "\n",
        "while i <= num:\n",
        "    print(i, i * i)\n",
        "    i += 1"
      ],
      "metadata": {
        "id": "g9uAPt_VlO6k"
      },
      "execution_count": null,
      "outputs": []
    },
    {
      "cell_type": "markdown",
      "source": [
        "## while문 활용 8 : 공 튀기기\n",
        "\n",
        "* 고무 공을 100 미터 높이에서 떨어뜨리는데, 이 공은 땅에 닿을 때마다 원래 높이의 3/5 만큼 튀어오릅니다. \n",
        "* 공이 열 번 튈 동안, 그때마다 공의 높이를 계산합니다.\n"
      ],
      "metadata": {
        "id": "fBCqsObDldOC"
      }
    },
    {
      "cell_type": "code",
      "source": [
        "height = 100\n",
        "i = 1\n",
        "\n",
        "while i <= 10:\n",
        "    height *= (3/5)\n",
        "    print(i, round(height, 4))\n",
        "    i += 1"
      ],
      "metadata": {
        "colab": {
          "base_uri": "https://localhost:8080/"
        },
        "id": "1SoEbmpHlfmq",
        "outputId": "b28f738b-c64c-41f4-901d-faf1b5b610ef"
      },
      "execution_count": 12,
      "outputs": [
        {
          "output_type": "stream",
          "name": "stdout",
          "text": [
            "1 60.0\n",
            "2 36.0\n",
            "3 21.6\n",
            "4 12.96\n",
            "5 7.776\n",
            "6 4.6656\n",
            "7 2.7994\n",
            "8 1.6796\n",
            "9 1.0078\n",
            "10 0.6047\n"
          ]
        }
      ]
    },
    {
      "cell_type": "markdown",
      "source": [
        "## while문 활용 9"
      ],
      "metadata": {
        "id": "nmiU8w5VlnWr"
      }
    },
    {
      "cell_type": "code",
      "source": [
        "# 출력값은?\n",
        "\n",
        "number = 358\n",
        "\n",
        "rem = rev = 0\n",
        "while number >= 1:\n",
        "    rem = number % 10\n",
        "    rev = rev * 10 + rem\n",
        "    number = number // 10\n",
        "\n",
        "print(rev)"
      ],
      "metadata": {
        "colab": {
          "base_uri": "https://localhost:8080/"
        },
        "id": "UkgCUdGLlp7Z",
        "outputId": "f353f821-39d6-4220-a247-c8788aa52141"
      },
      "execution_count": 13,
      "outputs": [
        {
          "output_type": "stream",
          "name": "stdout",
          "text": [
            "853\n"
          ]
        }
      ]
    },
    {
      "cell_type": "markdown",
      "source": [
        "## while문 활용 10\n",
        "\n",
        "* input()으로 사용자로부터 입력받은 정수를 계속 더해나가다가, \n",
        "* 음수가 입력되면 중단하고 그 전까지 계산한 값을 출력하는 파이썬 스크립트를 작성하세요."
      ],
      "metadata": {
        "id": "UVh8KkQImdW4"
      }
    },
    {
      "cell_type": "code",
      "source": [
        "num = int(input('정수를 입력하세요 : '))\n",
        "sum = 0\n",
        "\n",
        "while num >= 0:\n",
        "    sum += num\n",
        "    num = int(input('정수를 입력하세요 : '))\n",
        "\n",
        "print(sum)"
      ],
      "metadata": {
        "id": "ujwaIuxWmjD9"
      },
      "execution_count": null,
      "outputs": []
    },
    {
      "cell_type": "code",
      "source": [
        "# 보완\n",
        "\n",
        "sum = 0\n",
        "while True:\n",
        "    num = int(input())\n",
        "    if num < 0:\n",
        "        break\n",
        "    else:\n",
        "       sum += num\n",
        "\n",
        "print(sum)"
      ],
      "metadata": {
        "id": "RAHvmHl4mmPD"
      },
      "execution_count": null,
      "outputs": []
    },
    {
      "cell_type": "markdown",
      "source": [
        "## if문 활용 1\n",
        "\n",
        "* input()을 사용해 사용자로부터 입력받은 숫자를 한글로 출력하는 프로그램을 작성하세요. \n",
        "* 단, 사용자는 1 이상 3 이하의 정수 중 하나를 입력한다고 가정합니다.\n"
      ],
      "metadata": {
        "id": "s5I-K3lGl4-D"
      }
    },
    {
      "cell_type": "code",
      "source": [
        "num = int(input('1~3사이의 정수를 입력하세요 : '))\n",
        "\n",
        "if num == 1:\n",
        "    print('일')\n",
        "elif num == 2:\n",
        "    print('이')\n",
        "else:\n",
        "    print('삼')"
      ],
      "metadata": {
        "id": "EELBUZ1Ol9Zg"
      },
      "execution_count": null,
      "outputs": []
    },
    {
      "cell_type": "markdown",
      "source": [
        "## if문 활용 2 : 세대 구분"
      ],
      "metadata": {
        "id": "fDOHpamAmBcn"
      }
    },
    {
      "cell_type": "code",
      "source": [
        "age = int(input('나이를 입력하세요 : '))\n",
        "\n",
        "if 1946 <= 2024 - age < 1965:\n",
        "    print('베이비붐 세대')\n",
        "elif 2024 - age <= 1980:\n",
        "    print('X세대')\n",
        "elif 2024 - age <= 1996:\n",
        "    print('밀레니얼 세대')\n",
        "else:\n",
        "    print('Z세대')"
      ],
      "metadata": {
        "id": "CyuIA7ERmDiz"
      },
      "execution_count": null,
      "outputs": []
    },
    {
      "cell_type": "markdown",
      "source": [
        "## if문 활용 3 : 단위 변경\n",
        "\n",
        "* 백만 이상의 숫자를 입력받았을 때 1~10만자리 숫자를 생략하고 ‘M’을 붙여서 출력하게 코드를 수정해보세요."
      ],
      "metadata": {
        "id": "7TRaJa9xmJuS"
      }
    },
    {
      "cell_type": "code",
      "source": [
        "num = int(input('숫자를 입력해주세요 : '))\n",
        "\n",
        "if num >= 1000000:\n",
        "    print(str(num // 100000) + 'M')\n",
        "else:\n",
        "    print(num)"
      ],
      "metadata": {
        "id": "n7dT7_U5mNIv"
      },
      "execution_count": null,
      "outputs": []
    },
    {
      "cell_type": "code",
      "source": [
        "#보완\n",
        "\n",
        "num = int(input())\n",
        "result = str(num)\n",
        "    \n",
        "if num >= 1000000:\n",
        "    result = str(num // 1000000) + 'M'\n",
        "\n",
        "elif num >= 0:\n",
        "    pass\n",
        "    \n",
        "print(result)"
      ],
      "metadata": {
        "id": "lCcwda8-mUDN"
      },
      "execution_count": null,
      "outputs": []
    },
    {
      "cell_type": "markdown",
      "source": [
        "## if문 활용 4 : 윤년"
      ],
      "metadata": {
        "id": "kT0xy4D2mrMi"
      }
    },
    {
      "cell_type": "code",
      "source": [
        "year = int(input('년도를 입력하세요 : '))\n",
        "\n",
        "if year % 4 == 0 and year % 100 == 0 and year % 400 == 0:\n",
        "    print('윤년')\n",
        "elif year % 4 == 0 and year % 100 == 0:\n",
        "    print('평년')\n",
        "elif year % 4 == 0:\n",
        "    print('윤년')\n",
        "else:\n",
        "    print('평년')"
      ],
      "metadata": {
        "id": "JI3e0pB2mtRQ"
      },
      "execution_count": null,
      "outputs": []
    },
    {
      "cell_type": "code",
      "source": [
        "year = int(input('년도를 입력하세요: '))\n",
        "\n",
        "if year % 4 != 0:\n",
        "    print('평년')\n",
        "elif year % 100 != 0:\n",
        "    print('윤년')\n",
        "elif year % 400 != 0:\n",
        "    print('평년')\n",
        "else:\n",
        "    print('윤년')"
      ],
      "metadata": {
        "id": "5_y0-T17mu8M"
      },
      "execution_count": null,
      "outputs": []
    },
    {
      "cell_type": "markdown",
      "source": [
        "## 배열 자르기\n",
        "\n",
        "* 정수 배열 numbers와 정수 num1, num2가 매개변수로 주어질 때, numbers의 num1번 째 인덱스부터 num2번째 인덱스까지 자른 정수 배열을 return 하도록 solution 함수를 완성해보세요."
      ],
      "metadata": {
        "id": "N1XHOmiimxWB"
      }
    },
    {
      "cell_type": "code",
      "source": [
        "def solution(numbers, num1, num2):\n",
        "    return numbers[num1 : num2 + 1] "
      ],
      "metadata": {
        "id": "4ov2LvcMm0tB"
      },
      "execution_count": null,
      "outputs": []
    }
  ]
}