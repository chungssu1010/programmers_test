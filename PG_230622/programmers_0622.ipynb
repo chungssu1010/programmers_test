{
  "nbformat": 4,
  "nbformat_minor": 0,
  "metadata": {
    "colab": {
      "provenance": []
    },
    "kernelspec": {
      "name": "python3",
      "display_name": "Python 3"
    },
    "language_info": {
      "name": "python"
    }
  },
  "cells": [
    {
      "cell_type": "markdown",
      "source": [
        "# 오픈채팅방 Lv.2 kakao\n"
      ],
      "metadata": {
        "id": "H3vYbdCR4XLE"
      }
    },
    {
      "cell_type": "code",
      "source": [
        "# 내 답\n",
        "\n",
        "def solution(record):\n",
        "    split_record = []\n",
        "    user_list = {}\n",
        "    result = []\n",
        "\n",
        "    for i in record:\n",
        "        split_record.append(i.split(' '))\n",
        "\n",
        "    for i in split_record:\n",
        "        if i[0] == 'Enter':\n",
        "            user_list[i[1]] = i[2]\n",
        "        if i[0] == 'Change':\n",
        "            user_list[i[1]] = i[2]\n",
        "\n",
        "    for i in split_record:\n",
        "        if i[0] == 'Enter':\n",
        "            result.append(f'{user_list[i[1]]}님이 들어왔습니다.')\n",
        "        if i[0] == 'Leave':\n",
        "            result.append(f'{user_list[i[1]]}님이 나갔습니다.')\n",
        "\n",
        "    return result"
      ],
      "metadata": {
        "id": "1Wbs6BpJ4aVI"
      },
      "execution_count": null,
      "outputs": []
    },
    {
      "cell_type": "code",
      "source": [
        "def solution(record):\n",
        "    answer = []\n",
        "    user = {}\n",
        "\n",
        "    for log in record:\n",
        "        split_data = log.split(' ')\n",
        "        if split_data[0] == 'Enter':\n",
        "            user[split_data[1]] = split_data[2]\n",
        "            answer.append([f'{split_data[1]}', '님이 들어왔습니다.'])\n",
        "        if split_data[0] == 'Leave':\n",
        "            answer.append([f'{split_data[1]}', '님이 나갔습니다.'])\n",
        "        if split_data[0] == 'Change':\n",
        "            user[split_data[1]] = split_data[2]\n",
        "\n",
        "    print(answer)\n",
        "    return [user[key] + p for key, p in answer]"
      ],
      "metadata": {
        "id": "baQTCMulQ8sj"
      },
      "execution_count": null,
      "outputs": []
    },
    {
      "cell_type": "markdown",
      "source": [
        "# [1차] 캐시 Lv.2 kakao"
      ],
      "metadata": {
        "id": "hdBuSucy-7Ah"
      }
    },
    {
      "cell_type": "code",
      "source": [
        "# 내 답\n",
        "\n",
        "def solution(cacheSize, cities):\n",
        "    arr = []\n",
        "    result = 0\n",
        "\n",
        "    if cacheSize == 0:\n",
        "        return len(cities) * 5\n",
        "\n",
        "    for city in cities:\n",
        "        city = city.lower()\n",
        "        if city in arr:\n",
        "            result += 1\n",
        "            arr.remove(city)\n",
        "        else:\n",
        "            result += 5\n",
        "\n",
        "        if len(arr) < cacheSize:\n",
        "            arr.append(city)\n",
        "        else:\n",
        "            arr.pop(0)\n",
        "            arr.append(city)\n",
        "\n",
        "    return result"
      ],
      "metadata": {
        "id": "8uYKv7kS-_5F"
      },
      "execution_count": null,
      "outputs": []
    },
    {
      "cell_type": "code",
      "source": [
        "from collections import deque\n",
        "\n",
        "def solution(cacheSize, cities):\n",
        "    l = []\n",
        "    cache = deque(l, maxlen=cacheSize)\n",
        "    answer = 0\n",
        "    for city in cities:\n",
        "        city = city.lower()\n",
        "        if city in cache:\n",
        "            answer += 1\n",
        "            cache.remove(city)\n",
        "            cache.append(city)\n",
        "        else:\n",
        "            cache.append(city)\n",
        "            answer += 5\n",
        "    return answer"
      ],
      "metadata": {
        "id": "2q9eFC1ORPXN"
      },
      "execution_count": null,
      "outputs": []
    },
    {
      "cell_type": "markdown",
      "source": [
        "# 실패율 Lv.1 kakao"
      ],
      "metadata": {
        "id": "KFaoUjGtP_tx"
      }
    },
    {
      "cell_type": "code",
      "source": [
        "# 내 답\n",
        "\n",
        "from collections import Counter\n",
        "\n",
        "def solution(N, stages):\n",
        "    total = len(stages)\n",
        "    count_people = Counter(stages)\n",
        "    result = {}\n",
        "\n",
        "    for i in range(1, N+1):\n",
        "        result[i] = 0\n",
        "\n",
        "    for i in result:\n",
        "        if total != 0:\n",
        "            result[i] = count_people[i] / total\n",
        "        total -= count_people[i]\n",
        "\n",
        "    return sorted(result, key=lambda x:result[x], reverse=True)"
      ],
      "metadata": {
        "id": "A5iYRFjoQD0m"
      },
      "execution_count": null,
      "outputs": []
    },
    {
      "cell_type": "markdown",
      "source": [
        "# 다항식 더하기 Lv.0"
      ],
      "metadata": {
        "id": "3XltojEwRkd_"
      }
    },
    {
      "cell_type": "code",
      "source": [
        "# 내 답\n",
        "\n",
        "def solution(polynomial):\n",
        "    spl = []\n",
        "    sum_x = 0\n",
        "    sum_ = 0\n",
        "    spl = polynomial.split('+')\n",
        "\n",
        "    for i in spl:\n",
        "        i = i.strip()\n",
        "        if 'x' in i:\n",
        "            if i[:-1].isdigit():\n",
        "                sum_x += int(i[:-1])\n",
        "            else:\n",
        "                sum_x += 1\n",
        "        else:\n",
        "            sum_ += int(i)\n",
        "\n",
        "    if sum_x == 0 and sum_ == 0:\n",
        "        return ''\n",
        "    elif sum_x == 1 and sum_ == 0:\n",
        "        return 'x'\n",
        "    elif sum_x == 0:\n",
        "        return str(sum_)\n",
        "    elif sum_ == 0:\n",
        "        return str(sum_x) + 'x'\n",
        "    elif sum_x == 1:\n",
        "        return 'x' + ' ' + '+' + ' ' + str(sum_)\n",
        "    else:\n",
        "        return str(sum_x) + 'x' + ' ' + '+' + ' ' + str(sum_)"
      ],
      "metadata": {
        "id": "ejJe3gWSZdzf"
      },
      "execution_count": null,
      "outputs": []
    },
    {
      "cell_type": "code",
      "source": [
        "def solution(polynomial):\n",
        "    sum_x = 0\n",
        "    sum_ = 0\n",
        "    for i in polynomial.split(' + '):\n",
        "        if i.isdigit():\n",
        "            sum_ += int(i)\n",
        "        else:\n",
        "            if i == 'x':\n",
        "                sum_x += 1\n",
        "            else:\n",
        "                sum_x += int(i[:-1])\n",
        "\n",
        "    if sum_x == 0:\n",
        "        return str(sum_)\n",
        "    elif sum_x==1:\n",
        "        return 'x + ' + str(sum_) if sum_!= 0 else 'x'\n",
        "    else:\n",
        "        return f'{sum_x}x + {sum_}' if sum_!= 0 else f'{sum_x}x'"
      ],
      "metadata": {
        "id": "l9ujG9XtbmaZ"
      },
      "execution_count": null,
      "outputs": []
    }
  ]
}