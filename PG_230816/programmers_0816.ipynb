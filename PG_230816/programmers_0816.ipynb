{
  "nbformat": 4,
  "nbformat_minor": 0,
  "metadata": {
    "colab": {
      "provenance": []
    },
    "kernelspec": {
      "name": "python3",
      "display_name": "Python 3"
    },
    "language_info": {
      "name": "python"
    }
  },
  "cells": [
    {
      "cell_type": "markdown",
      "source": [
        "## 안전지대 Lv.0"
      ],
      "metadata": {
        "id": "TUDLk_V6WzQg"
      }
    },
    {
      "cell_type": "code",
      "source": [
        "# 내 답\n",
        "\n",
        "import numpy as np\n",
        "\n",
        "def solution(board):\n",
        "\n",
        "    mt = np.array(board)\n",
        "    result = 0\n",
        "\n",
        "    for r, c in zip(np.where(mt == 1)[0], np.where(mt == 1)[1]):\n",
        "        if r == 0 and c == 0:\n",
        "            mt[0:r+2, 0:c+2] = 1\n",
        "        elif r == 0:\n",
        "            mt[0:r+2, c-1:c+2] = 1\n",
        "        elif c == 0:\n",
        "            mt[r-1:r+2, 0:c+2] = 1\n",
        "        else:\n",
        "            mt[r-1:r+2, c-1:c+2] = 1\n",
        "\n",
        "    return len(mt[mt == 0])"
      ],
      "metadata": {
        "id": "5uNJ6f8VPais"
      },
      "execution_count": 31,
      "outputs": []
    },
    {
      "cell_type": "code",
      "source": [
        "def solution(board):\n",
        "    n = len(board)\n",
        "    danger = set()\n",
        "    for i, row in enumerate(board):\n",
        "        for j, x in enumerate(row):\n",
        "            if not x:\n",
        "                continue\n",
        "            danger.update((i+di, j+dj) for di in [-1,0,1] for dj in [-1, 0, 1])\n",
        "    return n*n - sum(0 <= i < n and 0 <= j < n for i, j in danger)"
      ],
      "metadata": {
        "id": "mC2AWzvlXRU3"
      },
      "execution_count": null,
      "outputs": []
    }
  ]
}