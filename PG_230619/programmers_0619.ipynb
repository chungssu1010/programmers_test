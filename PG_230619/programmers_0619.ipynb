{
  "nbformat": 4,
  "nbformat_minor": 0,
  "metadata": {
    "colab": {
      "provenance": []
    },
    "kernelspec": {
      "name": "python3",
      "display_name": "Python 3"
    },
    "language_info": {
      "name": "python"
    }
  },
  "cells": [
    {
      "cell_type": "markdown",
      "source": [
        "# 2차원으로 만들기 Lv.0\n",
        "num_list가 [1, 2, 3, 4, 5, 6, 7, 8] 로 길이가 8이고 n이 2이므로 num_list를 2 * 4 배열로 다음과 같이 변경합니다. 2차원으로 바꿀 때에는 num_list의 원소들을 앞에서부터 n개씩 나눠 2차원 배열로 변경합니다."
      ],
      "metadata": {
        "id": "oNbKrj_GVoQB"
      }
    },
    {
      "cell_type": "code",
      "source": [
        "# 내 답\n",
        "\n",
        "def solution(num_list, n):\n",
        "    result = []\n",
        "    for i in range(len(num_list)//n):\n",
        "        result.append(num_list[i*n:(i+1)*n])\n",
        "\n",
        "    return result"
      ],
      "metadata": {
        "id": "Vmdr3QUaVm8e"
      },
      "execution_count": null,
      "outputs": []
    },
    {
      "cell_type": "code",
      "source": [
        "def solution(num_list, n):\n",
        "    answer = []\n",
        "    for i in range(0, len(num_list), n):\n",
        "        answer.append(num_list[i:i+n])\n",
        "    return answer"
      ],
      "metadata": {
        "id": "dhtPGm7fV47P"
      },
      "execution_count": null,
      "outputs": []
    },
    {
      "cell_type": "markdown",
      "source": [
        "# 최댓값 만들기 (2) Lv.0\n",
        "정수 배열 numbers가 매개변수로 주어집니다. numbers의 원소 중 두 개를 곱해 만들 수 있는 최댓값을 return하도록 solution 함수를 완성해주세요.\n",
        "\n"
      ],
      "metadata": {
        "id": "k3zFT177bWfA"
      }
    },
    {
      "cell_type": "code",
      "source": [
        "# 내 답\n",
        "\n",
        "def solution(numbers):\n",
        "    a = sorted(numbers)[-1] * sorted(numbers)[-2]\n",
        "    b = sorted(numbers)[0] * sorted(numbers)[1]\n",
        "    if a > b:\n",
        "        return a\n",
        "    else:\n",
        "        return b"
      ],
      "metadata": {
        "id": "OPdJPwszbaje"
      },
      "execution_count": null,
      "outputs": []
    },
    {
      "cell_type": "code",
      "source": [
        "def solution(numbers):\n",
        "    numbers = sorted(numbers)\n",
        "    return max(numbers[0] * numbers[1], numbers[-1]*numbers[-2])"
      ],
      "metadata": {
        "id": "N-0fqKKlbkS7"
      },
      "execution_count": null,
      "outputs": []
    },
    {
      "cell_type": "markdown",
      "source": [
        "# A로 B 만들기 Lv.0\n",
        "문자열 before와 after가 매개변수로 주어질 때, before의 순서를 바꾸어 after를 만들 수 있으면 1을, 만들 수 없으면 0을 return 하도록 solution 함수를 완성해보세요."
      ],
      "metadata": {
        "id": "GJtpUVEhCYBs"
      }
    },
    {
      "cell_type": "code",
      "source": [
        "# 내 답\n",
        "\n",
        "def solution(before, after):\n",
        "    if sorted(before) == sorted(after):\n",
        "        return 1\n",
        "    else:\n",
        "        return 0"
      ],
      "metadata": {
        "id": "9zixu_xSCbiH"
      },
      "execution_count": null,
      "outputs": []
    },
    {
      "cell_type": "markdown",
      "source": [
        "# k의 개수 Lv.0\n",
        "1부터 13까지의 수에서, 1은 1, 10, 11, 12, 13 이렇게 총 6번 등장합니다. 정수 i, j, k가 매개변수로 주어질 때, i부터 j까지 k가 몇 번 등장하는지 return 하도록 solution 함수를 완성해주세요."
      ],
      "metadata": {
        "id": "bhYLQ3TqO90H"
      }
    },
    {
      "cell_type": "code",
      "source": [
        "# 내 답\n",
        "\n",
        "def solution(i, j, k):\n",
        "    result = []\n",
        "    for x in range(i, j+1):\n",
        "        result.append(x)\n",
        "\n",
        "    return str(result).count(str(k))"
      ],
      "metadata": {
        "id": "X-OqGjJhPCr0"
      },
      "execution_count": null,
      "outputs": []
    },
    {
      "cell_type": "code",
      "source": [
        "def solution(i, j, k):\n",
        "    answer = sum([str(i).count(str(k)) for i in range(i, j+1)])\n",
        "    return answer"
      ],
      "metadata": {
        "id": "dtHKUPZnPNnz"
      },
      "execution_count": null,
      "outputs": []
    },
    {
      "cell_type": "code",
      "source": [
        "def solution(i, j, k):\n",
        "    return sum(map(lambda v: str(v).count(str(k)), range(i, j+1)))"
      ],
      "metadata": {
        "id": "iEuu5s_XPOVo"
      },
      "execution_count": null,
      "outputs": []
    }
  ]
}