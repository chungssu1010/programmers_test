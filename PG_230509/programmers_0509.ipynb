{
  "nbformat": 4,
  "nbformat_minor": 0,
  "metadata": {
    "colab": {
      "provenance": []
    },
    "kernelspec": {
      "name": "python3",
      "display_name": "Python 3"
    },
    "language_info": {
      "name": "python"
    }
  },
  "cells": [
    {
      "cell_type": "markdown",
      "source": [
        "## 나머지가 1이 되는 수 찾기\n",
        "* 자연수 n이 매개변수로 주어집니다. n을 x로 나눈 나머지가 1이 되도록 하는 가장 작은 자연수 x를 return 하도록 solution 함수를 완성해주세요. 답이 항상 존재함은 증명될 수 있습니다."
      ],
      "metadata": {
        "id": "a20HEb3x89Mc"
      }
    },
    {
      "cell_type": "code",
      "source": [
        "# 내 답\n",
        "\n",
        "def solution(n):\n",
        "    return min([i for i in range(1, n) if n % i == 1])"
      ],
      "metadata": {
        "id": "sv5LKKtC8L24"
      },
      "execution_count": null,
      "outputs": []
    },
    {
      "cell_type": "markdown",
      "source": [
        "## 약수의 합\n",
        "* 정수 n을 입력받아 n의 약수를 모두 더한 값을 리턴하는 함수, solution을 완성해주세요."
      ],
      "metadata": {
        "id": "NdAeBd2298w5"
      }
    },
    {
      "cell_type": "code",
      "source": [
        "# 내 답\n",
        "\n",
        "def solution(n):\n",
        "    answer = []\n",
        "    for i in range(1, n+1):\n",
        "        if n % i == 0:\n",
        "            answer.append(i)\n",
        "    return sum(answer)"
      ],
      "metadata": {
        "id": "gb1BANZu9_jZ"
      },
      "execution_count": null,
      "outputs": []
    },
    {
      "cell_type": "markdown",
      "source": [
        "## 자릿수 더하기\n",
        "* 자연수 N이 주어지면, N의 각 자릿수의 합을 구해서 return 하는 solution 함수를 만들어 주세요.\n",
        "예를들어 N = 123이면 1 + 2 + 3 = 6을 return 하면 됩니다."
      ],
      "metadata": {
        "id": "9cqlGlCe_fqD"
      }
    },
    {
      "cell_type": "code",
      "source": [
        "# 내 답\n",
        "\n",
        "def solution(n):\n",
        "    return sum([int(i) for i in str(n)])"
      ],
      "metadata": {
        "id": "cx_wwZXT_uN0"
      },
      "execution_count": null,
      "outputs": []
    },
    {
      "cell_type": "code",
      "source": [
        "# map 활용\n",
        "\n",
        "def solution(n):\n",
        "    return sum(map(int, str(n)))"
      ],
      "metadata": {
        "id": "xMqQojHKAC4d"
      },
      "execution_count": null,
      "outputs": []
    },
    {
      "cell_type": "markdown",
      "source": [
        "## 평균 구하기\n",
        "* 정수를 담고 있는 배열 arr의 평균값을 return하는 함수, solution을 완성해보세요."
      ],
      "metadata": {
        "id": "mv_aYhM0AbFb"
      }
    },
    {
      "cell_type": "code",
      "source": [
        "# 내 답\n",
        "\n",
        "def solution(arr):\n",
        "    return sum(arr) / len(arr)"
      ],
      "metadata": {
        "id": "O48AOo7mAeQ8"
      },
      "execution_count": null,
      "outputs": []
    },
    {
      "cell_type": "markdown",
      "source": [
        "## 짝수와 홀수\n",
        "* 정수 num이 짝수일 경우 \"Even\"을 반환하고 홀수인 경우 \"Odd\"를 반환하는 함수, solution을 완성해주세요."
      ],
      "metadata": {
        "id": "w3bS3tMpA2ly"
      }
    },
    {
      "cell_type": "code",
      "source": [
        "# 내 답\n",
        "\n",
        "def solution(num):\n",
        "    if num % 2 == 0:\n",
        "        return 'Even'\n",
        "    else:\n",
        "        return 'Odd'"
      ],
      "metadata": {
        "id": "AFMPj0NYA6Dh"
      },
      "execution_count": null,
      "outputs": []
    },
    {
      "cell_type": "markdown",
      "source": [
        "## x만큼 간격이 있는 n개의 숫자\n",
        "* 함수 solution은 정수 x와 자연수 n을 입력 받아, x부터 시작해 x씩 증가하는 숫자를 n개 지니는 리스트를 리턴해야 합니다. 다음 제한 조건을 보고, 조건을 만족하는 함수, solution을 완성해주세요.\n"
      ],
      "metadata": {
        "id": "RuPTa3E5ENY-"
      }
    },
    {
      "cell_type": "code",
      "source": [
        "# 내 답\n",
        "\n",
        "def solution(x, n):\n",
        "    return [x * i for i in range(1, n + 1)]"
      ],
      "metadata": {
        "id": "hkBiIlNjEQnT"
      },
      "execution_count": null,
      "outputs": []
    },
    {
      "cell_type": "markdown",
      "source": [
        "## 문자열 내 p와 y의 개수\n",
        "* 대문자와 소문자가 섞여있는 문자열 s가 주어집니다. s에 'p'의 개수와 'y'의 개수를 비교해 같으면 True, 다르면 False를 return 하는 solution를 완성하세요. 'p', 'y' 모두 하나도 없는 경우는 항상 True를 리턴합니다. 단, 개수를 비교할 때 대문자와 소문자는 구별하지 않습니다.\n",
        "\n",
        "예를 들어 s가 \"pPoooyY\"면 true를 return하고 \"Pyy\"라면 false를 return합니다."
      ],
      "metadata": {
        "id": "XYu7iloKGwDV"
      }
    },
    {
      "cell_type": "code",
      "source": [
        "def solution(s):\n",
        "    s = s.lower()\n",
        "    P = s.count('p')\n",
        "    Y = s.count('y')\n",
        "    \n",
        "    if P == Y:\n",
        "        return True\n",
        "    else:\n",
        "        return False"
      ],
      "metadata": {
        "id": "f4PFLi27GzDl"
      },
      "execution_count": null,
      "outputs": []
    },
    {
      "cell_type": "markdown",
      "source": [
        "## 제곱수 판별하기\n",
        "* 어떤 자연수를 제곱했을 때 나오는 정수를 제곱수라고 합니다. 정수 n이 매개변수로 주어질 때, n이 제곱수라면 1을 아니라면 2를 return하도록 solution 함수를 완성해주세요.\n"
      ],
      "metadata": {
        "id": "NaubwPMMo166"
      }
    },
    {
      "cell_type": "code",
      "source": [
        "# 내 답\n",
        "\n",
        "def solution(n):\n",
        "    if n**0.5 == int(n**0.5):\n",
        "        return 1\n",
        "    else:\n",
        "        return 2"
      ],
      "metadata": {
        "id": "Yy-qJfIdo7cT"
      },
      "execution_count": null,
      "outputs": []
    },
    {
      "cell_type": "markdown",
      "source": [
        "## 암호 해독\n",
        "* 군 전략가 머쓱이는 전쟁 중 적군이 다음과 같은 암호 체계를 사용한다는 것을 알아냈습니다.\n",
        "\n",
        "* *암호화된 문자열 cipher를 주고받습니다.\n",
        "* 그 문자열에서 code의 배수 번째 글자만 진짜 암호입니다.\n",
        "* 문자열 cipher와 정수 code가 매개변수로 주어질 때 해독된 암호 문자열을 return하도록 solution 함수를 완성해주세요."
      ],
      "metadata": {
        "id": "55OpQky-xfxQ"
      }
    },
    {
      "cell_type": "code",
      "source": [
        "# 내 답\n",
        "\n",
        "def solution(cipher, code):\n",
        "    result = ''\n",
        "    for i in range(code-1, len(cipher), code):\n",
        "        result += cipher[i]\n",
        "    return result"
      ],
      "metadata": {
        "id": "cDZajTpCxjFV"
      },
      "execution_count": null,
      "outputs": []
    },
    {
      "cell_type": "code",
      "source": [
        "def solution(cipher, code):\n",
        "    return ''.join(cipher[i] for i in range(code-1,len(cipher),code))"
      ],
      "metadata": {
        "id": "MKeEr7NZyCeb"
      },
      "execution_count": null,
      "outputs": []
    },
    {
      "cell_type": "code",
      "source": [
        "def solution(cipher, code):\n",
        "    return cipher[code-1::code]"
      ],
      "metadata": {
        "id": "zDM7NeLyx3y4"
      },
      "execution_count": null,
      "outputs": []
    },
    {
      "cell_type": "code",
      "source": [
        "# 출처: 프로그래머스 코딩 테스트 연습\n",
        "# https://school.programmers.co.kr/learn/challenges"
      ],
      "metadata": {
        "id": "p_tdaid1mcd1"
      },
      "execution_count": null,
      "outputs": []
    }
  ]
}