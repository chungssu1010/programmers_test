{
  "nbformat": 4,
  "nbformat_minor": 0,
  "metadata": {
    "colab": {
      "provenance": []
    },
    "kernelspec": {
      "name": "python3",
      "display_name": "Python 3"
    },
    "language_info": {
      "name": "python"
    }
  },
  "cells": [
    {
      "cell_type": "markdown",
      "source": [
        "# 캐릭터의 좌표 Lv.0\n",
        "머쓱이는 RPG게임을 하고 있습니다. 게임에는 up, down, left, right 방향키가 있으며 각 키를 누르면 위, 아래, 왼쪽, 오른쪽으로 한 칸씩 이동합니다. 예를 들어 [0,0]에서 up을 누른다면 캐릭터의 좌표는 [0, 1], down을 누른다면 [0, -1], left를 누른다면 [-1, 0], right를 누른다면 [1, 0]입니다. 머쓱이가 입력한 방향키의 배열 keyinput와 맵의 크기 board이 매개변수로 주어집니다. 캐릭터는 항상 [0,0]에서 시작할 때 키 입력이 모두 끝난 뒤에 캐릭터의 좌표 [x, y]를 return하도록 solution 함수를 완성해주세요."
      ],
      "metadata": {
        "id": "Hdg-fkM3EH5J"
      }
    },
    {
      "cell_type": "code",
      "execution_count": null,
      "metadata": {
        "id": "B0_CkyDvEHFF"
      },
      "outputs": [],
      "source": [
        "# 내 답\n",
        "\n",
        "def solution(keyinput, board):\n",
        "    x, y = board\n",
        "    result_x = 0\n",
        "    result_y = 0\n",
        "\n",
        "    for i in keyinput:\n",
        "        if abs(result_x) <= abs(x//2) and result_x != -x//2 +1:\n",
        "            if i == 'left':\n",
        "                result_x -= 1\n",
        "        if abs(result_x) <= abs(x//2) and result_x != x//2:\n",
        "            if i == 'right':\n",
        "                result_x += 1\n",
        "        if abs(result_y) <= abs(y//2) and result_y != y//2:\n",
        "            if i == 'up':\n",
        "                    result_y += 1\n",
        "        if abs(result_y) <= abs(y//2) and result_y != -y//2 +1:\n",
        "            if i == 'down':\n",
        "                result_y -= 1\n",
        "\n",
        "    return [result_x,result_y]"
      ]
    },
    {
      "cell_type": "code",
      "source": [
        "def solution(keyinput, board):\n",
        "    curr = [0, 0]\n",
        "    for k in keyinput:\n",
        "        if k == 'left':\n",
        "            curr[0] = max(curr[0] - 1, -(board[0] // 2))\n",
        "        elif k == 'right':\n",
        "            curr[0] = min(curr[0] + 1, board[0] // 2)\n",
        "        elif k == 'down':\n",
        "            curr[1] = max(curr[1] - 1, -(board[1] // 2))\n",
        "        else:\n",
        "            curr[1] = min(curr[1] + 1, board[1] // 2)\n",
        "\n",
        "    return curr"
      ],
      "metadata": {
        "id": "qRPELXe4Efb_"
      },
      "execution_count": null,
      "outputs": []
    },
    {
      "cell_type": "code",
      "source": [
        "def solution(keyinput, board):\n",
        "    x_lim,y_lim = board[0]//2,board[1]//2\n",
        "    move = {'left':(-1,0),'right':(1,0),'up':(0,1),'down':(0,-1)}\n",
        "    x,y = 0,0\n",
        "    for k in keyinput:\n",
        "        dx,dy = move[k]\n",
        "        if abs(x+dx)>x_lim or abs(y+dy)>y_lim:\n",
        "            continue\n",
        "        else:\n",
        "            x,y = x+dx,y+dy\n",
        "\n",
        "    return [x,y]\n"
      ],
      "metadata": {
        "id": "UTVTf-_KE4CA"
      },
      "execution_count": null,
      "outputs": []
    },
    {
      "cell_type": "markdown",
      "source": [
        "# OX퀴즈 Lv.0\n",
        "\n",
        "덧셈, 뺄셈 수식들이 'X [연산자] Y = Z' 형태로 들어있는 문자열 배열 quiz가 매개변수로 주어집니다. 수식이 옳다면 \"O\"를 틀리다면 \"X\"를 순서대로 담은 배열을 return하도록 solution 함수를 완성해주세요."
      ],
      "metadata": {
        "id": "_y6HU5naE-H7"
      }
    },
    {
      "cell_type": "code",
      "source": [
        "# 내 답\n",
        "\n",
        "def solution(quiz):\n",
        "    result = []\n",
        "    for i in range(len(quiz)):\n",
        "        if eval(quiz[i].split('=')[0]) == int(quiz[i].split('=')[1]):\n",
        "            result.append('O')\n",
        "        else:\n",
        "            result.append('X')\n",
        "\n",
        "    return result"
      ],
      "metadata": {
        "id": "3zSeEpIQE-g0"
      },
      "execution_count": null,
      "outputs": []
    },
    {
      "cell_type": "markdown",
      "source": [
        "# 로그인 성공? Lv.0\n",
        "머쓱이는 프로그래머스에 로그인하려고 합니다. 머쓱이가 입력한 아이디와 패스워드가 담긴 배열 id_pw와 회원들의 정보가 담긴 2차원 배열 db가 주어질 때, 다음과 같이 로그인 성공, 실패에 따른 메시지를 return하도록 solution 함수를 완성해주세요."
      ],
      "metadata": {
        "id": "RYji-NW_PDTr"
      }
    },
    {
      "cell_type": "code",
      "source": [
        "# 내 답\n",
        "\n",
        "def solution(id_pw, db):\n",
        "    for i in range(len(db)):\n",
        "        if id_pw[0] == db[i][0]:\n",
        "            if id_pw[1] == db[i][1]:\n",
        "                return 'login'\n",
        "            else:\n",
        "                return 'wrong pw'\n",
        "    return 'fail'"
      ],
      "metadata": {
        "id": "b_eUHPv3PDf7"
      },
      "execution_count": null,
      "outputs": []
    },
    {
      "cell_type": "markdown",
      "source": [
        "# 치킨 쿠폰 Lv.0\n",
        "\n",
        "프로그래머스 치킨은 치킨을 시켜먹으면 한 마리당 쿠폰을 한 장 발급합니다. 쿠폰을 열 장 모으면 치킨을 한 마리 서비스로 받을 수 있고, 서비스 치킨에도 쿠폰이 발급됩니다. 시켜먹은 치킨의 수 chicken이 매개변수로 주어질 때 받을 수 있는 최대 서비스 치킨의 수를 return하도록 solution 함수를 완성해주세요."
      ],
      "metadata": {
        "id": "UBCffjQ3QlLH"
      }
    },
    {
      "cell_type": "code",
      "source": [
        "# 내 답\n",
        "\n",
        "def solution(chicken):\n",
        "    coupon = chicken\n",
        "    survice = 0\n",
        "\n",
        "    while coupon >= 10:\n",
        "        survice += coupon // 10\n",
        "        coupon = coupon % 10 + coupon // 10\n",
        "\n",
        "    return survice"
      ],
      "metadata": {
        "id": "FNVWFAHfbs9i"
      },
      "execution_count": null,
      "outputs": []
    },
    {
      "cell_type": "code",
      "source": [
        "def solution(chicken):\n",
        "    return int(chicken*0.11111111111)"
      ],
      "metadata": {
        "id": "grjzBUF6a8yF"
      },
      "execution_count": null,
      "outputs": []
    }
  ]
}