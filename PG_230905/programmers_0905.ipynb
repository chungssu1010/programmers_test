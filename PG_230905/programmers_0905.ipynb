{
  "nbformat": 4,
  "nbformat_minor": 0,
  "metadata": {
    "colab": {
      "provenance": []
    },
    "kernelspec": {
      "name": "python3",
      "display_name": "Python 3"
    },
    "language_info": {
      "name": "python"
    }
  },
  "cells": [
    {
      "cell_type": "markdown",
      "source": [
        "## 이진 변환 반복하기 Lv.2"
      ],
      "metadata": {
        "id": "ZLx2DTPcNp9i"
      }
    },
    {
      "cell_type": "code",
      "execution_count": null,
      "metadata": {
        "id": "En8XaqqvLFAm"
      },
      "outputs": [],
      "source": [
        "# 내 답\n",
        "\n",
        "def solution(s):\n",
        "    result = 0\n",
        "    count_zero = 0\n",
        "\n",
        "    while len(s) > 1:\n",
        "        count_zero += s.count('0')\n",
        "        s = bin(len(s) - s.count('0'))[2:]\n",
        "        result += 1\n",
        "\n",
        "    return [result, count_zero]"
      ]
    }
  ]
}