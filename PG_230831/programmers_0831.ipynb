{
  "nbformat": 4,
  "nbformat_minor": 0,
  "metadata": {
    "colab": {
      "provenance": []
    },
    "kernelspec": {
      "name": "python3",
      "display_name": "Python 3"
    },
    "language_info": {
      "name": "python"
    }
  },
  "cells": [
    {
      "cell_type": "markdown",
      "source": [
        "## 숫자 짝꿍 Lv.1"
      ],
      "metadata": {
        "id": "_JL2cPMRDcsm"
      }
    },
    {
      "cell_type": "code",
      "source": [
        "# 내 답\n",
        "\n",
        "from collections import Counter\n",
        "\n",
        "def solution(X, Y):\n",
        "\n",
        "    X = Counter(X)\n",
        "    Y = Counter(Y)\n",
        "\n",
        "    result = ''\n",
        "\n",
        "    for i in X:\n",
        "        if i in Y:\n",
        "            for count in range(min(X[i], Y[i])):\n",
        "                result += i\n",
        "\n",
        "    if result == '':\n",
        "        return '-1'\n",
        "\n",
        "    result = sorted(result, reverse=True)\n",
        "\n",
        "    if result[0] == '0':\n",
        "        return '0'\n",
        "    else:\n",
        "        return ''.join(result)"
      ],
      "metadata": {
        "id": "dsqkQ-NaDcgI"
      },
      "execution_count": null,
      "outputs": []
    },
    {
      "cell_type": "code",
      "source": [
        "def solution(X, Y):\n",
        "    answer = ''\n",
        "\n",
        "    for i in range(9,-1,-1) :\n",
        "        answer += (str(i) * min(X.count(str(i)), Y.count(str(i))))\n",
        "\n",
        "    if answer == '' :\n",
        "        return '-1'\n",
        "    elif len(answer) == answer.count('0'):\n",
        "        return '0'\n",
        "    else :\n",
        "        return answer"
      ],
      "metadata": {
        "id": "_f-dvD4kDvA1"
      },
      "execution_count": null,
      "outputs": []
    }
  ]
}