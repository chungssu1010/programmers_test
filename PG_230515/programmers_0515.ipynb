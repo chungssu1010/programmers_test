{
  "nbformat": 4,
  "nbformat_minor": 0,
  "metadata": {
    "colab": {
      "provenance": []
    },
    "kernelspec": {
      "name": "python3",
      "display_name": "Python 3"
    },
    "language_info": {
      "name": "python"
    }
  },
  "cells": [
    {
      "cell_type": "markdown",
      "source": [
        "## 합성수 찾기\n",
        "* 약수의 개수가 세 개 이상인 수를 합성수라고 합니다. 자연수 n이 매개변수로 주어질 때 n이하의 합성수의 개수를 return하도록 solution 함수를 완성해주세요."
      ],
      "metadata": {
        "id": "JfoClmnXca56"
      }
    },
    {
      "cell_type": "code",
      "source": [
        "# 내 답\n",
        "\n",
        "def solution(n):\n",
        "    result = []\n",
        "    for i in range(3, n+1):\n",
        "        for j in range(2, i):\n",
        "            if i % j == 0:\n",
        "                result.append(i)\n",
        "    return len(set(result))"
      ],
      "metadata": {
        "id": "dCry5qsbcZJ6"
      },
      "execution_count": null,
      "outputs": []
    },
    {
      "cell_type": "code",
      "source": [
        "def solution(n):\n",
        "    output = 0\n",
        "    for i in range(4, n + 1):\n",
        "        for j in range(2, int(i ** 0.5) + 1):\n",
        "            if i % j == 0:\n",
        "                output += 1\n",
        "                break\n",
        "    return output"
      ],
      "metadata": {
        "id": "DdEIULnleerk"
      },
      "execution_count": null,
      "outputs": []
    },
    {
      "cell_type": "markdown",
      "source": [
        "## 팩토리얼\n",
        "* i팩토리얼 (i!)은 1부터 i까지 정수의 곱을 의미합니다. 예를들어 5! = 5 * 4 * 3 * 2 * 1 = 120 입니다. 정수 n이 주어질 때 다음 조건을 만족하는 가장 큰 정수 i를 return 하도록 solution 함수를 완성해주세요.\n",
        "\n",
        "i! ≤ n\n",
        "\n",
        "* 제한사항\n",
        "0 < n ≤ 3,628,800"
      ],
      "metadata": {
        "id": "9-GMyzpdhPVb"
      }
    },
    {
      "cell_type": "code",
      "source": [
        "# 내 답\n",
        "\n",
        "def solution(n):\n",
        "    factorial = 1\n",
        "    for i in range(1, 11):\n",
        "        factorial *= i\n",
        "        if n < factorial:\n",
        "            return i - 1\n",
        "        elif n == factorial:\n",
        "            return i"
      ],
      "metadata": {
        "id": "NY3zzEDPhYEJ"
      },
      "execution_count": null,
      "outputs": []
    },
    {
      "cell_type": "code",
      "source": [
        "from math import factorial\n",
        "\n",
        "def solution(n):\n",
        "    k = 10\n",
        "    while n < factorial(k):\n",
        "        k -= 1\n",
        "    return k"
      ],
      "metadata": {
        "id": "SZH__JVciJ_x"
      },
      "execution_count": null,
      "outputs": []
    },
    {
      "cell_type": "code",
      "source": [
        "def solution(n):\n",
        "    answer = 1\n",
        "    factorial = 1\n",
        "    while factorial <= n:\n",
        "        answer += 1\n",
        "        factorial = factorial * answer\n",
        "    answer -= 1\n",
        "    return answer"
      ],
      "metadata": {
        "id": "KcNEA-W5iVuQ"
      },
      "execution_count": null,
      "outputs": []
    },
    {
      "cell_type": "markdown",
      "source": [
        "## 컨트롤 제트\n",
        "* 숫자와 \"Z\"가 공백으로 구분되어 담긴 문자열이 주어집니다. 문자열에 있는 숫자를 차례대로 더하려고 합니다. 이 때 \"Z\"가 나오면 바로 전에 더했던 숫자를 뺀다는 뜻입니다. 숫자와 \"Z\"로 이루어진 문자열 s가 주어질 때, 머쓱이가 구한 값을 return 하도록 solution 함수를 완성해보세요.\n",
        "\n"
      ],
      "metadata": {
        "id": "FnBZpZFi-ntt"
      }
    },
    {
      "cell_type": "code",
      "source": [
        "# 내 답\n",
        "\n",
        "def solution(s):\n",
        "    numbers = s.split()\n",
        "    result = []\n",
        "    for num in numbers:\n",
        "        if num.isdigit() or (num.startswith('-')):\n",
        "            result.append(int(num))\n",
        "        elif num == 'Z':\n",
        "            if result:\n",
        "                result.pop()\n",
        "    return sum(result)"
      ],
      "metadata": {
        "id": "NZyeOJem-rEz"
      },
      "execution_count": null,
      "outputs": []
    },
    {
      "cell_type": "code",
      "source": [
        "def solution(s):\n",
        "    stack = []\n",
        "    for a in s.split():\n",
        "        if a != 'Z':\n",
        "            stack.append(int(a))\n",
        "        else:\n",
        "            if stack:\n",
        "                stack.pop()\n",
        "\n",
        "    return sum(stack)"
      ],
      "metadata": {
        "id": "KA2lY-Wg-ukU"
      },
      "execution_count": null,
      "outputs": []
    },
    {
      "cell_type": "markdown",
      "source": [
        "## 진료 순서 정하기\n",
        "* 외과의사 머쓱이는 응급실에 온 환자의 응급도를 기준으로 진료 순서를 정하려고 합니다. 정수 배열 emergency가 매개변수로 주어질 때 응급도가 높은 순서대로 진료 순서를 정한 배열을 return하도록 solution 함수를 완성해주세요."
      ],
      "metadata": {
        "id": "XQHxs7c5YcXD"
      }
    },
    {
      "cell_type": "code",
      "source": [
        "# 내 답\n",
        "\n",
        "def solution(emergency):\n",
        "    sorted_emergency = sorted(emergency, reverse=True) \n",
        "    answer = [sorted_emergency.index(i)+1 for i in emergency]\n",
        "    return answer"
      ],
      "metadata": {
        "id": "Nh782KMTWoVH"
      },
      "execution_count": null,
      "outputs": []
    }
  ]
}