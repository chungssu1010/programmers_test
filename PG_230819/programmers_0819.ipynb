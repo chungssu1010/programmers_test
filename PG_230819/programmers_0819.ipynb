{
  "nbformat": 4,
  "nbformat_minor": 0,
  "metadata": {
    "colab": {
      "provenance": []
    },
    "kernelspec": {
      "name": "python3",
      "display_name": "Python 3"
    },
    "language_info": {
      "name": "python"
    }
  },
  "cells": [
    {
      "cell_type": "markdown",
      "source": [
        "## 겹치는 선분의 길이 Lv.0"
      ],
      "metadata": {
        "id": "PM6SJ3g_1JE9"
      }
    },
    {
      "cell_type": "code",
      "source": [
        "# 내 답\n",
        "\n",
        "import collections\n",
        "\n",
        "def solution(lines):\n",
        "    num = []\n",
        "    result = []\n",
        "\n",
        "    for i in lines:\n",
        "        a, b = i\n",
        "        num.append(list(range(a, b)))\n",
        "\n",
        "    for n in num:\n",
        "        for j in n:\n",
        "            result.append(j)\n",
        "\n",
        "    counter = collections.Counter(result)\n",
        "\n",
        "    counter_sum = sum(1 for value in counter.values() if value == 3)\n",
        "\n",
        "\n",
        "    return len(result) - len(set(result)) - counter_sum"
      ],
      "metadata": {
        "id": "rSKUNUf60xKL"
      },
      "execution_count": null,
      "outputs": []
    },
    {
      "cell_type": "code",
      "source": [
        "lines = [[0, 5], [3, 9], [1, 10]]\n",
        "sets = [set(range(min(l), max(l))) for l in lines]\n",
        "len(sets[0] & sets[1] | sets[0] & sets[2] | sets[1] & sets[2])"
      ],
      "metadata": {
        "id": "s6GstoND1Lyg"
      },
      "execution_count": null,
      "outputs": []
    }
  ]
}