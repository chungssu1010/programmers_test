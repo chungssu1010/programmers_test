{
  "nbformat": 4,
  "nbformat_minor": 0,
  "metadata": {
    "colab": {
      "provenance": []
    },
    "kernelspec": {
      "name": "python3",
      "display_name": "Python 3"
    },
    "language_info": {
      "name": "python"
    }
  },
  "cells": [
    {
      "cell_type": "markdown",
      "source": [
        "# 숨어있는 숫자의 덧셈 (2) Lv.0\n",
        "문자열 my_string이 매개변수로 주어집니다. my_string은 소문자, 대문자, 자연수로만 구성되어있습니다. my_string안의 자연수들의 합을 return하도록 solution 함수를 완성해주세요."
      ],
      "metadata": {
        "id": "0cNwFk_sr3Pb"
      }
    },
    {
      "cell_type": "code",
      "source": [
        "# 내 답\n",
        "\n",
        "import re\n",
        "\n",
        "def solution(my_string):\n",
        "    num = re.findall(r'[0-9]+', my_string)\n",
        "    return sum(int(i) for i in num if i != '')"
      ],
      "metadata": {
        "id": "pVvIS8czr2RU"
      },
      "execution_count": null,
      "outputs": []
    },
    {
      "cell_type": "markdown",
      "source": [
        "# 이진수 더하기 Lv.0\n",
        "이진수를 의미하는 두 개의 문자열 bin1과 bin2가 매개변수로 주어질 때, 두 이진수의 합을 return하도록 solution 함수를 완성해주세요."
      ],
      "metadata": {
        "id": "FyWpgj6CwSzJ"
      }
    },
    {
      "cell_type": "code",
      "source": [
        "# 내 답\n",
        "\n",
        "def solution(bin1, bin2):\n",
        "    return bin(int(bin1, 2) + int(bin2, 2))[2:]"
      ],
      "metadata": {
        "id": "ubBbVCX-wTi4"
      },
      "execution_count": null,
      "outputs": []
    },
    {
      "cell_type": "markdown",
      "source": [
        "# 소인수분해 Lv.0\n",
        "소인수분해란 어떤 수를 소수들의 곱으로 표현하는 것입니다. 예를 들어 12를 소인수 분해하면 2 * 2 * 3 으로 나타낼 수 있습니다. 따라서 12의 소인수는 2와 3입니다. 자연수 n이 매개변수로 주어질 때 n의 소인수를 오름차순으로 담은 배열을 return하도록 solution 함수를 완성해주세요."
      ],
      "metadata": {
        "id": "3XnKiK7RJ6UG"
      }
    },
    {
      "cell_type": "code",
      "source": [
        "# 내 답\n",
        "\n",
        "def solution(n):\n",
        "    a = 2\n",
        "    result = []\n",
        "\n",
        "    while a <= n:\n",
        "        if n % a == 0:\n",
        "            result.append(a)\n",
        "            n = n / a\n",
        "        else:\n",
        "            a += 1\n",
        "\n",
        "    return sorted(list(set(result)))"
      ],
      "metadata": {
        "id": "2V_87EHlKCJh"
      },
      "execution_count": null,
      "outputs": []
    },
    {
      "cell_type": "markdown",
      "source": [
        "# 잘라서 배열로 저장하기 Lv.0\n",
        "문자열 my_str과 n이 매개변수로 주어질 때, my_str을 길이 n씩 잘라서 저장한 배열을 return하도록 solution 함수를 완성해주세요."
      ],
      "metadata": {
        "id": "lJJiawtoLbap"
      }
    },
    {
      "cell_type": "code",
      "source": [
        "# 내 답\n",
        "\n",
        "def solution(my_str, n):\n",
        "    result = []\n",
        "    if len(my_str) % n != 0:\n",
        "        for i in range(len(my_str)//n+1):\n",
        "            result.append(my_str[i*n:(i+1)*n])\n",
        "    else:\n",
        "        for i in range(len(my_str)//n):\n",
        "            result.append(my_str[i*n:(i+1)*n])\n",
        "\n",
        "    return result"
      ],
      "metadata": {
        "id": "oc9wHBreLeEM"
      },
      "execution_count": null,
      "outputs": []
    },
    {
      "cell_type": "code",
      "source": [
        "def solution(my_str, n):\n",
        "    return [my_str[i: i + n] for i in range(0, len(my_str), n)]"
      ],
      "metadata": {
        "id": "jKLXUYxrLsxy"
      },
      "execution_count": null,
      "outputs": []
    }
  ]
}