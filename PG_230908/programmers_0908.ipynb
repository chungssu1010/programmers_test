{
  "nbformat": 4,
  "nbformat_minor": 0,
  "metadata": {
    "colab": {
      "provenance": []
    },
    "kernelspec": {
      "name": "python3",
      "display_name": "Python 3"
    },
    "language_info": {
      "name": "python"
    }
  },
  "cells": [
    {
      "cell_type": "markdown",
      "source": [
        "## 다음 큰 숫자 Lv.2"
      ],
      "metadata": {
        "id": "0RJFzDokmRvG"
      }
    },
    {
      "cell_type": "code",
      "execution_count": null,
      "metadata": {
        "id": "ZWWQ9rBRmLxs"
      },
      "outputs": [],
      "source": [
        "# 내 답\n",
        "\n",
        "def solution(n):\n",
        "    for i in range(1, 10000):\n",
        "        result = n + i\n",
        "        if str(bin(n)[2:]).count('1') == str(bin(result)[2:]).count('1'):\n",
        "            break\n",
        "\n",
        "    return result"
      ]
    },
    {
      "cell_type": "code",
      "source": [
        "def nextBigNumber(n):\n",
        "    num1 = bin(n).count('1')\n",
        "    while True:\n",
        "        n = n + 1\n",
        "        if num1 == bin(n).count('1'):\n",
        "            break\n",
        "    return n"
      ],
      "metadata": {
        "id": "XHEAZGZAmidI"
      },
      "execution_count": null,
      "outputs": []
    }
  ]
}