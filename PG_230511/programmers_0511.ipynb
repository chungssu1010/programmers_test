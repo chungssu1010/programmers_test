{
  "nbformat": 4,
  "nbformat_minor": 0,
  "metadata": {
    "colab": {
      "provenance": []
    },
    "kernelspec": {
      "name": "python3",
      "display_name": "Python 3"
    },
    "language_info": {
      "name": "python"
    }
  },
  "cells": [
    {
      "cell_type": "markdown",
      "source": [
        "## 가위 바위 보\n",
        "\n",
        "* 가위는 2 바위는 0 보는 5로 표현합니다. 가위 바위 보를 내는 순서대로 나타낸 문자열 rsp가 매개변수로 주어질 때, rsp에 저장된 가위 바위 보를 모두 이기는 경우를 순서대로 나타낸 문자열을 return하도록 solution 함수를 완성해보세요."
      ],
      "metadata": {
        "id": "I3pVJM-r41nR"
      }
    },
    {
      "cell_type": "code",
      "execution_count": null,
      "metadata": {
        "id": "C5lrx0-b3374"
      },
      "outputs": [],
      "source": [
        "# 내 답\n",
        "\n",
        "def solution(rsp):\n",
        "    result = ''    \n",
        "    for i in rsp:\n",
        "        if i == '2':\n",
        "            result += '0'\n",
        "        elif i == '0':\n",
        "            result += '5'\n",
        "        else:\n",
        "            result += '2'\n",
        "    return result"
      ]
    },
    {
      "cell_type": "code",
      "source": [
        "def solution(rsp):\n",
        "    d = {'0':'5','2':'0','5':'2'}\n",
        "    return ''.join(d[i] for i in rsp)"
      ],
      "metadata": {
        "id": "K8RQ2tyP9S5y"
      },
      "execution_count": null,
      "outputs": []
    },
    {
      "cell_type": "markdown",
      "source": [
        "## 세균 증식\n",
        "\n",
        "* 어떤 세균은 1시간에 두배만큼 증식한다고 합니다. 처음 세균의 마리수 n과 경과한 시간 t가 매개변수로 주어질 때 t시간 후 세균의 수를 return하도록 solution 함수를 완성해주세요."
      ],
      "metadata": {
        "id": "Mz43H82A9f4Y"
      }
    },
    {
      "cell_type": "code",
      "source": [
        "# 내 답\n",
        "\n",
        "def solution(n, t):\n",
        "    return 2 ** t * n"
      ],
      "metadata": {
        "id": "lgXSkKz8-mdS"
      },
      "execution_count": null,
      "outputs": []
    },
    {
      "cell_type": "markdown",
      "source": [
        "## 대문자와 소문자\n",
        "* 문자열 my_string이 매개변수로 주어질 때, 대문자는 소문자로 소문자는 대문자로 변환한 문자열을 return하도록 solution 함수를 완성해주세요.\n",
        "\n"
      ],
      "metadata": {
        "id": "2KmEC9jb_DBS"
      }
    },
    {
      "cell_type": "code",
      "source": [
        "# 내 답\n",
        "\n",
        "def solution(my_string):\n",
        "    result = ''\n",
        "    for i in my_string:\n",
        "        if i.isupper():\n",
        "            result += i.lower()\n",
        "        else:\n",
        "            result += i.upper()    \n",
        "    \n",
        "    return result"
      ],
      "metadata": {
        "id": "VqY8z5pNAjQV"
      },
      "execution_count": null,
      "outputs": []
    },
    {
      "cell_type": "code",
      "source": [
        "# swapcase()  영문 대소문자 상호 전환\n",
        "\n",
        "def solution(my_string):\n",
        "    return my_string.swapcase()"
      ],
      "metadata": {
        "id": "ImmR8RXkAoGt"
      },
      "execution_count": null,
      "outputs": []
    },
    {
      "cell_type": "markdown",
      "source": [
        "## 직각삼각형 출력하기\n",
        "* \"*\"의 높이와 너비를 1이라고 했을 때, \"*\"을 이용해 직각 이등변 삼각형을 그리려고합니다. 정수 n 이 주어지면 높이와 너비가 n 인 직각 이등변 삼각형을 출력하도록 코드를 작성해보세요."
      ],
      "metadata": {
        "id": "xxSWuZvPBLAC"
      }
    },
    {
      "cell_type": "code",
      "source": [
        "# 내 답\n",
        "\n",
        "n = int(input())\n",
        "\n",
        "for i in range(1, n+1):\n",
        "    print('*'*i)"
      ],
      "metadata": {
        "id": "LcYeRlS4FS-H"
      },
      "execution_count": null,
      "outputs": []
    },
    {
      "cell_type": "markdown",
      "source": [
        "## 문자열 정렬하기\n",
        "\n",
        "* 문자열 my_string이 매개변수로 주어질 때, my_string 안에 있는 숫자만 골라 오름차순 정렬한 리스트를 return 하도록 solution 함수를 작성해보세요."
      ],
      "metadata": {
        "id": "ZjYWRuk7Fibs"
      }
    },
    {
      "cell_type": "code",
      "source": [
        "# 내 답\n",
        "\n",
        "def solution(my_string):\n",
        "    result = []\n",
        "    \n",
        "    for i in my_string:\n",
        "        if i.isdigit():\n",
        "            result.append(int(i))\n",
        "            \n",
        "    return sorted(result)"
      ],
      "metadata": {
        "id": "XgwFYTi_H87N"
      },
      "execution_count": null,
      "outputs": []
    },
    {
      "cell_type": "code",
      "source": [
        "def solution(my_string):\n",
        "   return sorted([int(i) for i in my_string if i.isdigit()])"
      ],
      "metadata": {
        "id": "Lp0EXf_OIJEH"
      },
      "execution_count": null,
      "outputs": []
    }
  ]
}