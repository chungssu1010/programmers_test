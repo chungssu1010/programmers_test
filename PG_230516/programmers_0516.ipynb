{
  "nbformat": 4,
  "nbformat_minor": 0,
  "metadata": {
    "colab": {
      "provenance": []
    },
    "kernelspec": {
      "name": "python3",
      "display_name": "Python 3"
    },
    "language_info": {
      "name": "python"
    }
  },
  "cells": [
    {
      "cell_type": "markdown",
      "source": [
        "## 자연수 뒤집어 배열로 만들기 Lv.1\n",
        "* 자연수 n을 뒤집어 각 자리 숫자를 원소로 가지는 배열 형태로 리턴해주세요. 예를들어 n이 12345이면 [5,4,3,2,1]을 리턴합니다."
      ],
      "metadata": {
        "id": "qk6OMD9Q1hnL"
      }
    },
    {
      "cell_type": "code",
      "source": [
        "# 내 답\n",
        "\n",
        "def solution(n):\n",
        "    return [int(i) for i in reversed(str(n))]"
      ],
      "metadata": {
        "id": "RuxyZ9nU3Q29"
      },
      "execution_count": null,
      "outputs": []
    },
    {
      "cell_type": "code",
      "source": [
        "# map 활용\n",
        "\n",
        "def solution(n):\n",
        "    return list(map(int, reversed(str(n))))"
      ],
      "metadata": {
        "id": "bAOQiY2i3oP-"
      },
      "execution_count": null,
      "outputs": []
    },
    {
      "cell_type": "markdown",
      "source": [
        "## 정수 제곱근 판별 Lv.1\n",
        "* 임의의 양의 정수 n에 대해, n이 어떤 양의 정수 x의 제곱인지 아닌지 판단하려 합니다.\n",
        "n이 양의 정수 x의 제곱이라면 x+1의 제곱을 리턴하고, n이 양의 정수 x의 제곱이 아니라면 -1을 리턴하는 함수를 완성하세요."
      ],
      "metadata": {
        "id": "xNUq5ZVI41Z7"
      }
    },
    {
      "cell_type": "code",
      "source": [
        "# 내 답\n",
        "\n",
        "def solution(n):\n",
        "    if n**0.5 == int(n**0.5):\n",
        "        return (n**0.5 + 1) ** 2\n",
        "    else:\n",
        "        return -1"
      ],
      "metadata": {
        "id": "VElgTYz845AB"
      },
      "execution_count": null,
      "outputs": []
    },
    {
      "cell_type": "markdown",
      "source": [
        "## 문자열을 정수로 바꾸기 Lv.1\n",
        "* 문자열 s를 숫자로 변환한 결과를 반환하는 함수, solution을 완성하세요."
      ],
      "metadata": {
        "id": "Tp42CGx25yl_"
      }
    },
    {
      "cell_type": "code",
      "source": [
        "# 내 답\n",
        "\n",
        "def solution(s):\n",
        "    return int(s)"
      ],
      "metadata": {
        "id": "NaThZe8k50xd"
      },
      "execution_count": null,
      "outputs": []
    },
    {
      "cell_type": "markdown",
      "source": [
        "## 정수 내림차순으로 배치하기 Lv.1\n",
        "* 함수 solution은 정수 n을 매개변수로 입력받습니다. n의 각 자릿수를 큰것부터 작은 순으로 정렬한 새로운 정수를 리턴해주세요. 예를들어 n이 118372면 873211을 리턴하면 됩니다."
      ],
      "metadata": {
        "id": "jjcX2VHh66PI"
      }
    },
    {
      "cell_type": "code",
      "source": [
        "# 내 답\n",
        "\n",
        "def solution(n):\n",
        "    return int(''.join(sorted(str(n), reverse = True)))"
      ],
      "metadata": {
        "id": "q_wfsZ2968gW"
      },
      "execution_count": null,
      "outputs": []
    },
    {
      "cell_type": "markdown",
      "source": [
        "## 하샤드 수 Lv.1\n",
        "* 양의 정수 x가 하샤드 수이려면 x의 자릿수의 합으로 x가 나누어져야 합니다. 예를 들어 18의 자릿수 합은 1+8=9이고, 18은 9로 나누어 떨어지므로 18은 하샤드 수입니다. 자연수 x를 입력받아 x가 하샤드 수인지 아닌지 검사하는 함수, solution을 완성해주세요.\n"
      ],
      "metadata": {
        "id": "9yKaMoRd-R4e"
      }
    },
    {
      "cell_type": "code",
      "source": [
        "# 내 답\n",
        "\n",
        "def solution(x):\n",
        "    y = 0\n",
        "    for i in str(x):\n",
        "        y += int(i)\n",
        "\n",
        "    if x % y == 0:\n",
        "        return True\n",
        "    else:\n",
        "        return False"
      ],
      "metadata": {
        "id": "-veFuwPj-U93"
      },
      "execution_count": null,
      "outputs": []
    },
    {
      "cell_type": "markdown",
      "source": [
        "## 두 정수 사이의 합 Lv.1\n",
        "* 두 정수 a, b가 주어졌을 때 a와 b 사이에 속한 모든 정수의 합을 리턴하는 함수, solution을 완성하세요.\n",
        "예를 들어 a = 3, b = 5인 경우, 3 + 4 + 5 = 12이므로 12를 리턴합니다."
      ],
      "metadata": {
        "id": "OcIpgQijAbEE"
      }
    },
    {
      "cell_type": "code",
      "source": [
        "# 내 답\n",
        "\n",
        "def solution(a, b):\n",
        "    sum = 0\n",
        "    if a < b:\n",
        "        for i in range(a, b+1):\n",
        "            sum += i\n",
        "    elif a > b:\n",
        "        for i in range(b, a+1):\n",
        "            sum += i\n",
        "    else:\n",
        "        return a\n",
        "    return sum"
      ],
      "metadata": {
        "id": "Wm6xRaxwAe-R"
      },
      "execution_count": null,
      "outputs": []
    },
    {
      "cell_type": "markdown",
      "source": [
        "## 콜라츠 추측 Lv.1\n",
        "* 1937년 Collatz란 사람에 의해 제기된 이 추측은, 주어진 수가 1이 될 때까지 다음 작업을 반복하면, 모든 수를 1로 만들 수 있다는 추측입니다. 작업은 다음과 같습니다.\n",
        "\n",
        "1-1. 입력된 수가 짝수라면 2로 나눕니다. \n",
        "1-2. 입력된 수가 홀수라면 3을 곱하고 1을 더합니다. \n",
        "2. 결과로 나온 수에 같은 작업을 1이 될 때까지 반복합니다. \n",
        "예를 들어, 주어진 수가 6이라면 6 → 3 → 10 → 5 → 16 → 8 → 4 → 2 → 1 이 되어 총 8번 만에 1이 됩니다. 위 작업을 몇 번이나 반복해야 하는지 반환하는 함수, solution을 완성해 주세요. 단, 주어진 수가 1인 경우에는 0을, 작업을 500번 반복할 때까지 1이 되지 않는다면 –1을 반환해 주세요."
      ],
      "metadata": {
        "id": "OPPE0l-7FNwJ"
      }
    },
    {
      "cell_type": "code",
      "source": [
        "# 내 답\n",
        "\n",
        "def solution(num):\n",
        "    result = 0\n",
        "    for i in range(501):\n",
        "        if num % 2 == 0:\n",
        "            num /= 2\n",
        "            result += 1\n",
        "            if num == 1:\n",
        "                return result\n",
        "        elif num == 1:\n",
        "            return 0\n",
        "        elif num % 2 != 0:\n",
        "            num = num * 3 + 1\n",
        "            result += 1\n",
        "    if num != 1:\n",
        "        return -1"
      ],
      "metadata": {
        "id": "jgzdTE-mFSiO"
      },
      "execution_count": null,
      "outputs": []
    },
    {
      "cell_type": "markdown",
      "source": [
        "## 서울에서 김서방 찾기 Lv.1\n",
        "* String형 배열 seoul의 element중 \"Kim\"의 위치 x를 찾아, \"김서방은 x에 있다\"는 String을 반환하는 함수, solution을 완성하세요. seoul에 \"Kim\"은 오직 한 번만 나타나며 잘못된 값이 입력되는 경우는 없습니다."
      ],
      "metadata": {
        "id": "nO3Eo37zHECT"
      }
    },
    {
      "cell_type": "code",
      "source": [
        "# 내 답\n",
        "\n",
        "def solution(seoul):\n",
        "    position = seoul.index('Kim')\n",
        "    return f'김서방은 {position}에 있다'"
      ],
      "metadata": {
        "id": "_aVMwqdFHGaS"
      },
      "execution_count": null,
      "outputs": []
    },
    {
      "cell_type": "markdown",
      "source": [
        "## 나누어 떨어지는 숫자 배열 Lv.1\n",
        "* array의 각 element 중 divisor로 나누어 떨어지는 값을 오름차순으로 정렬한 배열을 반환하는 함수, solution을 작성해주세요.\n",
        "divisor로 나누어 떨어지는 element가 하나도 없다면 배열에 -1을 담아 반환하세요."
      ],
      "metadata": {
        "id": "Oi63vC4AKcA5"
      }
    },
    {
      "cell_type": "code",
      "source": [
        "# 내 답\n",
        "\n",
        "def solution(arr, divisor):\n",
        "    result = sorted([i for i in arr if i % divisor == 0])\n",
        "    if result == []:\n",
        "        result.append(-1)\n",
        "    \n",
        "    return result"
      ],
      "metadata": {
        "id": "k90J8mZgKgCx"
      },
      "execution_count": null,
      "outputs": []
    },
    {
      "cell_type": "markdown",
      "source": [
        "## 핸드폰 번호 가리기 Lv.1\n",
        "* 프로그래머스 모바일은 개인정보 보호를 위해 고지서를 보낼 때 고객들의 전화번호의 일부를 가립니다.\n",
        "전화번호가 문자열 phone_number로 주어졌을 때, 전화번호의 뒷 4자리를 제외한 나머지 숫자를 전부 *으로 가린 문자열을 리턴하는 함수, solution을 완성해주세요."
      ],
      "metadata": {
        "id": "ajdvs9LAPXts"
      }
    },
    {
      "cell_type": "code",
      "source": [
        "# 내 답\n",
        "\n",
        "import re\n",
        "\n",
        "def solution(phone_number):\n",
        "    number = re.sub('[0-9]', '*', phone_number[:-4])\n",
        "    return number + phone_number[-4:]"
      ],
      "metadata": {
        "id": "q8c2IyxqPbNc"
      },
      "execution_count": null,
      "outputs": []
    },
    {
      "cell_type": "markdown",
      "source": [
        "## 음양 더하기 Lv.1\n",
        "* 어떤 정수들이 있습니다. 이 정수들의 절댓값을 차례대로 담은 정수 배열 absolutes와 이 정수들의 부호를 차례대로 담은 불리언 배열 signs가 매개변수로 주어집니다. 실제 정수들의 합을 구하여 return 하도록 solution 함수를 완성해주세요."
      ],
      "metadata": {
        "id": "2p6wzOl-TOh8"
      }
    },
    {
      "cell_type": "code",
      "source": [
        "# 내 답\n",
        "\n",
        "def solution(absolutes, signs):\n",
        "    result = 0\n",
        "    for i in range(len(signs)):\n",
        "        if signs[i]:\n",
        "            result += absolutes[i]\n",
        "        else:\n",
        "            result -= absolutes[i]\n",
        "    \n",
        "    return result "
      ],
      "metadata": {
        "id": "hqMVA8ryTSaU"
      },
      "execution_count": null,
      "outputs": []
    },
    {
      "cell_type": "code",
      "source": [
        "def solution(absolutes, signs):\n",
        "    answer=0\n",
        "    for absolute,sign in zip(absolutes, signs):\n",
        "        if sign:\n",
        "            answer+=absolute\n",
        "        else:\n",
        "            answer-=absolute\n",
        "    return answer"
      ],
      "metadata": {
        "id": "hnxGD1pPVd0U"
      },
      "execution_count": null,
      "outputs": []
    },
    {
      "cell_type": "code",
      "source": [
        "# 출처: 프로그래머스 코딩 테스트 연습\n",
        "# https://school.programmers.co.kr/learn/challenges"
      ],
      "metadata": {
        "id": "WBFtD5vduVW2"
      },
      "execution_count": null,
      "outputs": []
    }
  ]
}