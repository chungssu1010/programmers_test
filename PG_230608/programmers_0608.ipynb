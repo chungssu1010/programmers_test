{
  "nbformat": 4,
  "nbformat_minor": 0,
  "metadata": {
    "colab": {
      "provenance": []
    },
    "kernelspec": {
      "name": "python3",
      "display_name": "Python 3"
    },
    "language_info": {
      "name": "python"
    }
  },
  "cells": [
    {
      "cell_type": "markdown",
      "source": [
        "# 공 던지기 Lv.0\n",
        "머쓱이는 친구들과 동그랗게 서서 공 던지기 게임을 하고 있습니다. 공은 1번부터 던지며 오른쪽으로 한 명을 건너뛰고 그다음 사람에게만 던질 수 있습니다. 친구들의 번호가 들어있는 정수 배열 numbers와 정수 K가 주어질 때, k번째로 공을 던지는 사람의 번호는 무엇인지 return 하도록 solution 함수를 완성해보세요."
      ],
      "metadata": {
        "id": "ZzJiPSbtRD8g"
      }
    },
    {
      "cell_type": "code",
      "source": [
        "# 내 답\n",
        "\n",
        "def solution(numbers, k):\n",
        "    return numbers[(k-1)*2 % len(numbers)]"
      ],
      "metadata": {
        "id": "5TdC7cIoRDah"
      },
      "execution_count": null,
      "outputs": []
    },
    {
      "cell_type": "markdown",
      "source": [
        "# 7의 개수 Lv.0\n",
        "머쓱이는 행운의 숫자 7을 가장 좋아합니다. 정수 배열 array가 매개변수로 주어질 때, 7이 총 몇 개 있는지 return 하도록 solution 함수를 완성해보세요."
      ],
      "metadata": {
        "id": "KZAlaQNJRjhS"
      }
    },
    {
      "cell_type": "code",
      "source": [
        "# 내 답\n",
        "\n",
        "def solution(array):\n",
        "    return str(array).count('7')"
      ],
      "metadata": {
        "id": "w1XTFmsuSLdl"
      },
      "execution_count": null,
      "outputs": []
    },
    {
      "cell_type": "markdown",
      "source": [
        "# 구슬을 나누는 경우의 수 Lv.0\n",
        "\n",
        "머쓱이는 구슬을 친구들에게 나누어주려고 합니다. 구슬은 모두 다르게 생겼습니다. 머쓱이가 갖고 있는 구슬의 개수 balls와 친구들에게 나누어 줄 구슬 개수 share이 매개변수로 주어질 때, balls개의 구슬 중 share개의 구슬을 고르는 가능한 모든 경우의 수를 return 하는 solution 함수를 완성해주세요."
      ],
      "metadata": {
        "id": "GincpY7sSnr4"
      }
    },
    {
      "cell_type": "code",
      "source": [
        "# 내 답1\n",
        "\n",
        "import math\n",
        "\n",
        "def solution(balls, share):\n",
        "    return math.factorial(balls) / (math.factorial(balls - share) * math.factorial(share))"
      ],
      "metadata": {
        "id": "np9tDRfoWIn5"
      },
      "execution_count": null,
      "outputs": []
    },
    {
      "cell_type": "code",
      "source": [
        "from math import factorial\n",
        "\n",
        "def solution(balls, share):\n",
        "    return factorial(balls) / (factorial(balls - share) * factorial(share))"
      ],
      "metadata": {
        "id": "2GKbIhWkWYSj"
      },
      "execution_count": null,
      "outputs": []
    },
    {
      "cell_type": "code",
      "source": [
        "# 내 답2\n",
        "\n",
        "import itertools\n",
        "\n",
        "def solution(balls, share):\n",
        "    return len(list(itertools.combinations(list(range(balls)), share)))"
      ],
      "metadata": {
        "id": "NMguczkhTDN5"
      },
      "execution_count": null,
      "outputs": []
    },
    {
      "cell_type": "code",
      "source": [
        "import math\n",
        "\n",
        "def solution(balls, share):\n",
        "    return math.comb(balls, share)"
      ],
      "metadata": {
        "id": "4phC-hrlWM2Y"
      },
      "execution_count": null,
      "outputs": []
    },
    {
      "cell_type": "markdown",
      "source": [
        "# 문자열 계산하기 Lv.0\n",
        "my_string은 \"3 + 5\"처럼 문자열로 된 수식입니다. 문자열 my_string이 매개변수로 주어질 때, 수식을 계산한 값을 return 하는 solution 함수를 완성해주세요."
      ],
      "metadata": {
        "id": "WQDyr7AuWm23"
      }
    },
    {
      "cell_type": "code",
      "source": [
        "# 내 답\n",
        "\n",
        "def solution(my_string):\n",
        "    string_ = my_string.split(' ')\n",
        "    result = int(string_[0])\n",
        "    \n",
        "    for i in range(len(string_)):\n",
        "        if i % 2 != 0 and string_[i] == '+':\n",
        "            result += int(string_[i+1])\n",
        "        elif i % 2 != 0 and string_[i] == '-':\n",
        "            result -= int(string_[i+1])\n",
        "    \n",
        "    return result"
      ],
      "metadata": {
        "id": "cdbGuQv4WnFY"
      },
      "execution_count": null,
      "outputs": []
    },
    {
      "cell_type": "code",
      "source": [
        "solution=eval"
      ],
      "metadata": {
        "id": "ZVhhM4nJdiCC"
      },
      "execution_count": null,
      "outputs": []
    },
    {
      "cell_type": "code",
      "source": [
        "def solution(my_string):\n",
        "    return sum(int(i) for i in my_string.replace(' - ', ' + -').split(' + '))"
      ],
      "metadata": {
        "id": "rawlgjrgfA8h"
      },
      "execution_count": null,
      "outputs": []
    }
  ]
}