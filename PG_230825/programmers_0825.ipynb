{
  "nbformat": 4,
  "nbformat_minor": 0,
  "metadata": {
    "colab": {
      "provenance": []
    },
    "kernelspec": {
      "name": "python3",
      "display_name": "Python 3"
    },
    "language_info": {
      "name": "python"
    }
  },
  "cells": [
    {
      "cell_type": "markdown",
      "source": [
        "## 포켓몬 Lv.1"
      ],
      "metadata": {
        "id": "gdlYDb0gVugs"
      }
    },
    {
      "cell_type": "code",
      "execution_count": null,
      "metadata": {
        "id": "RR79BA24Ry-w"
      },
      "outputs": [],
      "source": [
        "# 내 답\n",
        "\n",
        "def solution(nums):\n",
        "    if len(set(nums)) >= len(nums) // 2:\n",
        "        return len(nums) // 2\n",
        "    else:\n",
        "        return len(set(nums))"
      ]
    },
    {
      "cell_type": "code",
      "source": [
        "def solution(nums):\n",
        "    return min(len(nums)/2, len(set(nums)))"
      ],
      "metadata": {
        "id": "P-ChSg-HVeZe"
      },
      "execution_count": null,
      "outputs": []
    }
  ]
}