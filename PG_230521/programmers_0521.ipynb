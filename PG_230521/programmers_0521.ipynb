{
  "nbformat": 4,
  "nbformat_minor": 0,
  "metadata": {
    "colab": {
      "provenance": []
    },
    "kernelspec": {
      "name": "python3",
      "display_name": "Python 3"
    },
    "language_info": {
      "name": "python"
    }
  },
  "cells": [
    {
      "cell_type": "markdown",
      "source": [
        "## 최소직사각형 Lv.1\n",
        "* 명함 지갑을 만드는 회사에서 지갑의 크기를 정하려고 합니다. 다양한 모양과 크기의 명함들을 모두 수납할 수 있으면서, 작아서 들고 다니기 편한 지갑을 만들어야 합니다. 이러한 요건을 만족하는 지갑을 만들기 위해 디자인팀은 모든 명함의 가로 길이와 세로 길이를 조사했습니다.\n",
        "\n",
        "아래 표는 4가지 명함의 가로 길이와 세로 길이를 나타냅니다.\n",
        "\n",
        "명함 번호\t가로 길이\t세로 길이\n",
        "1\t60\t50\n",
        "2\t30\t70\n",
        "3\t60\t30\n",
        "4\t80\t40\n",
        "가장 긴 가로 길이와 세로 길이가 각각 80, 70이기 때문에 80(가로) x 70(세로) 크기의 지갑을 만들면 모든 명함들을 수납할 수 있습니다. 하지만 2번 명함을 가로로 눕혀 수납한다면 80(가로) x 50(세로) 크기의 지갑으로 모든 명함들을 수납할 수 있습니다. 이때의 지갑 크기는 4000(=80 x 50)입니다.\n",
        "\n",
        "* 모든 명함의 가로 길이와 세로 길이를 나타내는 2차원 배열 sizes가 매개변수로 주어집니다. 모든 명함을 수납할 수 있는 가장 작은 지갑을 만들 때, 지갑의 크기를 return 하도록 solution 함수를 완성해주세요."
      ],
      "metadata": {
        "id": "-pcIk-P-P74c"
      }
    },
    {
      "cell_type": "code",
      "execution_count": null,
      "metadata": {
        "id": "_XpHteQXP5T3"
      },
      "outputs": [],
      "source": [
        "# 내 답\n",
        "\n",
        "def solution(sizes):\n",
        "    max_size = []\n",
        "    min_size = []\n",
        "    \n",
        "    for x, y in sizes:\n",
        "        if x >= y :\n",
        "            max_size.append(x)\n",
        "            min_size.append(y)\n",
        "        else:\n",
        "            max_size.append(y)\n",
        "            min_size.append(x)\n",
        "    \n",
        "    return max(max_size) * max(min_size)"
      ]
    },
    {
      "cell_type": "code",
      "source": [
        "def solution(sizes):\n",
        "    return max(max(x) for x in sizes) * max(min(x) for x in sizes)"
      ],
      "metadata": {
        "id": "G7CkNN3oQMve"
      },
      "execution_count": null,
      "outputs": []
    },
    {
      "cell_type": "markdown",
      "source": [
        "## 이상한 문자 만들기 Lv.1\n",
        "* 문자열 s는 한 개 이상의 단어로 구성되어 있습니다. 각 단어는 하나 이상의 공백문자로 구분되어 있습니다. 각 단어의 짝수번째 알파벳은 대문자로, 홀수번째 알파벳은 소문자로 바꾼 문자열을 리턴하는 함수, solution을 완성하세요.\n",
        "\n"
      ],
      "metadata": {
        "id": "LMs0c9oYZJ6Y"
      }
    },
    {
      "cell_type": "code",
      "source": [
        "# 내 답\n",
        "\n",
        "def solution(s):\n",
        "    result = []\n",
        "    split_s = s.split(' ')\n",
        "    \n",
        "    for i in split_s:\n",
        "        result_word = ''\n",
        "        for x in range(len(i)):\n",
        "            if x % 2 == 0:\n",
        "                result_word += i[x].upper()\n",
        "            else:\n",
        "                result_word += i[x].lower()\n",
        "        \n",
        "        result.append(result_word)\n",
        "        \n",
        "    return ' '.join(result)"
      ],
      "metadata": {
        "id": "uXjiYZt9TzGX"
      },
      "execution_count": null,
      "outputs": []
    },
    {
      "cell_type": "markdown",
      "source": [
        "## 콜라 문제 Lv.1\n",
        "* 오래전 유행했던 콜라 문제가 있습니다. 콜라 문제의 지문은 다음과 같습니다.\n",
        "\n",
        "* 콜라 빈 병 2개를 가져다주면 콜라 1병을 주는 마트가 있다. 빈 병 20개를 가져다주면 몇 병을 받을 수 있는가?\n",
        "\n",
        "단, 보유 중인 빈 병이 2개 미만이면, 콜라를 받을 수 없다.\n",
        "\n",
        "* 문제를 풀던 상빈이는 콜라 문제의 완벽한 해답을 찾았습니다. 상빈이가 푼 방법은 아래 그림과 같습니다. 우선 콜라 빈 병 20병을 가져가서 10병을 받습니다. 받은 10병을 모두 마신 뒤, 가져가서 5병을 받습니다. 5병 중 4병을 모두 마신 뒤 가져가서 2병을 받고, 또 2병을 모두 마신 뒤 가져가서 1병을 받습니다. 받은 1병과 5병을 받았을 때 남은 1병을 모두 마신 뒤 가져가면 1병을 또 받을 수 있습니다. 이 경우 상빈이는 총 10 + 5 + 2 + 1 + 1 = 19병의 콜라를 받을 수 있습니다.\n",
        "\n",
        "* 문제를 열심히 풀던 상빈이는 일반화된 콜라 문제를 생각했습니다. 이 문제는 빈 병 a개를 가져다주면 콜라 b병을 주는 마트가 있을 때, 빈 병 n개를 가져다주면 몇 병을 받을 수 있는지 계산하는 문제입니다. 기존 콜라 문제와 마찬가지로, 보유 중인 빈 병이 a개 미만이면, 추가적으로 빈 병을 받을 순 없습니다. 상빈이는 열심히 고심했지만, 일반화된 콜라 문제의 답을 찾을 수 없었습니다. 상빈이를 도와, 일반화된 콜라 문제를 해결하는 프로그램을 만들어 주세요.\n",
        "\n",
        "* 콜라를 받기 위해 마트에 주어야 하는 병 수 a, 빈 병 a개를 가져다 주면 마트가 주는 콜라 병 수 b, 상빈이가 가지고 있는 빈 병의 개수 n이 매개변수로 주어집니다. 상빈이가 받을 수 있는 콜라의 병 수를 return 하도록 solution 함수를 작성해주세요."
      ],
      "metadata": {
        "id": "e9Eb7i9ZdHw-"
      }
    },
    {
      "cell_type": "code",
      "source": [
        "# 내 답\n",
        "\n",
        "def solution(a, b, n):\n",
        "    result = 0\n",
        "    \n",
        "    while True:\n",
        "        result += (n // a) * b\n",
        "        n = (n // a) * b + (n % a)\n",
        "        if a - 1 >= n:\n",
        "            break\n",
        "        \n",
        "    return result"
      ],
      "metadata": {
        "id": "W6WJ9XILdKYQ"
      },
      "execution_count": null,
      "outputs": []
    },
    {
      "cell_type": "markdown",
      "source": [
        "## 명예의 전당 (1) Lv.1\n",
        "* \"명예의 전당\"이라는 TV 프로그램에서는 매일 1명의 가수가 노래를 부르고, 시청자들의 문자 투표수로 가수에게 점수를 부여합니다. 매일 출연한 가수의 점수가 지금까지 출연 가수들의 점수 중 상위 k번째 이내이면 해당 가수의 점수를 명예의 전당이라는 목록에 올려 기념합니다. 즉 프로그램 시작 이후 초기에 k일까지는 모든 출연 가수의 점수가 명예의 전당에 오르게 됩니다. k일 다음부터는 출연 가수의 점수가 기존의 명예의 전당 목록의 k번째 순위의 가수 점수보다 더 높으면, 출연 가수의 점수가 명예의 전당에 오르게 되고 기존의 k번째 순위의 점수는 명예의 전당에서 내려오게 됩니다.\n",
        "\n",
        "* 이 프로그램에서는 매일 \"명예의 전당\"의 최하위 점수를 발표합니다. 예를 들어, k = 3이고, 7일 동안 진행된 가수의 점수가 [10, 100, 20, 150, 1, 100, 200]이라면, 명예의 전당에서 발표된 점수는 아래의 그림과 같이 [10, 10, 10, 20, 20, 100, 100]입니다.\n",
        "\n",
        "* 명예의 전당 목록의 점수의 개수 k, 1일부터 마지막 날까지 출연한 가수들의 점수인 score가 주어졌을 때, 매일 발표된 명예의 전당의 최하위 점수를 return하는 solution 함수를 완성해주세요."
      ],
      "metadata": {
        "id": "f6vlqOw2nrdN"
      }
    },
    {
      "cell_type": "code",
      "source": [
        "# 내 답\n",
        "\n",
        "def solution(k, score):\n",
        "    result = []\n",
        "    \n",
        "    for i in range(1, len(score) + 1):\n",
        "        result.append(min((sorted(score[0:i], reverse = True))[0:k]))\n",
        "        \n",
        "    return result"
      ],
      "metadata": {
        "id": "V08oAQoHnxMX"
      },
      "execution_count": null,
      "outputs": []
    }
  ]
}