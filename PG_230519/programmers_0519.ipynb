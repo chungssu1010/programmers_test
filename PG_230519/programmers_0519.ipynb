{
  "nbformat": 4,
  "nbformat_minor": 0,
  "metadata": {
    "colab": {
      "provenance": []
    },
    "kernelspec": {
      "name": "python3",
      "display_name": "Python 3"
    },
    "language_info": {
      "name": "python"
    }
  },
  "cells": [
    {
      "cell_type": "markdown",
      "source": [
        "## 최댓값과 최솟값 Lv.2\n",
        "* 문자열 s에는 공백으로 구분된 숫자들이 저장되어 있습니다. str에 나타나는 숫자 중 최소값과 최대값을 찾아 이를 \"(최소값) (최대값)\"형태의 문자열을 반환하는 함수, solution을 완성하세요.\n",
        "예를들어 s가 \"1 2 3 4\"라면 \"1 4\"를 리턴하고, \"-1 -2 -3 -4\"라면 \"-4 -1\"을 리턴하면 됩니다."
      ],
      "metadata": {
        "id": "6zrzBOmU5kI8"
      }
    },
    {
      "cell_type": "code",
      "source": [
        "# 내 답\n",
        "\n",
        "def solution(s):\n",
        "    s = s.split()\n",
        "    s = [int(i) for i in s]\n",
        "    \n",
        "    return ' '.join([str(min(s)), str(max(s))])"
      ],
      "metadata": {
        "id": "eqQpEfi05j7G"
      },
      "execution_count": null,
      "outputs": []
    },
    {
      "cell_type": "code",
      "source": [
        "def solution(s):\n",
        "    s = list(map(int,s.split()))\n",
        "    return str(min(s)) + \" \" + str(max(s))"
      ],
      "metadata": {
        "id": "eGhXODSi57c5"
      },
      "execution_count": null,
      "outputs": []
    },
    {
      "cell_type": "markdown",
      "source": [
        "## 삼각형의 완성조건 (2) Lv.1\n",
        "* 선분 세 개로 삼각형을 만들기 위해서는 다음과 같은 조건을 만족해야 합니다.\n",
        "\n",
        "가장 긴 변의 길이는 다른 두 변의 길이의 합보다 작아야 합니다.\n",
        "삼각형의 두 변의 길이가 담긴 배열 sides이 매개변수로 주어집니다. 나머지 한 변이 될 수 있는 정수의 개수를 return하도록 solution 함수를 완성해주세요."
      ],
      "metadata": {
        "id": "NyDiCatTEh9G"
      }
    },
    {
      "cell_type": "code",
      "source": [
        "# 내 답\n",
        "\n",
        "def solution(sides):\n",
        "    result = []\n",
        "    side = sorted(sides)\n",
        "    \n",
        "    min = side[1] - side[0]\n",
        "    max = side[0] + side[1]\n",
        "    \n",
        "    for i in range(min, max):\n",
        "        if min < i < max:\n",
        "            result.append(i)\n",
        "    \n",
        "    return len(result)"
      ],
      "metadata": {
        "id": "g4Xida3BElV1"
      },
      "execution_count": null,
      "outputs": []
    },
    {
      "cell_type": "code",
      "source": [
        "def solution(sides):\n",
        "    return sum(sides) - max(sides) + min(sides) - 1"
      ],
      "metadata": {
        "id": "QlOyUFLcFugE"
      },
      "execution_count": null,
      "outputs": []
    },
    {
      "cell_type": "markdown",
      "source": [
        "## 가까운 수 Lv.1\n",
        "* 정수 배열 array와 정수 n이 매개변수로 주어질 때, array에 들어있는 정수 중 n과 가장 가까운 수를 return 하도록 solution 함수를 완성해주세요.\n",
        "* 가장 가까운 수가 여러 개일 경우 더 작은 수를 return 합니다."
      ],
      "metadata": {
        "id": "WxW3j2neUObV"
      }
    },
    {
      "cell_type": "code",
      "source": [
        "# 내 답\n",
        "\n",
        "def solution(array, n):\n",
        "    result = []\n",
        "    sorted_array = sorted(array)\n",
        "    for i in sorted_array:\n",
        "        result.append(abs(n - i))\n",
        "    \n",
        "    x = result.index(min(result))\n",
        "    \n",
        "    return sorted(array)[x]"
      ],
      "metadata": {
        "id": "_yToz5YdUTvK"
      },
      "execution_count": null,
      "outputs": []
    },
    {
      "cell_type": "code",
      "source": [
        "# sort key 활용\n",
        "\n",
        "def solution(array, n):\n",
        "    array.sort(key = lambda x : (abs(x-n), x-n))\n",
        "    answer = array[0]\n",
        "    return answer"
      ],
      "metadata": {
        "id": "XBxcjaamXilY"
      },
      "execution_count": null,
      "outputs": []
    }
  ]
}