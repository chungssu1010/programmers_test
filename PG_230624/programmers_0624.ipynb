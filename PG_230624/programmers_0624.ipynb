{
  "nbformat": 4,
  "nbformat_minor": 0,
  "metadata": {
    "colab": {
      "provenance": []
    },
    "kernelspec": {
      "name": "python3",
      "display_name": "Python 3"
    },
    "language_info": {
      "name": "python"
    }
  },
  "cells": [
    {
      "cell_type": "markdown",
      "source": [
        "# 유한소수 판별하기 Lv.0"
      ],
      "metadata": {
        "id": "1_57h3aIiP_W"
      }
    },
    {
      "cell_type": "code",
      "source": [
        "# 내 답\n",
        "\n",
        "import math\n",
        "\n",
        "def solution(a, b):\n",
        "    gcd_ = math.gcd(a, b)\n",
        "    b = (b // gcd_)\n",
        "\n",
        "    while b % 2 == 0:\n",
        "        b //= 2\n",
        "    while b % 5 == 0:\n",
        "        b //= 5\n",
        "\n",
        "    if b == 1:\n",
        "        return 1\n",
        "    else:\n",
        "        return 2"
      ],
      "metadata": {
        "id": "DiQeELYdiNyM"
      },
      "execution_count": null,
      "outputs": []
    },
    {
      "cell_type": "markdown",
      "source": [
        "# 저주의 숫자 3 Lv.0"
      ],
      "metadata": {
        "id": "iNs_g7rWiWBT"
      }
    },
    {
      "cell_type": "code",
      "source": [
        "# 내 답\n",
        "\n",
        "def solution(n):\n",
        "    new_list = []\n",
        "    count = 0\n",
        "\n",
        "    for i in range(1, 101):\n",
        "        while (i+count) % 3 == 0 or '3' in str(i+count):\n",
        "            count += 1\n",
        "        new_list.append(i+count)\n",
        "\n",
        "    return new_list[n-1]"
      ],
      "metadata": {
        "id": "LcGwCRCQnyWq"
      },
      "execution_count": null,
      "outputs": []
    },
    {
      "cell_type": "code",
      "source": [
        "def solution(n):\n",
        "    answer = 0\n",
        "    for _ in range(n):\n",
        "        answer += 1\n",
        "        while answer % 3 == 0 or '3' in str(answer):\n",
        "            answer += 1\n",
        "    return answer"
      ],
      "metadata": {
        "id": "qfR1caeKn-_H"
      },
      "execution_count": null,
      "outputs": []
    },
    {
      "cell_type": "markdown",
      "source": [
        "# 특이한 정렬 Lv.0"
      ],
      "metadata": {
        "id": "sYAK1fxpoBaD"
      }
    },
    {
      "cell_type": "code",
      "source": [
        "# 내 답\n",
        "\n",
        "def solution(numlist, n):\n",
        "    new_sort = [abs(i-n) for i in numlist]\n",
        "\n",
        "    sort_dic = dict(zip(numlist, new_sort))\n",
        "\n",
        "    return list(dict(sorted(sort_dic.items(), key=lambda x: (x[1], -x[0]))).keys())"
      ],
      "metadata": {
        "id": "PaAJrf7OsaSr"
      },
      "execution_count": null,
      "outputs": []
    },
    {
      "cell_type": "code",
      "source": [
        "def solution(numlist, n):\n",
        "    return sorted(numlist, key = lambda x: (abs(x-n),-x))"
      ],
      "metadata": {
        "id": "hhRyvYE7u5Et"
      },
      "execution_count": null,
      "outputs": []
    },
    {
      "cell_type": "markdown",
      "source": [
        "# 다음에 올 숫자 Lv.0"
      ],
      "metadata": {
        "id": "mB9MVYatvKwJ"
      }
    },
    {
      "cell_type": "code",
      "source": [
        "# 내 답\n",
        "\n",
        "def solution(common):\n",
        "    if common[1] - common[0] == common[2] - common[1]:\n",
        "        return common[-1] + (common[1] - common[0])\n",
        "    else:\n",
        "        return common[-1] * (common[1] / common[0])"
      ],
      "metadata": {
        "id": "BvTzJkK9vLYZ"
      },
      "execution_count": null,
      "outputs": []
    }
  ]
}