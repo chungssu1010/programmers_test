{
  "nbformat": 4,
  "nbformat_minor": 0,
  "metadata": {
    "colab": {
      "provenance": []
    },
    "kernelspec": {
      "name": "python3",
      "display_name": "Python 3"
    },
    "language_info": {
      "name": "python"
    }
  },
  "cells": [
    {
      "cell_type": "markdown",
      "source": [
        "# 외계어 사전 Lv.0\n",
        "알파벳이 담긴 배열 spell과 외계어 사전 dic이 매개변수로 주어집니다. spell에 담긴 알파벳을 한번씩만 모두 사용한 단어가 dic에 존재한다면 1, 존재하지 않는다면 2를 return하도록 solution 함수를 완성해주세요."
      ],
      "metadata": {
        "id": "tzf7F56aB6mS"
      }
    },
    {
      "cell_type": "code",
      "source": [
        "# 내 답\n",
        "\n",
        "import itertools\n",
        "\n",
        "def solution(spell, dic):\n",
        "    l = list(itertools.permutations(spell, len(spell)))\n",
        "    result = []\n",
        "    for i in range(len(l)):\n",
        "        result.append(''.join(l[i]))\n",
        "    \n",
        "    for j in result:\n",
        "        if j in dic:\n",
        "            return 1\n",
        "    \n",
        "    return 2"
      ],
      "metadata": {
        "id": "BnlnHO45CA9A"
      },
      "execution_count": null,
      "outputs": []
    },
    {
      "cell_type": "code",
      "source": [
        "def solution(spell, dic):\n",
        "    for d in dic:\n",
        "        if sorted(d) == sorted(spell):\n",
        "            return 1\n",
        "    return 2"
      ],
      "metadata": {
        "id": "3swi_MX1IFAs"
      },
      "execution_count": null,
      "outputs": []
    },
    {
      "cell_type": "markdown",
      "source": [
        "# 직사각형 넓이 구하기 Lv.0\n",
        "2차원 좌표 평면에 변이 축과 평행한 직사각형이 있습니다. 직사각형 네 꼭짓점의 좌표 [[x1, y1], [x2, y2], [x3, y3], [x4, y4]]가 담겨있는 배열 dots가 매개변수로 주어질 때, 직사각형의 넓이를 return 하도록 solution 함수를 완성해보세요."
      ],
      "metadata": {
        "id": "FuXZ2XroTx15"
      }
    },
    {
      "cell_type": "code",
      "source": [
        "# 내 답\n",
        "\n",
        "def solution(dots):\n",
        "    x = []\n",
        "    y = []\n",
        "    \n",
        "    for i in range(len(dots)):\n",
        "        x.append(dots[i][0])\n",
        "        y.append(dots[i][1])\n",
        "        \n",
        "    return abs(list(set(x))[0] - list(set(x))[1]) * abs(list(set(y))[0] - list(set(y))[1])"
      ],
      "metadata": {
        "id": "GgtW6R_8T0ot"
      },
      "execution_count": null,
      "outputs": []
    },
    {
      "cell_type": "code",
      "source": [
        "def solution(dots):\n",
        "    return (max(dots)[0] - min(dots)[0])*(max(dots)[1] - min(dots)[1])"
      ],
      "metadata": {
        "id": "OFLSd_dYUZK_"
      },
      "execution_count": null,
      "outputs": []
    },
    {
      "cell_type": "markdown",
      "source": [
        "# 종이 자르기 Lv.0\n",
        "머쓱이는 큰 종이를 1 x 1 크기\b로 자르려고 합니다. 예를 들어 2 x 2 크기의 종이를 1 x 1 크기로 자르려면 최소 가위질 세 번이 필요합니다.정수 M, N이 매개변수로 주어질 때, M x N 크기의 종이를 최소로 가위질 해야하는 횟수를 return 하도록 solution 함수를 완성해보세요.\n",
        "\n"
      ],
      "metadata": {
        "id": "tGpdAiBMC9yU"
      }
    },
    {
      "cell_type": "code",
      "source": [
        "# 내 답\n",
        "\n",
        "def solution(M, N):\n",
        "    return M * N - 1"
      ],
      "metadata": {
        "id": "a8R8tcPFDBds"
      },
      "execution_count": null,
      "outputs": []
    },
    {
      "cell_type": "markdown",
      "source": [
        "# 등수 매기기 Lv.0\n",
        "영어 점수와 수학 점수의 평균 점수를 기준으로 학생들의 등수를 매기려고 합니다. 영어 점수와 수학 점수를 담은 2차원 정수 배열 score가 주어질 때, 영어 점수와 수학 점수의 평균을 기준으로 매긴 등수를 담은 배열을 return하도록 solution 함수를 완성해주세요."
      ],
      "metadata": {
        "id": "5MOEEZk3DUiO"
      }
    },
    {
      "cell_type": "code",
      "source": [
        "# 내 답\n",
        "\n",
        "import numpy as np\n",
        "import pandas as pd\n",
        "\n",
        "def solution(score):\n",
        "    arr = []\n",
        "    \n",
        "    for i in range(len(score)):\n",
        "            arr.append(np.mean(score[i]))\n",
        "            \n",
        "    arr_df = pd.DataFrame(arr)\n",
        "    a = arr_df.rank(method='min', ascending=False)\n",
        "    return list(map(int, a[0].to_list()))"
      ],
      "metadata": {
        "id": "DNpMNUKXJ9Sf"
      },
      "execution_count": null,
      "outputs": []
    },
    {
      "cell_type": "code",
      "source": [
        "def solution(score):\n",
        "    a = sorted([sum(i) for i in score], reverse = True)\n",
        "    return [a.index(sum(i))+1 for i in score]"
      ],
      "metadata": {
        "id": "JY-EvBoxKkYN"
      },
      "execution_count": null,
      "outputs": []
    }
  ]
}