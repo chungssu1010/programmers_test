{
  "nbformat": 4,
  "nbformat_minor": 0,
  "metadata": {
    "colab": {
      "provenance": []
    },
    "kernelspec": {
      "name": "python3",
      "display_name": "Python 3"
    },
    "language_info": {
      "name": "python"
    }
  },
  "cells": [
    {
      "cell_type": "markdown",
      "source": [
        "## 행렬의 덧셈 Lv.1"
      ],
      "metadata": {
        "id": "Da2Yxeu1hvwP"
      }
    },
    {
      "cell_type": "code",
      "source": [
        "# 내 답\n",
        "\n",
        "def solution(arr1, arr2):\n",
        "    result = []\n",
        "\n",
        "    for a, b in zip(arr1, arr2):\n",
        "        list_ = []\n",
        "        for x, y in zip(a, b):\n",
        "            list_.append(x + y)\n",
        "        result.append(list_)\n",
        "\n",
        "    return result"
      ],
      "metadata": {
        "id": "SGlMicGahvPt"
      },
      "execution_count": null,
      "outputs": []
    },
    {
      "cell_type": "code",
      "source": [
        "import numpy as np\n",
        "\n",
        "def solution(arr1, arr2):\n",
        "    A_np = np.array(arr1)\n",
        "    B_np = np.array(arr2)\n",
        "    result = A_np + B_np\n",
        "\n",
        "    return result.tolist()"
      ],
      "metadata": {
        "id": "OMzAAJG3iAM3"
      },
      "execution_count": null,
      "outputs": []
    }
  ]
}