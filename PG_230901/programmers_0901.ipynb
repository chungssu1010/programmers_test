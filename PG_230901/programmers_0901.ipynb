{
  "nbformat": 4,
  "nbformat_minor": 0,
  "metadata": {
    "colab": {
      "provenance": []
    },
    "kernelspec": {
      "name": "python3",
      "display_name": "Python 3"
    },
    "language_info": {
      "name": "python"
    }
  },
  "cells": [
    {
      "cell_type": "markdown",
      "source": [
        "## 체육복 Lv.1"
      ],
      "metadata": {
        "id": "7p-0YIT3_akG"
      }
    },
    {
      "cell_type": "code",
      "execution_count": null,
      "metadata": {
        "id": "qqgEf1b4ue9i"
      },
      "outputs": [],
      "source": [
        "# 내 답\n",
        "\n",
        "def solution(n, lost, reserve):\n",
        "    new_lost = set(lost) - set(reserve)\n",
        "    new_reserve = set(reserve) - set(lost)\n",
        "\n",
        "    for i in new_lost:\n",
        "        if (i - 1) in new_reserve:\n",
        "            new_reserve.remove(i - 1)\n",
        "        elif (i + 1) in new_reserve:\n",
        "            new_reserve.remove(i + 1)\n",
        "        else:\n",
        "            n -= 1\n",
        "\n",
        "    return n"
      ]
    }
  ]
}