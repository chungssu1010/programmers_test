{
  "nbformat": 4,
  "nbformat_minor": 0,
  "metadata": {
    "colab": {
      "provenance": []
    },
    "kernelspec": {
      "name": "python3",
      "display_name": "Python 3"
    },
    "language_info": {
      "name": "python"
    }
  },
  "cells": [
    {
      "cell_type": "markdown",
      "source": [
        "## 평행 Lv.0"
      ],
      "metadata": {
        "id": "P9IIrCkA09fn"
      }
    },
    {
      "cell_type": "code",
      "execution_count": null,
      "metadata": {
        "id": "is0vg5N2JU8S"
      },
      "outputs": [],
      "source": [
        "# 내 답\n",
        "\n",
        "def solution(dots):\n",
        "    if ((dots[0][1] - dots[1][1]) / (dots[0][0] - dots[1][0])) == ((dots[2][1] - dots[3][1]) / (dots[2][0] - dots[3][0])):\n",
        "        return 1\n",
        "    elif ((dots[0][1] - dots[2][1]) / (dots[0][0] - dots[2][0])) == ((dots[1][1] - dots[3][1]) / (dots[1][0] - dots[3][0])):\n",
        "        return 1\n",
        "    elif ((dots[0][1] - dots[3][1]) / (dots[0][0] - dots[3][0])) == ((dots[1][1] - dots[2][1]) / (dots[1][0] - dots[2][0])):\n",
        "        return 1\n",
        "    else:\n",
        "        return 0"
      ]
    },
    {
      "cell_type": "code",
      "source": [
        "def solution(dots):\n",
        "    [[x1, y1], [x2, y2], [x3, y3], [x4, y4]]=dots\n",
        "    answer1 = ((y1-y2)*(x3-x4) == (y3-y4)*(x1-x2))\n",
        "    answer2 = ((y1-y3)*(x2-x4) == (y2-y4)*(x1-x3))\n",
        "    answer3 = ((y1-y4)*(x2-x3) == (y2-y3)*(x1-x4))\n",
        "    return 1 if answer1 or answer2 or answer3 else 0"
      ],
      "metadata": {
        "id": "y2HEF3xxp2kS"
      },
      "execution_count": null,
      "outputs": []
    },
    {
      "cell_type": "code",
      "source": [
        "from itertools import combinations\n",
        "\n",
        "def solution(dots):\n",
        "    a = []\n",
        "    for (x1,y1),(x2,y2) in combinations(dots,2):\n",
        "        a.append((y2-y1,x2-x1))\n",
        "\n",
        "    for (x1,y1),(x2,y2) in combinations(a,2):\n",
        "        if x1*y2==x2*y1:\n",
        "            return 1\n",
        "    return 0"
      ],
      "metadata": {
        "id": "3fEp6yTWqMjv"
      },
      "execution_count": null,
      "outputs": []
    }
  ]
}