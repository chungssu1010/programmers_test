{
  "nbformat": 4,
  "nbformat_minor": 0,
  "metadata": {
    "colab": {
      "provenance": []
    },
    "kernelspec": {
      "name": "python3",
      "display_name": "Python 3"
    },
    "language_info": {
      "name": "python"
    }
  },
  "cells": [
    {
      "cell_type": "markdown",
      "source": [
        "## 기사단원의 무기 Lv.1"
      ],
      "metadata": {
        "id": "piIAQ-ClE7gX"
      }
    },
    {
      "cell_type": "code",
      "source": [
        "# 내 답\n",
        "\n",
        "def solution(number, limit, power):\n",
        "    result = []\n",
        "\n",
        "    for num in range(1, number + 1):\n",
        "        divisor = 0\n",
        "        for i in range(1, int(num**0.5) + 1):\n",
        "            if num == (i * i):\n",
        "                divisor += 1\n",
        "            elif num % i == 0:\n",
        "                divisor += 2\n",
        "        if divisor > limit:\n",
        "            result.append(power)\n",
        "        else:\n",
        "            result.append(divisor)\n",
        "\n",
        "    return sum(result)"
      ],
      "metadata": {
        "id": "atoTP-1F-Li_"
      },
      "execution_count": null,
      "outputs": []
    }
  ]
}