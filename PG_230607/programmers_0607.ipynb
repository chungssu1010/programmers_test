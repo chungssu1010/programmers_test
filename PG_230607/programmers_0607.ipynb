{
  "nbformat": 4,
  "nbformat_minor": 0,
  "metadata": {
    "colab": {
      "provenance": []
    },
    "kernelspec": {
      "name": "python3",
      "display_name": "Python 3"
    },
    "language_info": {
      "name": "python"
    }
  },
  "cells": [
    {
      "cell_type": "markdown",
      "source": [
        "# JadenCase 문자열 만들기 Lv.2\n",
        "\n",
        "JadenCase란 모든 단어의 첫 문자가 대문자이고, 그 외의 알파벳은 소문자인 문자열입니다. 단, 첫 문자가 알파벳이 아닐 때에는 이어지는 알파벳은 소문자로 쓰면 됩니다. (첫 번째 입출력 예 참고)\n",
        "문자열 s가 주어졌을 때, s를 JadenCase로 바꾼 문자열을 리턴하는 함수, solution을 완성해주세요.\n",
        "- s는 알파벳과 숫자, 공백문자(\" \")로 이루어져 있습니다.\n",
        "- 숫자는 단어의 첫 문자로만 나옵니다.\n",
        "- 숫자로만 이루어진 단어는 없습니다.\n",
        "- 공백문자가 연속해서 나올 수 있습니다."
      ],
      "metadata": {
        "id": "k1RNX8bCFSMx"
      }
    },
    {
      "cell_type": "code",
      "source": [
        "# 내 답\n",
        "\n",
        "def solution(s):\n",
        "    s = s.split(' ')\n",
        "    result = []\n",
        "    \n",
        "    for word in s:\n",
        "        if word:\n",
        "            result.append(word[0].upper() + word[1:].lower())\n",
        "        else:\n",
        "            result.append(word)  # 공백문자 연속해서 나오는 것 고려\n",
        "        \n",
        "    return ' '.join(result)"
      ],
      "metadata": {
        "id": "FE7l0BL-FZ5d"
      },
      "execution_count": null,
      "outputs": []
    },
    {
      "cell_type": "markdown",
      "source": [
        "# 시저 암호 Lv.1\n",
        "어떤 문장의 각 알파벳을 일정한 거리만큼 밀어서 다른 알파벳으로 바꾸는 암호화 방식을 시저 암호라고 합니다. 예를 들어 \"AB\"는 1만큼 밀면 \"BC\"가 되고, 3만큼 밀면 \"DE\"가 됩니다. \"z\"는 1만큼 밀면 \"a\"가 됩니다. 문자열 s와 거리 n을 입력받아 s를 n만큼 민 암호문을 만드는 함수, solution을 완성해 보세요."
      ],
      "metadata": {
        "id": "YNW3SyF_YhIb"
      }
    },
    {
      "cell_type": "code",
      "source": [
        "# 내 답\n",
        "\n",
        "def solution(s, n):\n",
        "    ord_s = list(map(ord, s))\n",
        "    result = []\n",
        "\n",
        "    for i in ord_s:\n",
        "        if i == 32:     # 띄워쓰기 == 32\n",
        "            result.append(i)\n",
        "        elif i + n > 90 and i <= 90 or i + n > 122:\n",
        "            result.append(i - 26 + n)\n",
        "        else:\n",
        "            result.append(i+n)\n",
        "\n",
        "    return ''.join(map(chr, result))"
      ],
      "metadata": {
        "id": "AgdezpgIWGtV"
      },
      "execution_count": null,
      "outputs": []
    },
    {
      "cell_type": "markdown",
      "source": [
        "# 한 번만 등장한 문자 Lv.0\n",
        "\n",
        "문자열 s가 매개변수로 주어집니다. s에서 한 번만 등장하는 문자를 사전 순으로 정렬한 문자열을 return 하도록 solution 함수를 완성해보세요. 한 번만 등장하는 문자가 없을 경우 빈 문자열을 return 합니다."
      ],
      "metadata": {
        "id": "YDCmZPgBMMzn"
      }
    },
    {
      "cell_type": "code",
      "source": [
        "# 내 답\n",
        "\n",
        "def solution(s):\n",
        "    set_s = set(s)\n",
        "    result = ''\n",
        "        \n",
        "    for i in set_s:\n",
        "        if s.count(i) == 1:\n",
        "            result += i\n",
        "    \n",
        "    return ''.join(sorted(result))"
      ],
      "metadata": {
        "id": "NnA5ojEgMPBy"
      },
      "execution_count": null,
      "outputs": []
    }
  ]
}