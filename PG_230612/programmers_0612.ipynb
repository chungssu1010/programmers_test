{
  "nbformat": 4,
  "nbformat_minor": 0,
  "metadata": {
    "colab": {
      "provenance": []
    },
    "kernelspec": {
      "name": "python3",
      "display_name": "Python 3"
    },
    "language_info": {
      "name": "python"
    }
  },
  "cells": [
    {
      "cell_type": "markdown",
      "source": [
        "# 나이 정보가 없는 회원 수 구하기\n",
        "USER_INFO 테이블에서 나이 정보가 없는 회원이 몇 명인지 출력하는 SQL문을 작성해주세요. 이때 컬럼명은 USERS로 지정해주세요."
      ],
      "metadata": {
        "id": "amAvlxpaxeLp"
      }
    },
    {
      "cell_type": "code",
      "execution_count": null,
      "metadata": {
        "id": "EgDY5XitxCLO"
      },
      "outputs": [],
      "source": [
        "SELECT COUNT(*) AS USERS\n",
        "FROM USER_INFO\n",
        "WHERE AGE IS NULL;"
      ]
    },
    {
      "cell_type": "markdown",
      "source": [
        "# 어린 동물 찾기\n",
        "동물 보호소에 들어온 동물 중 젊은 동물1의 아이디와 이름을 조회하는 SQL 문을 작성해주세요. 이때 결과는 아이디 순으로 조회해주세요."
      ],
      "metadata": {
        "id": "hZGj1UfPxmhh"
      }
    },
    {
      "cell_type": "code",
      "source": [
        "SELECT ANIMAL_ID, NAME\n",
        "FROM ANIMAL_INS\n",
        "WHERE INTAKE_CONDITION != 'Aged'\n",
        "ORDER BY ANIMAL_ID"
      ],
      "metadata": {
        "id": "wfZT2GQlxmJW"
      },
      "execution_count": null,
      "outputs": []
    },
    {
      "cell_type": "markdown",
      "source": [
        "# 아픈 동물 찾기\n",
        "동물 보호소에 들어온 동물 중 아픈 동물1의 아이디와 이름을 조회하는 SQL 문을 작성해주세요. 이때 결과는 아이디 순으로 조회해주세요."
      ],
      "metadata": {
        "id": "5qabXxLmyzW3"
      }
    },
    {
      "cell_type": "code",
      "source": [
        "SELECT ANIMAL_ID, NAME\n",
        "FROM ANIMAL_INS\n",
        "WHERE INTAKE_CONDITION = 'Sick'\n",
        "ORDER BY ANIMAL_ID"
      ],
      "metadata": {
        "id": "RRbfiWOHy1Wg"
      },
      "execution_count": null,
      "outputs": []
    },
    {
      "cell_type": "markdown",
      "source": [
        "# 역순 정렬하기\n",
        "동물 보호소에 들어온 모든 동물의 이름과 보호 시작일을 조회하는 SQL문을 작성해주세요. 이때 결과는 ANIMAL_ID 역순으로 보여주세요. SQL을 실행하면 다음과 같이 출력되어야 합니다."
      ],
      "metadata": {
        "id": "r5Ut9ARtzWcG"
      }
    },
    {
      "cell_type": "code",
      "source": [
        "SELECT NAME, DATETIME\n",
        "FROM ANIMAL_INS\n",
        "ORDER BY ANIMAL_ID DESC"
      ],
      "metadata": {
        "id": "9kd6TSMSzYWY"
      },
      "execution_count": null,
      "outputs": []
    },
    {
      "cell_type": "markdown",
      "source": [
        "# 분수의 덧셈 Lv.0\n",
        "첫 번째 분수의 분자와 분모를 뜻하는 numer1, denom1, 두 번째 분수의 분자와 분모를 뜻하는 numer2, denom2가 매개변수로 주어집니다. 두 분수를 더한 값을 기약 분수로 나타냈을 때 분자와 분모를 순서대로 담은 배열을 return 하도록 solution 함수를 완성해보세요.\n",
        "\n"
      ],
      "metadata": {
        "id": "YYBZEl_MxvJg"
      }
    },
    {
      "cell_type": "code",
      "source": [
        "# 내 답\n",
        "\n",
        "import math\n",
        "\n",
        "def solution(numer1, denom1, numer2, denom2):\n",
        "    add_num = numer1 * denom2  + numer2 * denom1\n",
        "    add_den = denom1 * denom2\n",
        "    gcd_ = math.gcd(add_num, add_den)\n",
        "    \n",
        "    if gcd_ == 1:\n",
        "        return [add_num, add_den]\n",
        "    else:\n",
        "        return [int(add_num / gcd_), int(add_den / gcd_)]"
      ],
      "metadata": {
        "id": "4MI_Wsqkv_Lo"
      },
      "execution_count": null,
      "outputs": []
    },
    {
      "cell_type": "code",
      "source": [
        "import math\n",
        "\n",
        "def solution(numer1, denom1, numer2, denom2):\n",
        "    add_num = numer1 * denom2  + numer2 * denom1\n",
        "    add_den = denom1 * denom2\n",
        "    gcd_ = math.gcd(add_num, add_den)\n",
        "    \n",
        "    return [add_num // gcd_, add_den // gcd_]"
      ],
      "metadata": {
        "id": "Vbj0bnngyAXY"
      },
      "execution_count": null,
      "outputs": []
    },
    {
      "cell_type": "markdown",
      "source": [
        "# 최빈값 구하기 Lv.0\n",
        "최빈값은 주어진 값 중에서 가장 자주 나오는 값을 의미합니다. 정수 배열 array가 매개변수로 주어질 때, 최빈값을 return 하도록 solution 함수를 완성해보세요. 최빈값이 여러 개면 -1을 return 합니다."
      ],
      "metadata": {
        "id": "pIG482m45M_a"
      }
    },
    {
      "cell_type": "code",
      "source": [
        "# 내 답\n",
        "\n",
        "def solution(array):\n",
        "    result = []\n",
        "    \n",
        "    for i in set(array):\n",
        "        result.append(array.count(i))\n",
        "        \n",
        "    if result.count(max(result)) > 1:\n",
        "        return -1\n",
        "    else:\n",
        "        return list(set(array))[result.index(max(result))]"
      ],
      "metadata": {
        "id": "HTWCqw1xy3d7"
      },
      "execution_count": null,
      "outputs": []
    },
    {
      "cell_type": "code",
      "source": [
        "def solution(array):\n",
        "    while len(array) != 0:\n",
        "        for i, a in enumerate(set(array)):\n",
        "            array.remove(a)\n",
        "        if i == 0: \n",
        "            return a\n",
        "    return -1"
      ],
      "metadata": {
        "id": "-UiGIjoU3UoO"
      },
      "execution_count": null,
      "outputs": []
    }
  ]
}