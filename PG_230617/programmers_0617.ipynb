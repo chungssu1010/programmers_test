{
  "nbformat": 4,
  "nbformat_minor": 0,
  "metadata": {
    "colab": {
      "provenance": []
    },
    "kernelspec": {
      "name": "python3",
      "display_name": "Python 3"
    },
    "language_info": {
      "name": "python"
    }
  },
  "cells": [
    {
      "cell_type": "markdown",
      "source": [
        "# 흉부외과 또는 일반외과 의사 목록 출력하기\n",
        "DOCTOR 테이블에서 진료과가 흉부외과(CS)이거나 일반외과(GS)인 의사의 이름, 의사ID, 진료과, 고용일자를 조회하는 SQL문을 작성해주세요. 이때 결과는 고용일자를 기준으로 내림차순 정렬하고, 고용일자가 같다면 이름을 기준으로 오름차순 정렬해주세요.\n",
        "\n",
        "\n"
      ],
      "metadata": {
        "id": "5gBlJxO49o99"
      }
    },
    {
      "cell_type": "code",
      "source": [
        "SELECT\n",
        "    DR_NAME,\n",
        "    DR_ID,\n",
        "    MCDP_CD,\n",
        "    DATE_FORMAT(HIRE_YMD, '%Y-%m-%d')\n",
        "FROM DOCTOR\n",
        "WHERE MCDP_CD = 'CS'\n",
        "OR MCDP_CD = 'GS'\n",
        "ORDER BY HIRE_YMD DESC, DR_NAME"
      ],
      "metadata": {
        "id": "4pvpEd2O9pIF"
      },
      "execution_count": null,
      "outputs": []
    },
    {
      "cell_type": "markdown",
      "source": [
        "# 입양 시각 구하기(1)\n",
        "보호소에서는 몇 시에 입양이 가장 활발하게 일어나는지 알아보려 합니다. 09:00부터 19:59까지, 각 시간대별로 입양이 몇 건이나 발생했는지 조회하는 SQL문을 작성해주세요. 이때 결과는 시간대 순으로 정렬해야 합니다."
      ],
      "metadata": {
        "id": "4s-ljqkS-bNj"
      }
    },
    {
      "cell_type": "code",
      "source": [
        "SELECT\n",
        "    HOUR(DATETIME) AS HOUR,\n",
        "    COUNT(ANIMAL_ID) AS COUNT\n",
        "FROM ANIMAL_OUTS\n",
        "WHERE HOUR(DATETIME) BETWEEN 9 AND 20\n",
        "GROUP BY HOUR\n",
        "ORDER BY HOUR"
      ],
      "metadata": {
        "id": "6gwWdiss-cCS"
      },
      "execution_count": null,
      "outputs": []
    },
    {
      "cell_type": "markdown",
      "source": [
        "# 진료과별 총 예약 횟수 출력하기\n",
        "APPOINTMENT 테이블에서 2022년 5월에 예약한 환자 수를 진료과코드 별로 조회하는 SQL문을 작성해주세요. 이때, 컬럼명은 '진료과 코드', '5월예약건수'로 지정해주시고 결과는 진료과별 예약한 환자 수를 기준으로 오름차순 정렬하고, 예약한 환자 수가 같다면 진료과 코드를 기준으로 오름차순 정렬해주세요."
      ],
      "metadata": {
        "id": "-B_vGzpkAql2"
      }
    },
    {
      "cell_type": "code",
      "source": [
        "SELECT\n",
        "    MCDP_CD AS 진료과코드,\n",
        "    COUNT(APNT_NO) AS 5월예약건수\n",
        "FROM APPOINTMENT\n",
        "WHERE DATE(APNT_YMD) BETWEEN '2022-05-01' AND '2022-05-31'\n",
        "GROUP BY MCDP_CD\n",
        "ORDER BY 5월예약건수, 진료과코드"
      ],
      "metadata": {
        "id": "D89BvqNJAtU5"
      },
      "execution_count": null,
      "outputs": []
    },
    {
      "cell_type": "markdown",
      "source": [
        "# 자동차 종류 별 특정 옵션이 포함된 자동차 수 구하기\n",
        "CAR_RENTAL_COMPANY_CAR 테이블에서 '통풍시트', '열선시트', '가죽시트' 중 하나 이상의 옵션이 포함된 자동차가 자동차 종류 별로 몇 대인지 출력하는 SQL문을 작성해주세요. 이때 자동차 수에 대한 컬럼명은 CARS로 지정하고, 결과는 자동차 종류를 기준으로 오름차순 정렬해주세요."
      ],
      "metadata": {
        "id": "ijTpGt8EAwwL"
      }
    },
    {
      "cell_type": "code",
      "source": [
        "SELECT\n",
        "    CAR_TYPE,\n",
        "    COUNT(CAR_ID) AS CARS\n",
        "FROM CAR_RENTAL_COMPANY_CAR\n",
        "WHERE OPTIONS LIKE '%통풍시트%'\n",
        "OR OPTIONS LIKE '%열선시트%'\n",
        "OR OPTIONS LIKE '%가죽시트%'\n",
        "GROUP BY CAR_TYPE\n",
        "ORDER BY CAR_TYPE"
      ],
      "metadata": {
        "id": "9VYvdxZfDCz8"
      },
      "execution_count": null,
      "outputs": []
    },
    {
      "cell_type": "markdown",
      "source": [
        "# 상품 별 오프라인 매출 구하기\n",
        "PRODUCT 테이블과 OFFLINE_SALE 테이블에서 상품코드 별 매출액(판매가 * 판매량) 합계를 출력하는 SQL문을 작성해주세요. 결과는 매출액을 기준으로 내림차순 정렬해주시고 매출액이 같다면 상품코드를 기준으로 오름차순 정렬해주세요."
      ],
      "metadata": {
        "id": "PMFSSf4KEPlz"
      }
    },
    {
      "cell_type": "code",
      "source": [
        "SELECT\n",
        "    P.PRODUCT_CODE,\n",
        "    SUM(P.PRICE * O.SALES_AMOUNT) AS SALES\n",
        "FROM PRODUCT P\n",
        "JOIN OFFLINE_SALE O\n",
        "ON P.PRODUCT_ID = O.PRODUCT_ID\n",
        "GROUP BY PRODUCT_CODE\n",
        "ORDER BY SALES DESC, PRODUCT_CODE"
      ],
      "metadata": {
        "id": "D8kBzp-VEPx1"
      },
      "execution_count": null,
      "outputs": []
    },
    {
      "cell_type": "markdown",
      "source": [
        "# 루시와 엘라 찾기\n",
        "동물 보호소에 들어온 동물 중 이름이 Lucy, Ella, Pickle, Rogan, Sabrina, Mitty인 동물의 아이디와 이름, 성별 및 중성화 여부를 조회하는 SQL 문을 작성해주세요."
      ],
      "metadata": {
        "id": "HbGJVsWqESUp"
      }
    },
    {
      "cell_type": "code",
      "source": [
        "SELECT\n",
        "    ANIMAL_ID,\n",
        "    NAME,\n",
        "    SEX_UPON_INTAKE\n",
        "FROM ANIMAL_INS\n",
        "WHERE NAME IN ('Lucy', 'Ella', 'Pickle', 'Rogan', 'Sabrina', 'Mitty')\n",
        "ORDER BY ANIMAL_ID"
      ],
      "metadata": {
        "id": "ty3WQ1xFESiE"
      },
      "execution_count": null,
      "outputs": []
    },
    {
      "cell_type": "markdown",
      "source": [
        "# 조건에 맞는 도서와 저자 리스트 출력하기\n",
        "'경제' 카테고리에 속하는 도서들의 도서 ID(BOOK_ID), 저자명(AUTHOR_NAME), 출판일(PUBLISHED_DATE) 리스트를 출력하는 SQL문을 작성해주세요.\n",
        "결과는 출판일을 기준으로 오름차순 정렬해주세요."
      ],
      "metadata": {
        "id": "5F3jNda4FiSX"
      }
    },
    {
      "cell_type": "code",
      "source": [
        "SELECT\n",
        "    BOOK_ID,\n",
        "    AUTHOR_NAME,\n",
        "    DATE_FORMAT(PUBLISHED_DATE, '%Y-%m-%d')\n",
        "FROM BOOK B\n",
        "JOIN AUTHOR A ON B.AUTHOR_ID = A.AUTHOR_ID\n",
        "WHERE CATEGORY = '경제'\n",
        "ORDER BY PUBLISHED_DATE"
      ],
      "metadata": {
        "id": "aG-XEUbCFkih"
      },
      "execution_count": null,
      "outputs": []
    },
    {
      "cell_type": "markdown",
      "source": [
        "# 성분으로 구분한 아이스크림 총 주문량\n",
        "상반기 동안 각 아이스크림 성분 타입과 성분 타입에 대한 아이스크림의 총주문량을 총주문량이 작은 순서대로 조회하는 SQL 문을 작성해주세요. 이때 총주문량을 나타내는 컬럼명은 TOTAL_ORDER로 지정해주세요."
      ],
      "metadata": {
        "id": "_YKXsrY3Fmxj"
      }
    },
    {
      "cell_type": "code",
      "source": [
        "SELECT\n",
        "    I.INGREDIENT_TYPE,\n",
        "    SUM(F.TOTAL_ORDER)\n",
        "FROM FIRST_HALF F\n",
        "JOIN ICECREAM_INFO I ON F.FLAVOR = I.FLAVOR\n",
        "GROUP BY I.INGREDIENT_TYPE\n",
        "ORDER BY F.TOTAL_ORDER"
      ],
      "metadata": {
        "id": "5BeORLHqHAO2"
      },
      "execution_count": null,
      "outputs": []
    },
    {
      "cell_type": "markdown",
      "source": [
        "# 조건에 맞는 도서 리스트 출력하기\n",
        "BOOK 테이블에서 2021년에 출판된 '인문' 카테고리에 속하는 도서 리스트를 찾아서 도서 ID(BOOK_ID), 출판일 (PUBLISHED_DATE)을 출력하는 SQL문을 작성해주세요.\n",
        "결과는 출판일을 기준으로 오름차순 정렬해주세요."
      ],
      "metadata": {
        "id": "ua0UYUWVHMVU"
      }
    },
    {
      "cell_type": "code",
      "source": [
        "SELECT\n",
        "    BOOK_ID,\n",
        "    DATE_FORMAT(PUBLISHED_DATE, '%Y-%m-%d')\n",
        "FROM BOOK\n",
        "WHERE YEAR(PUBLISHED_DATE) = 2021\n",
        "AND CATEGORY = '인문'\n",
        "ORDER BY PUBLISHED_DATE"
      ],
      "metadata": {
        "id": "NKTHwGk8HPH4"
      },
      "execution_count": null,
      "outputs": []
    }
  ]
}