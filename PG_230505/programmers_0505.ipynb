{
  "nbformat": 4,
  "nbformat_minor": 0,
  "metadata": {
    "colab": {
      "provenance": []
    },
    "kernelspec": {
      "name": "python3",
      "display_name": "Python 3"
    },
    "language_info": {
      "name": "python"
    }
  },
  "cells": [
    {
      "cell_type": "markdown",
      "source": [
        "## 최댓값 만들기\n",
        "* 정수 배열 numbers가 매개변수로 주어집니다. numbers의 원소 중 두 개를 곱해 만들 수 있는 최댓값을 return하도록 solution 함수를 완성해주세요."
      ],
      "metadata": {
        "id": "4Gd_1GbL5b4C"
      }
    },
    {
      "cell_type": "code",
      "execution_count": null,
      "metadata": {
        "id": "GiiL4u8M5TCi"
      },
      "outputs": [],
      "source": [
        "# 내 답\n",
        "\n",
        "def solution(numbers):\n",
        "    return sorted(numbers)[-1] * sorted(numbers)[-2]"
      ]
    },
    {
      "cell_type": "markdown",
      "source": [
        "## 삼각형의 완성조건\n",
        "* 선분 세 개로 삼각형을 만들기 위해서는 다음과 같은 조건을 만족해야 합니다.\n",
        "\n",
        "가장 긴 변의 길이는 다른 두 변의 길이의 합보다 작아야 합니다.\n",
        "삼각형의 세 변의 길이가 담긴 배열 sides이 매개변수로 주어집니다. 세 변으로 삼각형을 만들 수 있다면 1, 만들 수 없다면 2를 return하도록 solution 함수를 완성해주세요."
      ],
      "metadata": {
        "id": "3k3yF6P56UJ3"
      }
    },
    {
      "cell_type": "code",
      "source": [
        "# 내 답\n",
        "\n",
        "def solution(sides):\n",
        "    sides.sort()\n",
        "    if sides[-1] < sides[0] + sides[1]:\n",
        "        return 1\n",
        "    else:\n",
        "        return 2"
      ],
      "metadata": {
        "id": "2NK7oGxp6Xpz"
      },
      "execution_count": null,
      "outputs": []
    },
    {
      "cell_type": "markdown",
      "source": [
        "## 짝수 홀수 개수\n",
        "* 정수가 담긴 리스트 num_list가 주어질 때, num_list의 원소 중 짝수와 홀수의 개수를 담은 배열을 return 하도록 solution 함수를 완성해보세요."
      ],
      "metadata": {
        "id": "vSfrcb9G-wD0"
      }
    },
    {
      "cell_type": "code",
      "source": [
        "# 내 답\n",
        "\n",
        "def solution(num_list):\n",
        "    even_list = []\n",
        "    odd_list = []\n",
        "    \n",
        "    for i in num_list:\n",
        "        if i % 2 == 0:\n",
        "            even_list.append(i)\n",
        "        else:\n",
        "            odd_list.append(i)\n",
        "        \n",
        "    return [len(even_list), len(odd_list)]"
      ],
      "metadata": {
        "id": "1zh6bJOd-yPY"
      },
      "execution_count": null,
      "outputs": []
    },
    {
      "cell_type": "code",
      "source": [
        "def solution(num_list):\n",
        "    answer = [0,0]\n",
        "\n",
        "    for num in num_list:\n",
        "        if num % 2 == 0:\n",
        "            answer[0] += 1\n",
        "        else:\n",
        "            answer[1] += 1\n",
        "\n",
        "    return answer"
      ],
      "metadata": {
        "id": "kz1xaHV8AAo2"
      },
      "execution_count": null,
      "outputs": []
    },
    {
      "cell_type": "code",
      "source": [
        "def solution(num_list):\n",
        "    odd = sum(1 for n in num_list if n % 2)\n",
        "    return [len(num_list) - odd, odd]"
      ],
      "metadata": {
        "id": "Q1nk9FKIAGw8"
      },
      "execution_count": null,
      "outputs": []
    },
    {
      "cell_type": "code",
      "source": [
        "def solution(num_list):\n",
        "    answer = [0,0]\n",
        "    for n in num_list:\n",
        "        answer[n%2]+=1\n",
        "    return answer"
      ],
      "metadata": {
        "id": "xoCakOwm_9dK"
      },
      "execution_count": null,
      "outputs": []
    },
    {
      "cell_type": "markdown",
      "source": [
        "## 점의 위치 구하기\n",
        "* 사분면은 한 평면을 x축과 y축을 기준으로 나눈 네 부분입니다. 사분면은 아래와 같이 1부터 4까지 번호를매깁니다.\n",
        "\n",
        "* x 좌표와 y 좌표가 모두 양수이면 제1사분면에 속합니다.\n",
        "* x 좌표가 음수, y 좌표가 양수이면 제2사분면에 속합니다.\n",
        "* x 좌표와 y 좌표가 모두 음수이면 제3사분면에 속합니다.\n",
        "* x 좌표가 양수, y 좌표가 음수이면 제4사분면에 속합니다.\n",
        "* x 좌표 (x, y)를 차례대로 담은 정수 배열 dot이 매개변수로 주어집니다. 좌표 dot이 사분면 중 어디에 속하는지 1, 2, 3, 4 중 하나를 return 하도록 solution 함수를 완성해주세요."
      ],
      "metadata": {
        "id": "4VdKtzlDCN7w"
      }
    },
    {
      "cell_type": "code",
      "source": [
        "# 내 답\n",
        "\n",
        "def solution(dot):\n",
        "    if dot[0] > 0 and dot[1] > 0:\n",
        "        return 1\n",
        "    elif dot[0] > 0 and dot[1] < 0:\n",
        "        return 4\n",
        "    elif dot[0] < 0 and dot[1] > 0:\n",
        "        return 2\n",
        "    else:\n",
        "        return 3"
      ],
      "metadata": {
        "id": "fNbGNoFcCQoB"
      },
      "execution_count": null,
      "outputs": []
    },
    {
      "cell_type": "code",
      "source": [
        "def solution(dot):\n",
        "    quad = [(3,2),(4,1)]\n",
        "    return quad[dot[0] > 0][dot[1] > 0]     # True면 1, False면 0"
      ],
      "metadata": {
        "id": "InWsZOJwC-qC"
      },
      "execution_count": null,
      "outputs": []
    },
    {
      "cell_type": "markdown",
      "source": [
        "## 옷가게 할인 받기\n",
        "* 머쓱이네 옷가게는 10만 원 이상 사면 5%, 30만 원 이상 사면 10%, 50만 원 이상 사면 20%를 할인해줍니다.\n",
        "구매한 옷의 가격 price가 주어질 때, 지불해야 할 금액을 return 하도록 solution 함수를 완성해보세요."
      ],
      "metadata": {
        "id": "v0_w3A-WGYbk"
      }
    },
    {
      "cell_type": "code",
      "source": [
        "# 내 답\n",
        "\n",
        "def solution(price):\n",
        "    if price >= 500000:\n",
        "        price *= 0.8\n",
        "    elif price >= 300000:\n",
        "        price *= 0.9\n",
        "    elif price >= 100000:\n",
        "        price *= 0.95\n",
        "    \n",
        "    return int(price)"
      ],
      "metadata": {
        "id": "n4g2iJ7rGc3m"
      },
      "execution_count": null,
      "outputs": []
    },
    {
      "cell_type": "code",
      "source": [
        "def solution(price):\n",
        "    discount_rates = {500000: 0.8, 300000: 0.9, 100000: 0.95, 0: 1}\n",
        "    for discount_price, discount_rate in discount_rates.items():\n",
        "        if price >= discount_price:\n",
        "            return int(price * discount_rate)"
      ],
      "metadata": {
        "id": "cAewIdrHG7hv"
      },
      "execution_count": null,
      "outputs": []
    },
    {
      "cell_type": "code",
      "source": [
        "# 출처: 프로그래머스 코딩 테스트 연습\n",
        "# https://school.programmers.co.kr/learn/challenges"
      ],
      "metadata": {
        "id": "NcSWuk_2IPcx"
      },
      "execution_count": null,
      "outputs": []
    }
  ]
}