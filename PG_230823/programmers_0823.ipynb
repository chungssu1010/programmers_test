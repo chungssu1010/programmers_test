{
  "nbformat": 4,
  "nbformat_minor": 0,
  "metadata": {
    "colab": {
      "provenance": []
    },
    "kernelspec": {
      "name": "python3",
      "display_name": "Python 3"
    },
    "language_info": {
      "name": "python"
    }
  },
  "cells": [
    {
      "cell_type": "markdown",
      "source": [
        "## 2016년 Lv.1"
      ],
      "metadata": {
        "id": "R8OxqQX-b93o"
      }
    },
    {
      "cell_type": "code",
      "execution_count": null,
      "metadata": {
        "id": "94iRbN8xWoWN"
      },
      "outputs": [],
      "source": [
        "# 내 답\n",
        "\n",
        "def solution(a, b):\n",
        "    date = {1:30, 2:29, 3:31, 4:30,\n",
        "            5:31, 6:30, 7:31, 8:31,\n",
        "            9:30, 10:31, 11:30, 12:31}\n",
        "\n",
        "    weekday = {0:'FRI', 1:'SAT', 2:'SUN', 3:'MON',\n",
        "               4:'TUE', 5:'WED', 6:'THU'}\n",
        "\n",
        "    if a == 1:\n",
        "        return weekday[b-1]\n",
        "    else:\n",
        "        day = 0\n",
        "        for i in range(1, a):\n",
        "            day += date[i]\n",
        "        day += b\n",
        "        return weekday[day % 7]"
      ]
    },
    {
      "cell_type": "code",
      "source": [
        "def getDayName(a,b):\n",
        "    month = [31, 29, 31, 30, 31, 30, 31, 31, 30, 31, 30, 31]\n",
        "    day = ['FRI', 'SAT', 'SUN', 'MON', 'TUE', 'WED', 'THU']\n",
        "    return day[(sum(month[:a-1])+b-1)%7]"
      ],
      "metadata": {
        "id": "WS5gw3MXcYGP"
      },
      "execution_count": null,
      "outputs": []
    },
    {
      "cell_type": "code",
      "source": [
        "import datetime\n",
        "\n",
        "def getDayName(a,b):\n",
        "    t = 'MON TUE WED THU FRI SAT SUN'.split()\n",
        "    return t[datetime.datetime(2016, a, b).weekday()]"
      ],
      "metadata": {
        "id": "oIAl09VxdjlO"
      },
      "execution_count": null,
      "outputs": []
    }
  ]
}