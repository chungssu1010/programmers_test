{
  "nbformat": 4,
  "nbformat_minor": 0,
  "metadata": {
    "colab": {
      "provenance": []
    },
    "kernelspec": {
      "name": "python3",
      "display_name": "Python 3"
    },
    "language_info": {
      "name": "python"
    }
  },
  "cells": [
    {
      "cell_type": "markdown",
      "source": [
        "## 양꼬치\n",
        "\n",
        "* 머쓱이네 양꼬치 가게는 10인분을 먹으면 음료수 하나를 서비스로 줍니다. 양꼬치는 1인분에 12,000원, 음료수는 2,000원입니다. 정수 n과 k가 매개변수로 주어졌을 때, 양꼬치 n인분과 음료수 k개를 먹었다면 총얼마를 지불해야 하는지 return 하도록 solution 함수를 완성해보세요."
      ],
      "metadata": {
        "id": "4REK4y9YO6lp"
      }
    },
    {
      "cell_type": "code",
      "execution_count": null,
      "metadata": {
        "id": "rSZbnvNcOeGg"
      },
      "outputs": [],
      "source": [
        "# 내 답\n",
        "def solution(n, k):\n",
        "    result = 12000*n + 2000*k\n",
        "    if n >= 10:\n",
        "        result -= 2000*(n // 10)\n",
        "    return result"
      ]
    },
    {
      "cell_type": "code",
      "source": [
        "def solution(n, k):\n",
        "    return 12000 * n + 2000 * (k - n // 10)"
      ],
      "metadata": {
        "id": "VTNvoh_YOy_7"
      },
      "execution_count": null,
      "outputs": []
    },
    {
      "cell_type": "markdown",
      "source": [
        "## 짝수의 합\n",
        "\n",
        "* 정수 n이 주어질 때, n이하의 짝수를 모두 더한 값을 return 하도록 solution 함수를 작성해주세요."
      ],
      "metadata": {
        "id": "xYMoic4zPOO5"
      }
    },
    {
      "cell_type": "code",
      "source": [
        "# 내 답\n",
        "def solution(n):\n",
        "    return sum(range(0, n+1, 2))"
      ],
      "metadata": {
        "id": "jEaPtoSrPR1S"
      },
      "execution_count": null,
      "outputs": []
    },
    {
      "cell_type": "code",
      "source": [
        "def solution(n):\n",
        "    return sum([i for i in range(2, n + 1, 2)])"
      ],
      "metadata": {
        "id": "wwZdB0mdPcUv"
      },
      "execution_count": null,
      "outputs": []
    },
    {
      "cell_type": "code",
      "source": [
        "# 출처: 프로그래머스 코딩 테스트 연습\n",
        "# https://school.programmers.co.kr/learn/challenges"
      ],
      "metadata": {
        "id": "1azBEowePwU8"
      },
      "execution_count": null,
      "outputs": []
    },
    {
      "cell_type": "markdown",
      "source": [
        "## 리스트의 삭제"
      ],
      "metadata": {
        "id": "5TbbU4pgP35v"
      }
    },
    {
      "cell_type": "code",
      "source": [
        "# 다음 리스트에서 400, 500를 삭제하는 code를 입력하세요.\n",
        "\n",
        "nums = [100, 200, 300, 400, 500]"
      ],
      "metadata": {
        "id": "ANGywJVbPwnP"
      },
      "execution_count": 2,
      "outputs": []
    },
    {
      "cell_type": "code",
      "source": [
        "nums.pop()\n",
        "nums.pop()\n",
        "print(nums)"
      ],
      "metadata": {
        "colab": {
          "base_uri": "https://localhost:8080/"
        },
        "id": "5urSuM34P8xd",
        "outputId": "5543c0c8-8dc2-4c26-d2c2-1dcfe6028959"
      },
      "execution_count": 3,
      "outputs": [
        {
          "output_type": "execute_result",
          "data": {
            "text/plain": [
              "[100, 200, 300]"
            ]
          },
          "metadata": {},
          "execution_count": 3
        }
      ]
    },
    {
      "cell_type": "markdown",
      "source": [
        "## 리스트의 내장함수\n"
      ],
      "metadata": {
        "id": "NB4qIiniQSr9"
      }
    },
    {
      "cell_type": "code",
      "source": [
        "l = [200, 100, 300]\n",
        "<pass>\n",
        "print(l)\n",
        "\n",
        "# <pass>부분에 리스트 내장함수를 insert를 이용하여 코드를 입력하고 다음과 같이 출력되게 하세요.\n",
        "\n",
        "# >> 출력\n",
        "\n",
        "[200, 100, 10000, 300]"
      ],
      "metadata": {
        "id": "ZUpa6xeEQVr-"
      },
      "execution_count": null,
      "outputs": []
    },
    {
      "cell_type": "code",
      "source": [
        "l = [200, 100, 300]\n",
        "l.insert(2, 10000)\n",
        "print(l)"
      ],
      "metadata": {
        "colab": {
          "base_uri": "https://localhost:8080/"
        },
        "id": "woAfpyDtQf_n",
        "outputId": "e6037be7-571f-4491-aeda-c9439bccb028"
      },
      "execution_count": 4,
      "outputs": [
        {
          "output_type": "stream",
          "name": "stdout",
          "text": [
            "[200, 100, 10000, 300]\n"
          ]
        }
      ]
    },
    {
      "cell_type": "markdown",
      "source": [
        "## 변수의 타입"
      ],
      "metadata": {
        "id": "vH8TpJgyRJO5"
      }
    },
    {
      "cell_type": "code",
      "source": [
        "# 다음 출력 값으로 올바른 것은?\n",
        "\n",
        "l = [100, 200, 300]\n",
        "print(type(l))\n",
        "\n",
        "# 1)  class 'str'\n",
        "# 2)  class 'int'\n",
        "# 3)  class 'list'\n",
        "# 4)  class 'tuple'"
      ],
      "metadata": {
        "id": "NxLbs3rxRKn5"
      },
      "execution_count": null,
      "outputs": []
    },
    {
      "cell_type": "code",
      "source": [
        "# 3) class 'list"
      ],
      "metadata": {
        "id": "gCsQxRyrRSTU"
      },
      "execution_count": null,
      "outputs": []
    },
    {
      "cell_type": "code",
      "source": [
        "l = [100, 200, 300]\n",
        "print(type(l))"
      ],
      "metadata": {
        "colab": {
          "base_uri": "https://localhost:8080/"
        },
        "id": "3386pAvcRXKw",
        "outputId": "cb406af8-0e4f-4b84-962d-d9d7b3be82f4"
      },
      "execution_count": 5,
      "outputs": [
        {
          "output_type": "stream",
          "name": "stdout",
          "text": [
            "<class 'list'>\n"
          ]
        }
      ]
    },
    {
      "cell_type": "markdown",
      "source": [
        "## 변수의 타입2"
      ],
      "metadata": {
        "id": "-G971xIcRbTD"
      }
    },
    {
      "cell_type": "code",
      "source": [
        "# 다음 변수 a를 print(type(a))로 넣었을 때 출력될 값과의 연결이 알맞지 않은 것은?\n",
        "\n",
        "# 1)  입력 : a =1,   출력 : class 'int'\n",
        "\n",
        "# 2)  입력 : a = 2.22,   출력 : class 'float'\n",
        "\n",
        "# 3)  입력 : a = 'p',   출력 : class 'char'\n",
        "\n",
        "# 4)  입력 : a = [1, 2, 3],   출력 : class 'list'"
      ],
      "metadata": {
        "id": "4wI4O5x_RdZw"
      },
      "execution_count": null,
      "outputs": []
    },
    {
      "cell_type": "code",
      "source": [
        "# 3)"
      ],
      "metadata": {
        "id": "47PzzHHXRfl_"
      },
      "execution_count": null,
      "outputs": []
    },
    {
      "cell_type": "code",
      "source": [
        "a = 'p'\n",
        "print(type(a))"
      ],
      "metadata": {
        "colab": {
          "base_uri": "https://localhost:8080/"
        },
        "id": "VSXYPRjKRnNL",
        "outputId": "6940563b-1b5b-4ad0-a0cc-635a16f4fb07"
      },
      "execution_count": 6,
      "outputs": [
        {
          "output_type": "stream",
          "name": "stdout",
          "text": [
            "<class 'str'>\n"
          ]
        }
      ]
    },
    {
      "cell_type": "markdown",
      "source": [
        "## for문 계산"
      ],
      "metadata": {
        "id": "M3BLGRSyRur0"
      }
    },
    {
      "cell_type": "code",
      "source": [
        "# 다음 코드의 출력 값으로 알맞은 것은?\n",
        "\n",
        "a = 10\n",
        "b = 2\n",
        "for i in range(1, 5, 2):\n",
        "    a += i\n",
        "\n",
        "print(a+b)\n",
        "\n",
        "# 1)  10\n",
        "# 2)  12\n",
        "# 3)  14\n",
        "# 4)  16"
      ],
      "metadata": {
        "id": "JNgmZlYYRwNQ"
      },
      "execution_count": null,
      "outputs": []
    },
    {
      "cell_type": "code",
      "source": [
        "# 4)"
      ],
      "metadata": {
        "id": "xLqZ0d4mR0wc"
      },
      "execution_count": null,
      "outputs": []
    },
    {
      "cell_type": "code",
      "source": [
        "a = 10\n",
        "b = 2\n",
        "for i in range(1, 5, 2):\n",
        "    a += i\n",
        "\n",
        "print(a+b)"
      ],
      "metadata": {
        "colab": {
          "base_uri": "https://localhost:8080/"
        },
        "id": "984oHyj8R8XB",
        "outputId": "b260929d-adfc-4e57-8a8a-b0203e9aa10c"
      },
      "execution_count": 7,
      "outputs": [
        {
          "output_type": "stream",
          "name": "stdout",
          "text": [
            "16\n"
          ]
        }
      ]
    },
    {
      "cell_type": "code",
      "source": [
        "# 출처 Python 100제"
      ],
      "metadata": {
        "id": "LoQyWzuISBub"
      },
      "execution_count": null,
      "outputs": []
    }
  ]
}