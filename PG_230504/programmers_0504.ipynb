{
  "nbformat": 4,
  "nbformat_minor": 0,
  "metadata": {
    "colab": {
      "provenance": []
    },
    "kernelspec": {
      "name": "python3",
      "display_name": "Python 3"
    },
    "language_info": {
      "name": "python"
    }
  },
  "cells": [
    {
      "cell_type": "code",
      "source": [
        "# *****\n",
        "# *****\n",
        "# *****\n",
        "# *****\n",
        "# *****"
      ],
      "metadata": {
        "id": "6uF-SxIDn6rv"
      },
      "execution_count": null,
      "outputs": []
    },
    {
      "cell_type": "code",
      "source": [
        "for i in range(5):\n",
        "    for i in range(5):\n",
        "        print('*', end='')\n",
        "    print()"
      ],
      "metadata": {
        "colab": {
          "base_uri": "https://localhost:8080/"
        },
        "id": "shGnErv9o_CA",
        "outputId": "8de00fad-be55-41fc-8e30-2ac9298c0162"
      },
      "execution_count": null,
      "outputs": [
        {
          "output_type": "stream",
          "name": "stdout",
          "text": [
            "*****\n",
            "*****\n",
            "*****\n",
            "*****\n",
            "*****\n"
          ]
        }
      ]
    },
    {
      "cell_type": "code",
      "source": [
        "for i in range(5):\n",
        "        print('*' * 5)"
      ],
      "metadata": {
        "colab": {
          "base_uri": "https://localhost:8080/"
        },
        "id": "lvFVjCFrAyjh",
        "outputId": "61dbe6a1-f57c-4310-ceca-57b39c154274"
      },
      "execution_count": null,
      "outputs": [
        {
          "output_type": "stream",
          "name": "stdout",
          "text": [
            "*****\n",
            "*****\n",
            "*****\n",
            "*****\n",
            "*****\n"
          ]
        }
      ]
    },
    {
      "cell_type": "code",
      "source": [
        "# *\n",
        "# **\n",
        "# ***\n",
        "# ****\n",
        "# *****"
      ],
      "metadata": {
        "id": "8H2DOV8oo5rG"
      },
      "execution_count": null,
      "outputs": []
    },
    {
      "cell_type": "code",
      "source": [
        "for i in range(1, 6):\n",
        "    print('*'*i)"
      ],
      "metadata": {
        "colab": {
          "base_uri": "https://localhost:8080/"
        },
        "id": "w-da9O6NqIkV",
        "outputId": "bb01efa1-65ab-4800-d423-a70e1b4cd6c4"
      },
      "execution_count": null,
      "outputs": [
        {
          "output_type": "stream",
          "name": "stdout",
          "text": [
            "*\n",
            "**\n",
            "***\n",
            "****\n",
            "*****\n"
          ]
        }
      ]
    },
    {
      "cell_type": "code",
      "source": [
        "# 10의 단위로 줄바꿈\n",
        "\n",
        "x = int(input())\n",
        "\n",
        "for i in range(1, x + 1):\n",
        "    if (i - 1) % 10 == 9:\n",
        "        print(i)\n",
        "    else:\n",
        "        print(i, end=' ')"
      ],
      "metadata": {
        "colab": {
          "base_uri": "https://localhost:8080/"
        },
        "id": "npLpNm-j57xR",
        "outputId": "c8225fa2-cec6-4235-9823-abb7481b584e"
      },
      "execution_count": null,
      "outputs": [
        {
          "output_type": "stream",
          "name": "stdout",
          "text": [
            "30\n",
            "1 2 3 4 5 6 7 8 9 10\n",
            "11 12 13 14 15 16 17 18 19 20\n",
            "21 22 23 24 25 26 27 28 29 30\n"
          ]
        }
      ]
    },
    {
      "cell_type": "code",
      "source": [
        "# 로또 번호\n",
        "\n",
        "import random\n",
        "\n",
        "lotto = int(input('몇 개 살거에요?  '))\n",
        "\n",
        "for i in range(lotto):\n",
        "    lotto_number = random.sample(range(1, 46), 6)\n",
        "    print(sorted(lotto_number))"
      ],
      "metadata": {
        "colab": {
          "base_uri": "https://localhost:8080/"
        },
        "id": "eN0_eZ4S_bT5",
        "outputId": "93de31c2-7e2f-49e9-e82b-ba22fcd9f242"
      },
      "execution_count": null,
      "outputs": [
        {
          "output_type": "stream",
          "name": "stdout",
          "text": [
            "몇 개 살거에요? : 3\n",
            "[9, 23, 27, 28, 29, 33]\n",
            "[3, 5, 8, 12, 33, 36]\n",
            "[4, 12, 17, 33, 34, 41]\n"
          ]
        }
      ]
    },
    {
      "cell_type": "code",
      "source": [
        "# 입력한 수 - 20수 출력, 0 이하의 수는 0, 255 이상은 255\n",
        "\n",
        "user = int(input())\n",
        "num = user - 20\n",
        "\n",
        "if num < 0:\n",
        "    print(0)\n",
        "elif num > 255:\n",
        "    print(255)\n",
        "else:\n",
        "    print(num)"
      ],
      "metadata": {
        "id": "SAejeYINW9nn"
      },
      "execution_count": null,
      "outputs": []
    },
    {
      "cell_type": "code",
      "source": [
        "# 정각 판별\n",
        "\n",
        "user = input()\n",
        "time = user.split(':')\n",
        "\n",
        "if time[1] == '00':\n",
        "    print('정각 입니다.')\n",
        "else:\n",
        "    print('정각이 아닙니다.')"
      ],
      "metadata": {
        "colab": {
          "base_uri": "https://localhost:8080/"
        },
        "id": "zWj78k3Boi_o",
        "outputId": "4d76c6cc-ae13-4c22-bc9e-8873ec62644f"
      },
      "execution_count": null,
      "outputs": [
        {
          "output_type": "stream",
          "name": "stdout",
          "text": [
            "02:00\n",
            "정각 입니다.\n"
          ]
        }
      ]
    },
    {
      "cell_type": "code",
      "source": [
        "# 소문자는 대문자로, 대문자는 소문자로\n",
        "\n",
        "user = input()\n",
        "\n",
        "if user.isupper():\n",
        "    print(user.lower())\n",
        "else:\n",
        "    print(user.upper())"
      ],
      "metadata": {
        "colab": {
          "base_uri": "https://localhost:8080/"
        },
        "id": "HZaSBjRdqaBp",
        "outputId": "8d730027-6a90-4b00-b7bc-46a22f67cc48"
      },
      "execution_count": null,
      "outputs": [
        {
          "output_type": "stream",
          "name": "stdout",
          "text": [
            "A\n",
            "a\n"
          ]
        }
      ]
    },
    {
      "cell_type": "code",
      "source": [
        "# 환전\n",
        "\n",
        "rate = {'달러' : 1167,\n",
        "        '엔' : 1.096,\n",
        "        '유로' : 1268,\n",
        "        '위안' : 171}\n",
        "\n",
        "user = input()\n",
        "num, currency = user.split()\n",
        "print(float(num) * rate[currency], '원')"
      ],
      "metadata": {
        "colab": {
          "base_uri": "https://localhost:8080/"
        },
        "id": "lH3SyIKKtnV0",
        "outputId": "fad586d6-13f2-4cbf-b1f2-c68a8e0f23c3"
      },
      "execution_count": null,
      "outputs": [
        {
          "output_type": "stream",
          "name": "stdout",
          "text": [
            "100 달러\n",
            "116700.0 원\n"
          ]
        }
      ]
    },
    {
      "cell_type": "code",
      "source": [
        "# 통신사\n",
        "\n",
        "number = {'011' : 'SKT', '016' : 'KT', '019' : 'LGU', '010' : '알수없음'}\n",
        "\n",
        "user = input()\n",
        "use = user.split('-')\n",
        "print(f'당신은 {number[use[0]]} 사용자입니다.')"
      ],
      "metadata": {
        "colab": {
          "base_uri": "https://localhost:8080/"
        },
        "id": "ff0B9wYM5hzS",
        "outputId": "2c4f178d-8ef0-44f7-cfef-46f73c193b1b"
      },
      "execution_count": null,
      "outputs": [
        {
          "output_type": "stream",
          "name": "stdout",
          "text": [
            "016-1111-1111\n",
            "당신은 KT 사용자입니다.\n"
          ]
        }
      ]
    },
    {
      "cell_type": "code",
      "source": [
        "# 번지수\n",
        "\n",
        "user = input()\n",
        "\n",
        "if user[2] in ['0', '1', '2']:\n",
        "    print('강북구')\n",
        "elif user[2] in ['3', '4', '5']:\n",
        "    print('도봉구')\n",
        "else:\n",
        "    print('노원구')"
      ],
      "metadata": {
        "colab": {
          "base_uri": "https://localhost:8080/"
        },
        "id": "8P3lQhAq7IXI",
        "outputId": "c8b8c0b8-84f5-48be-e4c7-394f756f45ab"
      },
      "execution_count": null,
      "outputs": [
        {
          "output_type": "stream",
          "name": "stdout",
          "text": [
            "01400\n",
            "도봉구\n"
          ]
        }
      ]
    },
    {
      "cell_type": "code",
      "source": [
        "# 주민등록번호 남,녀 판별\n",
        "\n",
        "주민등록번호 = input()\n",
        "주민등록번호 = 주민등록번호.split('-')[1][0]\n",
        "\n",
        "if 주민등록번호 in ['1', '3']:\n",
        "    print('남자')\n",
        "else:\n",
        "    print('여자')"
      ],
      "metadata": {
        "colab": {
          "base_uri": "https://localhost:8080/"
        },
        "id": "yQ60q8Sv8a-m",
        "outputId": "31d108d8-c41f-46b1-b002-e656aa4b65ef"
      },
      "execution_count": null,
      "outputs": [
        {
          "output_type": "stream",
          "name": "stdout",
          "text": [
            "123123-232323\n",
            "여자\n"
          ]
        }
      ]
    },
    {
      "cell_type": "code",
      "source": [
        "# 주민등록번호 지역 판별\n",
        "\n",
        "주민등록번호 = input()\n",
        "주민등록번호 = int(주민등록번호.split('-')[1][1:3])\n",
        "\n",
        "if 0 <= 주민등록번호 <= 8:\n",
        "    print('서울입니다.')\n",
        "else:\n",
        "    print('서울이 아닙니다.')"
      ],
      "metadata": {
        "colab": {
          "base_uri": "https://localhost:8080/"
        },
        "id": "MlkqZaIV9UeS",
        "outputId": "d005fe62-f514-4d16-f0ec-ca6d95514e6a"
      },
      "execution_count": null,
      "outputs": [
        {
          "output_type": "stream",
          "name": "stdout",
          "text": [
            "861010-1015210\n",
            "서울입니다.\n"
          ]
        }
      ]
    }
  ]
}