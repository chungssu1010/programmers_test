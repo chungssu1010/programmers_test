{
  "nbformat": 4,
  "nbformat_minor": 0,
  "metadata": {
    "colab": {
      "provenance": []
    },
    "kernelspec": {
      "name": "python3",
      "display_name": "Python 3"
    },
    "language_info": {
      "name": "python"
    }
  },
  "cells": [
    {
      "cell_type": "code",
      "execution_count": 4,
      "metadata": {
        "colab": {
          "base_uri": "https://localhost:8080/"
        },
        "id": "uULmnCdCJthC",
        "outputId": "6a373c7b-7616-4c46-9820-defbebcb1905"
      },
      "outputs": [
        {
          "output_type": "stream",
          "name": "stdout",
          "text": [
            "821010-1635210\n",
            "유효하지 않은 주민등록번호입니다.\n"
          ]
        }
      ],
      "source": [
        "# 주민등록번호 유효성 검사\n",
        "\n",
        "num = input()\n",
        "\n",
        "test = (int(num[0]) * 2 + int(num[1]) * 3 + int(num[2]) * 4 +\n",
        "        int(num[3]) * 5 + int(num[4]) * 6 + int(num[5]) * 7 +\n",
        "        int(num[7]) * 8 + int(num[8]) * 9 + int(num[9]) * 2 +\n",
        "        int(num[10]) * 3 + int(num[11]) * 4 + int(num[12]) * 5)\n",
        "\n",
        "last_number = (11 - test % 11)\n",
        "\n",
        "if last_number == int(num[13]):\n",
        "    print('유효한 주민등록번호입니다.')\n",
        "else:\n",
        "    print('유효하지 않은 주민등록번호입니다.')"
      ]
    },
    {
      "cell_type": "markdown",
      "source": [
        "## 피자 나눠 먹기\n",
        "\n",
        "* 머쓱이네 피자가게는 피자를 두 조각에서 열 조각까지 원하는 조각 수로 잘라줍니다. 피자 조각 수 slice와 피자를 먹는 사람의 수 n이 매개변수로 주어질 때, n명의 사람이 최소 한 조각 이상 피자를 먹으려면 최소 몇 판의 피자를 시켜야 하는지를 return 하도록 solution 함수를 완성해보세요."
      ],
      "metadata": {
        "id": "q4t669M1E9qd"
      }
    },
    {
      "cell_type": "code",
      "source": [
        "# 내 답\n",
        "\n",
        "def solution(slice, n):\n",
        "    pizza = 0\n",
        "    \n",
        "    if n % slice != 0:\n",
        "        pizza += 1 \n",
        "    \n",
        "    return (n // slice) + pizza  "
      ],
      "metadata": {
        "id": "3wz0WK4nE9dM"
      },
      "execution_count": null,
      "outputs": []
    },
    {
      "cell_type": "code",
      "source": [
        "# 내 답 보완\n",
        "\n",
        "def solution(slice, n):\n",
        "    return (n // slice) + (n % slice != 0) "
      ],
      "metadata": {
        "id": "gJ7bp_2RNjhD"
      },
      "execution_count": null,
      "outputs": []
    },
    {
      "cell_type": "code",
      "source": [
        "def solution(slice, n):\n",
        "    return ((n - 1) // slice) + 1"
      ],
      "metadata": {
        "id": "VNwlPHaWMzEr"
      },
      "execution_count": null,
      "outputs": []
    },
    {
      "cell_type": "markdown",
      "source": [
        "## 개미 군단\n",
        "* 개미 군단이 사냥을 나가려고 합니다. 개미군단은 사냥감의 체력에 딱 맞는 병력을 데리고 나가려고 합니다. 장군개미는 5의 공격력을, 병정개미는 3의 공격력을 일개미는 1의 공격력을 가지고 있습니다. 예를 들어 체력 23의 여치를 사냥하려고 할 때, 일개미 23마리를 데리고 가도 되지만, 장군개미 네 마리와 병정개미 한 마리를 데리고 간다면 더 적은 병력으로 사냥할 수 있습니다. 사냥감의 체력 hp가 매개변수로 주어질 때, 사냥감의 체력에 딱 맞게 최소한의 병력을 구성하려면 몇 마리의 개미가 필요한지를 return하도록 solution 함수를 완성해주세요."
      ],
      "metadata": {
        "id": "vMUDRDWpNsWK"
      }
    },
    {
      "cell_type": "code",
      "source": [
        "# 내 답\n",
        "\n",
        "def solution(hp):\n",
        "    장군개미수 = hp // 5\n",
        "    hp = hp - 장군개미수 * 5\n",
        "    \n",
        "    병정개미수 = hp // 3\n",
        "    hp = hp - 병정개미수 * 3\n",
        "    \n",
        "    일개미수 = hp // 1\n",
        "    hp = hp - 일개미수 * 3\n",
        "    \n",
        "    return 장군개미수 + 병정개미수 + 일개미수"
      ],
      "metadata": {
        "id": "4EVqHoznQ_yB"
      },
      "execution_count": null,
      "outputs": []
    },
    {
      "cell_type": "code",
      "source": [
        "def solution(hp):    \n",
        "    return hp // 5 + (hp % 5 // 3) + ((hp % 5) % 3)\n"
      ],
      "metadata": {
        "id": "khiGFz8yRDF_"
      },
      "execution_count": null,
      "outputs": []
    },
    {
      "cell_type": "markdown",
      "source": [
        "## 머쓱이보다 키 큰 사람\n",
        "* 머쓱이는 학교에서 키 순으로 줄을 설 때 몇 번째로 서야 하는지 궁금해졌습니다. 머쓱이네 반 친구들의 키가 담긴 정수 배열 array와 머쓱이의 키 height가 매개변수로 주어질 때, 머쓱이보다 키 큰 사람 수를 return 하도록 solution 함수를 완성해보세요."
      ],
      "metadata": {
        "id": "aeHRyFr-WNDf"
      }
    },
    {
      "cell_type": "code",
      "source": [
        "# 내 답\n",
        "\n",
        "def solution(array, height):\n",
        "    array.append(height)\n",
        "    array.sort()\n",
        "    num_1 = 1\n",
        "    num_2 = -1\n",
        "    for i in array:\n",
        "        if i < height:\n",
        "            num_1 += 1\n",
        "        elif i == height:\n",
        "            num_2 += 1\n",
        "    return len(array) - num_1 - num_2"
      ],
      "metadata": {
        "id": "gqBvWb78WQzT"
      },
      "execution_count": null,
      "outputs": []
    },
    {
      "cell_type": "code",
      "source": [
        "# 내 답 보완\n",
        "\n",
        "def solution(array, height):\n",
        "    num = 0\n",
        "\n",
        "    for i in array:\n",
        "        if i > height:\n",
        "            num += 1\n",
        "\n",
        "    return num"
      ],
      "metadata": {
        "id": "SHIPoq3XYyUg"
      },
      "execution_count": null,
      "outputs": []
    },
    {
      "cell_type": "code",
      "source": [
        "def solution(array, height):\n",
        "    array.append(height)\n",
        "    array.sort(reverse=True)        # 배열 거꾸로\n",
        "    return array.index(height)"
      ],
      "metadata": {
        "id": "nY_mOjbxWVZo"
      },
      "execution_count": null,
      "outputs": []
    },
    {
      "cell_type": "markdown",
      "source": [
        "## 주사위의 개수\n",
        "* 머쓱이는 직육면체 모양의 상자를 하나 가지고 있는데 이 상자에 정육면체 모양의 주사위를 최대한 많이 채우고 싶습니다. 상자의 가로, 세로, 높이가 저장되어있는 배열 box와 주사위 모서리의 길이 정수 n이 매개변수로 주어졌을 때, 상자에 들어갈 수 있는 주사위의 최대 개수를 return 하도록 solution 함수를 완성해주세요."
      ],
      "metadata": {
        "id": "Cps3LwqYbD2h"
      }
    },
    {
      "cell_type": "code",
      "source": [
        "# 내 답\n",
        "\n",
        "def solution(box, n):\n",
        "    return (box[0] // n) * (box[1] // n) * (box[2] // n)"
      ],
      "metadata": {
        "id": "rvh9hIp_bHU6"
      },
      "execution_count": null,
      "outputs": []
    },
    {
      "cell_type": "code",
      "source": [
        "def solution(box, n):\n",
        "    x, y, z = box\n",
        "    return (x // n) * (y // n) * (z // n )"
      ],
      "metadata": {
        "id": "CewCeLKxbKOk"
      },
      "execution_count": null,
      "outputs": []
    },
    {
      "cell_type": "code",
      "source": [
        "# 출처: 프로그래머스 코딩 테스트 연습\n",
        "# https://school.programmers.co.kr/learn/challenges"
      ],
      "metadata": {
        "id": "0hs-Gc5tblYP"
      },
      "execution_count": null,
      "outputs": []
    }
  ]
}