{
  "nbformat": 4,
  "nbformat_minor": 0,
  "metadata": {
    "colab": {
      "provenance": []
    },
    "kernelspec": {
      "name": "python3",
      "display_name": "Python 3"
    },
    "language_info": {
      "name": "python"
    }
  },
  "cells": [
    {
      "cell_type": "markdown",
      "source": [
        "## 올바른 괄호 Lv.2\n",
        " 괄호가 바르게 짝지어졌다는 것은 '(' 문자로 열렸으면 반드시 짝지어서 ')' 문자로 닫혀야 한다는 뜻입니다. 예를 들어\n",
        "\n",
        "\"()()\" 또는 \"(())()\" 는 올바른 괄호입니다.\n",
        "\")()(\" 또는 \"(()(\" 는 올바르지 않은 괄호입니다.\n",
        "'(' 또는 ')' 로만 이루어진 문자열 s가 주어졌을 때, 문자열 s가 올바른 괄호이면 true를 return 하고, 올바르지 않은 괄호이면 false를 return 하는 solution 함수를 완성해 주세요."
      ],
      "metadata": {
        "id": "hBDJtG2aAzOL"
      }
    },
    {
      "cell_type": "code",
      "execution_count": null,
      "metadata": {
        "id": "A_TBaBU-Axmb"
      },
      "outputs": [],
      "source": [
        "# 내 답\n",
        "\n",
        "def solution(s):\n",
        "    result = 0\n",
        "    \n",
        "    for i in s:\n",
        "        if i == '(':\n",
        "            result += 1\n",
        "        else:\n",
        "            result -= 1\n",
        "            if result < 0:\n",
        "                return False\n",
        "    \n",
        "    if result == 0:\n",
        "        return True\n",
        "    else:\n",
        "        return False"
      ]
    },
    {
      "cell_type": "markdown",
      "source": [
        "## 문자열 밀기 Lv.0\n",
        "\n",
        "문자열 \"hello\"에서 각 문자를 오른쪽으로 한 칸씩 밀고 마지막 문자는 맨 앞으로 이동시키면 \"ohell\"이 됩니다. 이것을 문자열을 민다고 정의한다면 문자열 A와 B가 매개변수로 주어질 때, A를 밀어서 B가 될 수 있다면 밀어야 하는 최소 횟수를 return하고 밀어서 B가 될 수 없으면 -1을 return 하도록 solution 함수를 완성해보세요."
      ],
      "metadata": {
        "id": "YkKNmtFhj4YX"
      }
    },
    {
      "cell_type": "code",
      "source": [
        "# 내 답\n",
        "\n",
        "def solution(A, B):\n",
        "    count = 0\n",
        "    \n",
        "    for i in range(len(A)):\n",
        "        if A == B:\n",
        "            return count\n",
        "            break\n",
        "        A = A[-1] + A[:-1]\n",
        "        count += 1\n",
        "        \n",
        "    return -1   "
      ],
      "metadata": {
        "id": "QBFPa8oIj68p"
      },
      "execution_count": null,
      "outputs": []
    },
    {
      "cell_type": "code",
      "source": [
        "def solution(A, B):\n",
        "\n",
        "    AA = A+A\n",
        "    answer = AA.find(B)\n",
        "\n",
        "    if answer >0:\n",
        "        answer = len(A) - answer\n",
        "\n",
        "    return answer"
      ],
      "metadata": {
        "id": "5zFceBlloSMG"
      },
      "execution_count": null,
      "outputs": []
    },
    {
      "cell_type": "code",
      "source": [
        "from collections import deque\n",
        "\n",
        "def solution(A, B):\n",
        "    a, b = deque(A), deque(B)\n",
        "    for i in range(len(A)):\n",
        "        if a == b:\n",
        "            return i\n",
        "        a.rotate(1)\n",
        "    return -1"
      ],
      "metadata": {
        "id": "KFom4A6n6KCR"
      },
      "execution_count": null,
      "outputs": []
    },
    {
      "cell_type": "markdown",
      "source": [
        "## [1차]다트 게임 Lv.1 kakao\n",
        "\n",
        "다트 게임은 총 3번의 기회로 구성된다.\n",
        "각 기회마다 얻을 수 있는 점수는 0점에서 10점까지이다.\n",
        "점수와 함께 Single(S), Double(D), Triple(T) 영역이 존재하고 각 영역 당첨 시 점수에서 1제곱, 2제곱, 3제곱 (점수1 , 점수2 , 점수3 )으로 계산된다.\n",
        "옵션으로 스타상(*) , 아차상(#)이 존재하며 스타상(*) 당첨 시 해당 점수와 바로 전에 얻은 점수를 각 2배로 만든다. 아차상(#) 당첨 시 해당 점수는 마이너스된다.\n",
        "스타상(*)은 첫 번째 기회에서도 나올 수 있다. 이 경우 첫 번째 스타상(*)의 점수만 2배가 된다. (예제 4번 참고)\n",
        "스타상(*)의 효과는 다른 스타상(*)의 효과와 중첩될 수 있다. 이 경우 중첩된 스타상(*) 점수는 4배가 된다. (예제 4번 참고)\n",
        "스타상(*)의 효과는 아차상(#)의 효과와 중첩될 수 있다. 이 경우 중첩된 아차상(#)의 점수는 -2배가 된다. (예제 5번 참고)\n",
        "Single(S), Double(D), Triple(T)은 점수마다 하나씩 존재한다.\n",
        "스타상(*), 아차상(#)은 점수마다 둘 중 하나만 존재할 수 있으며, 존재하지 않을 수도 있다."
      ],
      "metadata": {
        "id": "VgT-96RKSsCg"
      }
    },
    {
      "cell_type": "code",
      "source": [
        "# 내 답\n",
        "\n",
        "import re\n",
        "\n",
        "def solution(dartResult):\n",
        "    result = []\n",
        "    a = re.findall('(10|[0-9])([SDT])([*#]?)', dartResult)\n",
        "    for x, y, z in a:\n",
        "        if y == 'S':\n",
        "            y = '1'\n",
        "        elif y == 'D':\n",
        "            y = '2'\n",
        "        elif y == 'T':\n",
        "            y = '3'\n",
        "\n",
        "        if z == '#':\n",
        "            z = '-1'\n",
        "        elif z == '':\n",
        "            z = '1'\n",
        "        elif z == '*':\n",
        "            z = '2'\n",
        "            if len(result) >= 1:\n",
        "                result[-1] = int(result[-1]) * 2\n",
        "\n",
        "        \n",
        "        result.append(int(x)**int(y)*int(z))\n",
        "\n",
        "        \n",
        "    return sum(int(i) for i in result)"
      ],
      "metadata": {
        "id": "k40DRR1XS11E"
      },
      "execution_count": null,
      "outputs": []
    },
    {
      "cell_type": "code",
      "source": [
        "import re\n",
        "\n",
        "\n",
        "def solution(dartResult):\n",
        "    bonus = {'S' : 1, 'D' : 2, 'T' : 3}\n",
        "    option = {'' : 1, '*' : 2, '#' : -1}\n",
        "    p = re.compile('(\\d+)([SDT])([*#]?)')\n",
        "    dart = p.findall(dartResult)\n",
        "    for i in range(len(dart)):\n",
        "        if dart[i][2] == '*' and i > 0:\n",
        "            dart[i-1] *= 2\n",
        "        dart[i] = int(dart[i][0]) ** bonus[dart[i][1]] * option[dart[i][2]]\n",
        "\n",
        "    answer = sum(dart)\n",
        "    return answer"
      ],
      "metadata": {
        "id": "hwFb8JenXbP6"
      },
      "execution_count": null,
      "outputs": []
    }
  ]
}