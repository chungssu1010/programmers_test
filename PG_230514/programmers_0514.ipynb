{
  "nbformat": 4,
  "nbformat_minor": 0,
  "metadata": {
    "colab": {
      "provenance": []
    },
    "kernelspec": {
      "name": "python3",
      "display_name": "Python 3"
    },
    "language_info": {
      "name": "python"
    }
  },
  "cells": [
    {
      "cell_type": "markdown",
      "source": [
        "## 약수 구하기\n",
        "* 정수 n이 매개변수로 주어질 때, n의 약수를 오름차순으로 담은 배열을 return하도록 solution 함수를 완성해주세요."
      ],
      "metadata": {
        "id": "k1Az7jsAq4Q4"
      }
    },
    {
      "cell_type": "code",
      "execution_count": null,
      "metadata": {
        "id": "bloVM8fjq2kd"
      },
      "outputs": [],
      "source": [
        "# 내 답\n",
        "\n",
        "def solution(n):\n",
        "    result = []\n",
        "    for i in range(1, n+1):\n",
        "        if n % i == 0:\n",
        "            result.append(i)\n",
        "    \n",
        "    return sorted(result)"
      ]
    },
    {
      "cell_type": "code",
      "source": [
        "def solution(n):\n",
        "    return [i for i in range(1, n+1) if n % i == 0]"
      ],
      "metadata": {
        "id": "TAvNoj7Fq-s_"
      },
      "execution_count": null,
      "outputs": []
    },
    {
      "cell_type": "markdown",
      "source": [
        "## 가장 큰 수 찾기\n",
        "* 정수 배열 array가 매개변수로 주어질 때, 가장 큰 수와 그 수의 인덱스를 담은 배열을 return 하도록 solution 함수를 완성해보세요."
      ],
      "metadata": {
        "id": "on_8VGDSr8ln"
      }
    },
    {
      "cell_type": "code",
      "source": [
        "# 내 답\n",
        "\n",
        "def solution(array):\n",
        "    result = []\n",
        "    result.append(max(array))\n",
        "    num = array.index(max(array))\n",
        "    result.append(num)\n",
        "    return result"
      ],
      "metadata": {
        "id": "sgdTder6sAaO"
      },
      "execution_count": null,
      "outputs": []
    },
    {
      "cell_type": "code",
      "source": [
        "def solution(array):\n",
        "    return [max(array), array.index(max(array))]"
      ],
      "metadata": {
        "id": "hq3EdyIQsKuj"
      },
      "execution_count": null,
      "outputs": []
    },
    {
      "cell_type": "markdown",
      "source": [
        "## 숫자 찾기\n",
        "* 정수 num과 k가 매개변수로 주어질 때, num을 이루는 숫자 중에 k가 있으면 num의 그 숫자가 있는 자리 수를 return하고 없으면 -1을 return 하도록 solution 함수를 완성해보세요."
      ],
      "metadata": {
        "id": "3vs1xT84tWUN"
      }
    },
    {
      "cell_type": "code",
      "source": [
        "# 내 답\n",
        "\n",
        "def solution(num, k):\n",
        "    if str(k) in str(num):\n",
        "        return str(num).find(str(k)) + 1\n",
        "    else :\n",
        "        return -1"
      ],
      "metadata": {
        "id": "cFNT_2K4tYno"
      },
      "execution_count": null,
      "outputs": []
    },
    {
      "cell_type": "markdown",
      "source": [
        "## 중복된 문자 제거\n",
        "* 문자열 my_string이 매개변수로 주어집니다. my_string에서 중복된 문자를 제거하고 하나의 문자만 남긴 문자열을 return하도록 solution 함수를 완성해주세요.\n",
        "\n"
      ],
      "metadata": {
        "id": "ApxFSIaLyjO1"
      }
    },
    {
      "cell_type": "code",
      "source": [
        "# 내 답\n",
        "\n",
        "def solution(my_string):\n",
        "    result = ''\n",
        "    ls = list(dict.fromkeys(my_string))\n",
        "    for i in ls:\n",
        "        result += i\n",
        "    return result"
      ],
      "metadata": {
        "id": "ObG5VfDMylyt"
      },
      "execution_count": null,
      "outputs": []
    },
    {
      "cell_type": "code",
      "source": [
        "def solution(my_string):\n",
        "    return ''.join(dict.fromkeys(my_string))"
      ],
      "metadata": {
        "id": "FmJy999QypAT"
      },
      "execution_count": null,
      "outputs": []
    },
    {
      "cell_type": "markdown",
      "source": [
        "## 모스부호\n",
        "* 머쓱이는 친구에게 모스부호를 이용한 편지를 받았습니다. 그냥은 읽을 수 없어 이를 해독하는 프로그램을 만들려고 합니다. 문자열 letter가 매개변수로 주어질 때, letter를 영어 소문자로 바꾼 문자열을 return 하도록 solution 함수를 완성해보세요.\n",
        "모스부호는 다음과 같습니다."
      ],
      "metadata": {
        "id": "302w95Fc1-3v"
      }
    },
    {
      "cell_type": "code",
      "source": [
        "# 내 답\n",
        "\n",
        "def solution(letter):\n",
        "    morse = { \n",
        "    '.-':'a','-...':'b','-.-.':'c','-..':'d','.':'e','..-.':'f',\n",
        "    '--.':'g','....':'h','..':'i','.---':'j','-.-':'k','.-..':'l',\n",
        "    '--':'m','-.':'n','---':'o','.--.':'p','--.-':'q','.-.':'r',\n",
        "    '...':'s','-':'t','..-':'u','...-':'v','.--':'w','-..-':'x',\n",
        "    '-.--':'y','--..':'z'}\n",
        "    letter = letter.split(' ')\n",
        "    return ''.join(morse[i] for i in letter)"
      ],
      "metadata": {
        "id": "MWWWGUyO2DhQ"
      },
      "execution_count": null,
      "outputs": []
    },
    {
      "cell_type": "code",
      "source": [
        "# 람다\n",
        "\n",
        "morse = { \n",
        "    '.-':'a','-...':'b','-.-.':'c','-..':'d','.':'e','..-.':'f',\n",
        "    '--.':'g','....':'h','..':'i','.---':'j','-.-':'k','.-..':'l',\n",
        "    '--':'m','-.':'n','---':'o','.--.':'p','--.-':'q','.-.':'r',\n",
        "    '...':'s','-':'t','..-':'u','...-':'v','.--':'w','-..-':'x',\n",
        "    '-.--':'y','--..':'z'\n",
        "}\n",
        "\n",
        "def solution(letter):\n",
        "    return \"\".join(map(lambda w: morse[w], letter.split()))"
      ],
      "metadata": {
        "id": "2simgtfD2eP6"
      },
      "execution_count": null,
      "outputs": []
    },
    {
      "cell_type": "code",
      "source": [
        "# 출처: 프로그래머스 코딩 테스트 연습\n",
        "# https://school.programmers.co.kr/learn/challenges"
      ],
      "metadata": {
        "id": "BWllY1nQ4rha"
      },
      "execution_count": null,
      "outputs": []
    }
  ]
}