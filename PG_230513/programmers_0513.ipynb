{
  "nbformat": 4,
  "nbformat_minor": 0,
  "metadata": {
    "colab": {
      "provenance": []
    },
    "kernelspec": {
      "name": "python3",
      "display_name": "Python 3"
    },
    "language_info": {
      "name": "python"
    }
  },
  "cells": [
    {
      "cell_type": "markdown",
      "source": [
        "## n의 배수 고르기\n",
        "* 정수 n과 정수 배열 numlist가 매개변수로 주어질 때, numlist에서 n의 배수가 아닌 수들을 제거한 배열을 return하도록 solution 함수를 완성해주세요."
      ],
      "metadata": {
        "id": "DsnXIVjbPDT2"
      }
    },
    {
      "cell_type": "code",
      "source": [
        "# 내 답\n",
        "\n",
        "def solution(n, numlist):\n",
        "    result = []\n",
        "    for i in numlist:\n",
        "        if i % n == 0:\n",
        "            result.append(i)\n",
        "            \n",
        "    return result"
      ],
      "metadata": {
        "id": "qsQnQYnCPGLc"
      },
      "execution_count": null,
      "outputs": []
    },
    {
      "cell_type": "code",
      "source": [
        "def solution(n, numlist):\n",
        "    answer = [i for i in numlist if i%n==0]\n",
        "    return answer"
      ],
      "metadata": {
        "id": "bi7sqoiQPVKh"
      },
      "execution_count": null,
      "outputs": []
    },
    {
      "cell_type": "code",
      "source": [
        "# 람다\n",
        "\n",
        "def solution(n, numlist):\n",
        "    return list(filter(lambda v: v%n==0, numlist))"
      ],
      "metadata": {
        "id": "_uLDka9hPM9y"
      },
      "execution_count": null,
      "outputs": []
    },
    {
      "cell_type": "markdown",
      "source": [
        "##  배열 회전시키기\n",
        "* 정수가 담긴 배열 numbers와 문자열 direction가 매개변수로 주어집니다. 배열 numbers의 원소를 direction방향으로 한 칸씩 회전시킨 배열을 return하도록 solution 함수를 완성해주세요.\n",
        "\n"
      ],
      "metadata": {
        "id": "q1y68RXMPX1_"
      }
    },
    {
      "cell_type": "code",
      "source": [
        "# 내 답\n",
        "\n",
        "def solution(numbers, direction):\n",
        "    if direction == 'right':\n",
        "        numbers.insert(0, numbers[-1])\n",
        "        return numbers[:-1]\n",
        "    elif direction == 'left':\n",
        "        numbers.append(numbers[0])\n",
        "        return numbers[1:]      "
      ],
      "metadata": {
        "id": "hFoD41jbSvEb"
      },
      "execution_count": null,
      "outputs": []
    },
    {
      "cell_type": "markdown",
      "source": [
        "## 피자 나눠 먹기 (2)\n",
        "* 머쓱이네 피자가게는 피자를 여섯 조각으로 잘라 줍니다. 피자를 나눠먹을 사람의 수 n이 매개변수로 주어질 때, n명이 주문한 피자를 남기지 않고 모두 같은 수의 피자 조각을 먹어야 한다면 최소 몇 판을 시켜야 하는지를 return 하도록 solution 함수를 완성해보세요."
      ],
      "metadata": {
        "id": "EKhnbUHRXRYv"
      }
    },
    {
      "cell_type": "code",
      "source": [
        "# 내 답\n",
        "\n",
        "def solution(n):\n",
        "    for i in range(1, n+1):\n",
        "        if 6 * i % n == 0:\n",
        "            return i\n",
        "            break"
      ],
      "metadata": {
        "id": "7vLlVBFhXU0M"
      },
      "execution_count": null,
      "outputs": []
    },
    {
      "cell_type": "code",
      "source": [
        "def solution(n):\n",
        "    answer = 1\n",
        "    while 6 * answer % n:\n",
        "        answer += 1\n",
        "    return answer"
      ],
      "metadata": {
        "id": "_2OycmtzXZnm"
      },
      "execution_count": null,
      "outputs": []
    },
    {
      "cell_type": "markdown",
      "source": [
        "## 369게임\n",
        "* 머쓱이는 친구들과 369게임을 하고 있습니다. 369게임은 1부터 숫자를 하나씩 대며 3, 6, 9가 들어가는 숫자는 숫자 대신 3, 6, 9의 개수만큼 박수를 치는 게임입니다. 머쓱이가 말해야하는 숫자 order가 매개변수로 주어질 때, 머쓱이가 쳐야할 박수 횟수를 return 하도록 solution 함수를 완성해보세요.\n",
        "\n"
      ],
      "metadata": {
        "id": "lpPjdmJkZO_5"
      }
    },
    {
      "cell_type": "code",
      "source": [
        "# 내 답\n",
        "\n",
        "def solution(order):\n",
        "    result = 0\n",
        "    result += str(order).count('3')\n",
        "    result += str(order).count('6')\n",
        "    result += str(order).count('9')\n",
        "    return result"
      ],
      "metadata": {
        "id": "Bk9iOCKkZSO0"
      },
      "execution_count": null,
      "outputs": []
    },
    {
      "cell_type": "markdown",
      "source": [
        "## 외계행성의 나이\n",
        "* 우주여행을 하던 머쓱이는 엔진 고장으로 PROGRAMMERS-962 행성에 불시착하게 됐습니다. 입국심사에서 나이를 말해야 하는데, PROGRAMMERS-962 행성에서는 나이를 알파벳으로 말하고 있습니다. a는 0, b는 1, c는 2, ..., j는 9입니다. 예를 들어 23살은 cd, 51살은 fb로 표현합니다. 나이 age가 매개변수로 주어질 때 PROGRAMMER-962식 나이를 return하도록 solution 함수를 완성해주세요."
      ],
      "metadata": {
        "id": "Z-CRZPDCdc9w"
      }
    },
    {
      "cell_type": "code",
      "source": [
        "# 내 답\n",
        "\n",
        "def solution(age):\n",
        "    result = ''\n",
        "    alpha = {'0' : 'a', '1' : 'b', '2' : 'c', '3' : 'd',\n",
        "             '4' : 'e', '5' : 'f', '6' : 'g', '7' : 'h',\n",
        "             '8' : 'i', '9' : 'j'}\n",
        "    for i in str(age):\n",
        "        result += alpha[i]\n",
        "    \n",
        "    return result"
      ],
      "metadata": {
        "id": "ZZKHgEksdfIP"
      },
      "execution_count": null,
      "outputs": []
    },
    {
      "cell_type": "code",
      "source": [
        "def solution(age):\n",
        "    conv = {'0':'a','1':'b','2':'c','3':'d','4':'e'\n",
        "            ,'5':'f','6':'g','7':'h','8':'i','9':'j'}\n",
        "    return ''.join(conv[i] for i in str(age))"
      ],
      "metadata": {
        "id": "kHNugbNydhob"
      },
      "execution_count": null,
      "outputs": []
    },
    {
      "cell_type": "markdown",
      "source": [
        "## 문자열 정렬하기\n",
        "* 영어 대소문자로 이루어진 문자열 my_string이 매개변수로 주어질 때, my_string을 모두 소문자로 바꾸고 알파벳 순서대로 정렬한 문자열을 return 하도록 solution 함수를 완성해보세요."
      ],
      "metadata": {
        "id": "4OCmda_xe0yl"
      }
    },
    {
      "cell_type": "code",
      "source": [
        "# 내 답\n",
        "\n",
        "def solution(my_string):\n",
        "    return ''.join(sorted(my_string.lower()))"
      ],
      "metadata": {
        "id": "FvJznIK3e5VI"
      },
      "execution_count": null,
      "outputs": []
    },
    {
      "cell_type": "markdown",
      "source": [
        "## 영어가 싫어요\n",
        "* 영어가 싫은 머쓱이는 영어로 표기되어있는 숫자를 수로 바꾸려고 합니다. 문자열 numbers가 매개변수로 주어질 때, numbers를 정수로 바꿔 return 하도록 solution 함수를 완성해 주세요."
      ],
      "metadata": {
        "id": "aLUFC40sh9yU"
      }
    },
    {
      "cell_type": "code",
      "source": [
        "# 내 답\n",
        "\n",
        "def solution(numbers):\n",
        "    num = {'zero' : '0', 'one' : '1', 'two' : '2',\n",
        "           'three' : '3', 'four' : '4', 'five' : '5',\n",
        "           'six' : '6', 'seven' : '7', 'eight' : '8',\n",
        "           'nine' : '9'}\n",
        "    for word, number in num.items():\n",
        "        numbers = numbers.replace(word, number)\n",
        "    return int(numbers)"
      ],
      "metadata": {
        "id": "WCTCZnNiiTOk"
      },
      "execution_count": null,
      "outputs": []
    },
    {
      "cell_type": "code",
      "source": [
        "def solution(numbers):\n",
        "    for num, eng in enumerate([\"zero\", \"one\", \"two\", \"three\", \"four\", \"five\", \"six\", \"seven\", \"eight\", \"nine\"]):\n",
        "        numbers = numbers.replace(eng, str(num))\n",
        "    return int(numbers)"
      ],
      "metadata": {
        "id": "YR_xuZ5pi41N"
      },
      "execution_count": null,
      "outputs": []
    },
    {
      "cell_type": "code",
      "source": [
        "# 출처: 프로그래머스 코딩 테스트 연습\n",
        "# https://school.programmers.co.kr/learn/challenges"
      ],
      "metadata": {
        "id": "zD9Ng4qZjGQW"
      },
      "execution_count": null,
      "outputs": []
    }
  ]
}