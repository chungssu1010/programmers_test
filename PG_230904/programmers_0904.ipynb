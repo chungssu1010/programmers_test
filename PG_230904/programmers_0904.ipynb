{
  "nbformat": 4,
  "nbformat_minor": 0,
  "metadata": {
    "colab": {
      "provenance": []
    },
    "kernelspec": {
      "name": "python3",
      "display_name": "Python 3"
    },
    "language_info": {
      "name": "python"
    }
  },
  "cells": [
    {
      "cell_type": "markdown",
      "source": [
        "## 최솟값 만들기 Lv.2"
      ],
      "metadata": {
        "id": "7KytSqCwEf0H"
      }
    },
    {
      "cell_type": "code",
      "execution_count": null,
      "metadata": {
        "id": "Dk7I2OXwDgAN"
      },
      "outputs": [],
      "source": [
        "# 내 답\n",
        "\n",
        "def solution(A,B):\n",
        "    result = 0\n",
        "\n",
        "    A.sort()\n",
        "    B.sort(reverse=True)\n",
        "\n",
        "    for i in range(len(A)):\n",
        "        result += A[i] * B[i]\n",
        "\n",
        "    return result"
      ]
    },
    {
      "cell_type": "code",
      "source": [
        "def getMinSum(A,B):\n",
        "    answer = 0\n",
        "\n",
        "    A.sort()\n",
        "    B.sort(reverse=True)\n",
        "\n",
        "    for i,j in zip(A,B):\n",
        "        answer += i*j\n",
        "\n",
        "    return answer"
      ],
      "metadata": {
        "id": "Uhkn5y1JEt0u"
      },
      "execution_count": null,
      "outputs": []
    },
    {
      "cell_type": "code",
      "source": [
        "def getMinSum(A, B):\n",
        "    return sum([a * b for a, b in zip(sorted(A), sorted(B, reverse=True))])"
      ],
      "metadata": {
        "id": "Ev4vRbzwEfeS"
      },
      "execution_count": null,
      "outputs": []
    },
    {
      "cell_type": "code",
      "source": [
        "def getMinSum(A,B):\n",
        "    return sum(map(lambda a,b : a*b, sorted(A), sorted(B, reverse=True)))"
      ],
      "metadata": {
        "id": "cSWzsEEqEmxA"
      },
      "execution_count": null,
      "outputs": []
    }
  ]
}