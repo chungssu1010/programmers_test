{
  "nbformat": 4,
  "nbformat_minor": 0,
  "metadata": {
    "colab": {
      "provenance": []
    },
    "kernelspec": {
      "name": "python3",
      "display_name": "Python 3"
    },
    "language_info": {
      "name": "python"
    }
  },
  "cells": [
    {
      "cell_type": "markdown",
      "source": [
        "## 소수 만들기 Lv.1"
      ],
      "metadata": {
        "id": "kYbw45DPnYeT"
      }
    },
    {
      "cell_type": "code",
      "source": [
        "# 내 답\n",
        "\n",
        "from itertools import combinations\n",
        "\n",
        "def solution(nums):\n",
        "    num_list = []\n",
        "    not_prime = 0\n",
        "\n",
        "    for num in combinations(nums, 3):\n",
        "        num_list.append(sum(num))\n",
        "\n",
        "    for i in num_list:\n",
        "        for j in range(2, int(i ** 0.5) + 1):\n",
        "            if i % j == 0:\n",
        "                not_prime += 1\n",
        "                break\n",
        "\n",
        "    return len(num_list) - not_prime"
      ],
      "metadata": {
        "id": "PulcFa-plWE5"
      },
      "execution_count": null,
      "outputs": []
    },
    {
      "cell_type": "code",
      "source": [
        "from itertools import combinations\n",
        "def prime_number(x):\n",
        "    answer = 0\n",
        "    for i in range(1,int(x**0.5)+1):\n",
        "        if x%i==0:\n",
        "            answer+=1\n",
        "    return 1 if answer==1 else 0\n",
        "\n",
        "def solution(nums):\n",
        "    return sum([prime_number(sum(c)) for c in combinations(nums,3)])"
      ],
      "metadata": {
        "id": "XKjOV_qaoAFO"
      },
      "execution_count": null,
      "outputs": []
    }
  ]
}