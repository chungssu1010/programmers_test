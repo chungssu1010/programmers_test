{
  "nbformat": 4,
  "nbformat_minor": 0,
  "metadata": {
    "colab": {
      "provenance": []
    },
    "kernelspec": {
      "name": "python3",
      "display_name": "Python 3"
    },
    "language_info": {
      "name": "python"
    }
  },
  "cells": [
    {
      "cell_type": "markdown",
      "source": [
        "# 평균 일일 대여 요금 구하기\n",
        "CAR_RENTAL_COMPANY_CAR 테이블에서 자동차 종류가 'SUV'인 자동차들의 평균 일일 대여 요금을 출력하는 SQL문을 작성해주세요. 이때 평균 일일 대여 요금은 소수 첫 번째 자리에서 반올림하고, 컬럼명은 AVERAGE_FEE 로 지정해주세요.\n",
        "\n"
      ],
      "metadata": {
        "id": "6NmLa_yVHkqP"
      }
    },
    {
      "cell_type": "code",
      "source": [
        "SELECT\n",
        "    ROUND(AVG(DAILY_FEE), 0) AS AVERAGE_FEE\n",
        "FROM CAR_RENTAL_COMPANY_CAR\n",
        "WHERE CAR_TYPE = 'SUV'"
      ],
      "metadata": {
        "id": "2uiA4N7qHmmb"
      },
      "execution_count": null,
      "outputs": []
    },
    {
      "cell_type": "markdown",
      "source": [
        "# 3월에 태어난 여성 회원 목록 출력하기\n",
        "MEMBER_PROFILE 테이블에서 생일이 3월인 여성 회원의 ID, 이름, 성별, 생년월일을 조회하는 SQL문을 작성해주세요. 이때 전화번호가 NULL인 경우는 출력대상에서 제외시켜 주시고, 결과는 회원ID를 기준으로 오름차순 정렬해주세요."
      ],
      "metadata": {
        "id": "b5LJMsAkIVLe"
      }
    },
    {
      "cell_type": "code",
      "source": [
        "SELECT\n",
        "    MEMBER_ID,\n",
        "    MEMBER_NAME,\n",
        "    GENDER,\n",
        "    DATE_FORMAT(DATE_OF_BIRTH, '%Y-%m-%d')\n",
        "FROM MEMBER_PROFILE\n",
        "WHERE MONTH(DATE_OF_BIRTH) = 3\n",
        "AND GENDER = 'W'\n",
        "AND TLNO IS NOT NULL\n",
        "ORDER BY MEMBER_ID"
      ],
      "metadata": {
        "id": "u6tjyB8vIVXm"
      },
      "execution_count": null,
      "outputs": []
    },
    {
      "cell_type": "markdown",
      "source": [
        "# 과일로 만든 아이스크림 고르기\n",
        "상반기 아이스크림 총주문량이 3,000보다 높으면서 아이스크림의 주 성분이 과일인 아이스크림의 맛을 총주문량이 큰 순서대로 조회하는 SQL 문을 작성해주세요."
      ],
      "metadata": {
        "id": "qhmfygdlIht6"
      }
    },
    {
      "cell_type": "code",
      "source": [
        "SELECT\n",
        "    F.FLAVOR\n",
        "FROM FIRST_HALF F\n",
        "JOIN ICECREAM_INFO I ON F.FLAVOR = I.FLAVOR\n",
        "WHERE F.TOTAL_ORDER >= 3000\n",
        "AND I.INGREDIENT_TYPE = 'fruit_based'\n",
        "ORDER BY F.TOTAL_ORDER DESC"
      ],
      "metadata": {
        "id": "Mf1CZh6yIh4r"
      },
      "execution_count": null,
      "outputs": []
    },
    {
      "cell_type": "markdown",
      "source": [
        "# 최댓값 구하기\n",
        "가장 최근에 들어온 동물은 언제 들어왔는지 조회하는 SQL 문을 작성해주세요."
      ],
      "metadata": {
        "id": "azFBou2WJ16b"
      }
    },
    {
      "cell_type": "code",
      "source": [
        "SELECT\n",
        "    DATETIME\n",
        "FROM ANIMAL_INS\n",
        "ORDER BY DATETIME DESC\n",
        "LIMIT 1"
      ],
      "metadata": {
        "id": "bqXmasokJ2QZ"
      },
      "execution_count": null,
      "outputs": []
    },
    {
      "cell_type": "markdown",
      "source": [
        "# 특정 옵션이 포함된 자동차 리스트 구하기\n",
        "CAR_RENTAL_COMPANY_CAR 테이블에서 '네비게이션' 옵션이 포함된 자동차 리스트를 출력하는 SQL문을 작성해주세요. 결과는 자동차 ID를 기준으로 내림차순 정렬해주세요."
      ],
      "metadata": {
        "id": "WeZ2Z-PdKUPp"
      }
    },
    {
      "cell_type": "code",
      "source": [
        "SELECT *\n",
        "FROM CAR_RENTAL_COMPANY_CAR\n",
        "WHERE OPTIONS LIKE '%네비게이션%'\n",
        "ORDER BY CAR_ID DESC"
      ],
      "metadata": {
        "id": "RX6zEmDbKUbi"
      },
      "execution_count": null,
      "outputs": []
    },
    {
      "cell_type": "markdown",
      "source": [
        "# 조건에 부합하는 중고거래 상태 조회하기\n",
        "USED_GOODS_BOARD 테이블에서 2022년 10월 5일에 등록된 중고거래 게시물의 게시글 ID, 작성자 ID, 게시글 제목, 가격, 거래상태를 조회하는 SQL문을 작성해주세요. 거래상태가 SALE 이면 판매중, RESERVED이면 예약중, DONE이면 거래완료 분류하여 출력해주시고, 결과는 게시글 ID를 기준으로 내림차순 정렬해주세요."
      ],
      "metadata": {
        "id": "mwziGCQ1L-N7"
      }
    },
    {
      "cell_type": "code",
      "source": [
        "SELECT\n",
        "    BOARD_ID,\n",
        "    WRITER_ID,\n",
        "    TITLE,\n",
        "    PRICE,\n",
        "    CASE STATUS\n",
        "        WHEN 'SALE' THEN '판매중'\n",
        "        WHEN 'RESERVED' THEN '예약중'\n",
        "        WHEN 'DONE' THEN '거래완료'\n",
        "    END\n",
        "FROM USED_GOODS_BOARD\n",
        "WHERE CREATED_DATE = '2022-10-05'\n",
        "ORDER BY BOARD_ID DESC"
      ],
      "metadata": {
        "id": "cVPmuJQNL-gs"
      },
      "execution_count": null,
      "outputs": []
    },
    {
      "cell_type": "markdown",
      "source": [
        "# 자동차 평균 대여 기간 구하기\n",
        "CAR_RENTAL_COMPANY_RENTAL_HISTORY 테이블에서 평균 대여 기간이 7일 이상인 자동차들의 자동차 ID와 평균 대여 기간(컬럼명: AVERAGE_DURATION) 리스트를 출력하는 SQL문을 작성해주세요. 평균 대여 기간은 소수점 두번째 자리에서 반올림하고, 결과는 평균 대여 기간을 기준으로 내림차순 정렬해주시고, 평균 대여 기간이 같으면 자동차 ID를 기준으로 내림차순 정렬해주세요.\n",
        "\n"
      ],
      "metadata": {
        "id": "p0ylswIOOdiR"
      }
    },
    {
      "cell_type": "code",
      "source": [
        "SELECT\n",
        "    CAR_ID,\n",
        "    ROUND(AVG(DATEDIFF(END_DATE, START_DATE)+1), 1) AS AVERAGE_DURATION\n",
        "FROM CAR_RENTAL_COMPANY_RENTAL_HISTORY\n",
        "GROUP BY CAR_ID\n",
        "HAVING AVERAGE_DURATION >= 7\n",
        "ORDER BY AVERAGE_DURATION DESC, CAR_ID DESC"
      ],
      "metadata": {
        "id": "3Bu5PUSIOf-k"
      },
      "execution_count": null,
      "outputs": []
    },
    {
      "cell_type": "markdown",
      "source": [
        "# 자동차 대여 기록에서 장기/단기 대여 구분하기\n",
        "CAR_RENTAL_COMPANY_RENTAL_HISTORY 테이블에서 대여 시작일이 2022년 9월에 속하는 대여 기록에 대해서 대여 기간이 30일 이상이면 '장기 대여' 그렇지 않으면 '단기 대여' 로 표시하는 컬럼(컬럼명: RENT_TYPE)을 추가하여 대여기록을 출력하는 SQL문을 작성해주세요. 결과는 대여 기록 ID를 기준으로 내림차순 정렬해주세요."
      ],
      "metadata": {
        "id": "NWjL2IHwPokm"
      }
    },
    {
      "cell_type": "code",
      "source": [
        "SELECT\n",
        "    HISTORY_ID,\n",
        "    CAR_ID,\n",
        "    DATE_FORMAT(START_DATE, '%Y-%m-%d'),\n",
        "    DATE_FORMAT(END_DATE, '%Y-%m-%d'),\n",
        "    CASE\n",
        "        WHEN DATEDIFF(END_DATE, START_DATE) >= 29 THEN '장기 대여'\n",
        "        ELSE '단기 대여'\n",
        "    END AS RENT_TYPE\n",
        "FROM CAR_RENTAL_COMPANY_RENTAL_HISTORY\n",
        "WHERE START_DATE BETWEEN '2022-09-01' AND '2022-09-30'\n",
        "ORDER BY HISTORY_ID DESC"
      ],
      "metadata": {
        "id": "kTn1BeTAPwqH"
      },
      "execution_count": null,
      "outputs": []
    },
    {
      "cell_type": "markdown",
      "source": [
        "# 조건에 부합하는 중고거래 댓글 조회하기\n",
        "USED_GOODS_BOARD와 USED_GOODS_REPLY 테이블에서 2022년 10월에 작성된 게시글 제목, 게시글 ID, 댓글 ID, 댓글 작성자 ID, 댓글 내용, 댓글 작성일을 조회하는 SQL문을 작성해주세요. 결과는 댓글 작성일을 기준으로 오름차순 정렬해주시고, 댓글 작성일이 같다면 게시글 제목을 기준으로 오름차순 정렬해주세요."
      ],
      "metadata": {
        "id": "ZQ1JIFDwSPbs"
      }
    },
    {
      "cell_type": "code",
      "source": [
        "SELECT\n",
        "    B.TITLE,\n",
        "    B.BOARD_ID,\n",
        "    R.REPLY_ID,\n",
        "    R.WRITER_ID,\n",
        "    R.CONTENTS,\n",
        "    DATE_FORMAT(R.CREATED_DATE, '%Y-%m-%d')\n",
        "FROM USED_GOODS_BOARD B\n",
        "JOIN USED_GOODS_REPLY R\n",
        "ON B.BOARD_ID = R.BOARD_ID\n",
        "WHERE DATE_FORMAT(B.CREATED_DATE, '%Y-%m') = '2022-10'\n",
        "ORDER BY R.CREATED_DATE, B.TITLE"
      ],
      "metadata": {
        "id": "pZpFpc7ySdb6"
      },
      "execution_count": null,
      "outputs": []
    }
  ]
}