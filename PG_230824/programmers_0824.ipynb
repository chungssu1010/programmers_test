{
  "nbformat": 4,
  "nbformat_minor": 0,
  "metadata": {
    "colab": {
      "provenance": []
    },
    "kernelspec": {
      "name": "python3",
      "display_name": "Python 3"
    },
    "language_info": {
      "name": "python"
    }
  },
  "cells": [
    {
      "cell_type": "markdown",
      "source": [
        "## 카드 뭉치 Lv.1"
      ],
      "metadata": {
        "id": "pmtF-Sgxkmx5"
      }
    },
    {
      "cell_type": "code",
      "source": [
        "# 내 답\n",
        "\n",
        "def solution(cards1, cards2, goal):\n",
        "    for i in goal:\n",
        "        if i in cards1:\n",
        "            if cards1.index(i) == 0:\n",
        "                cards1 = cards1[1:]\n",
        "            else:\n",
        "                return 'No'\n",
        "        elif i in cards2:\n",
        "            if cards2.index(i) == 0:\n",
        "                cards2 = cards2[1:]\n",
        "            else:\n",
        "                return 'No'\n",
        "        else:\n",
        "            return 'No'\n",
        "\n",
        "    return 'Yes'"
      ],
      "metadata": {
        "id": "acavmysDkpq6"
      },
      "execution_count": null,
      "outputs": []
    },
    {
      "cell_type": "code",
      "source": [
        "def solution(cards1, cards2, goal):\n",
        "    for g in goal:\n",
        "        if len(cards1) > 0 and g == cards1[0]:\n",
        "            cards1.pop(0)\n",
        "        elif len(cards2) >0 and g == cards2[0]:\n",
        "            cards2.pop(0)\n",
        "        else:\n",
        "            return \"No\"\n",
        "    return \"Yes\""
      ],
      "metadata": {
        "id": "P5qM-kW1k8Ec"
      },
      "execution_count": null,
      "outputs": []
    }
  ]
}