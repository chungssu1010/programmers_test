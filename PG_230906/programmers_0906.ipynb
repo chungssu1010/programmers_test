{
  "nbformat": 4,
  "nbformat_minor": 0,
  "metadata": {
    "colab": {
      "provenance": []
    },
    "kernelspec": {
      "name": "python3",
      "display_name": "Python 3"
    },
    "language_info": {
      "name": "python"
    }
  },
  "cells": [
    {
      "cell_type": "markdown",
      "source": [
        "## 숫자의 표현  Lv.2"
      ],
      "metadata": {
        "id": "h22Mb1bJtqvU"
      }
    },
    {
      "cell_type": "code",
      "execution_count": null,
      "metadata": {
        "id": "Trb4rwWcrMjA"
      },
      "outputs": [],
      "source": [
        "# 내 답\n",
        "\n",
        "def solution(n):\n",
        "    result = 0\n",
        "\n",
        "    for i in range(1, n+1):\n",
        "        sum_num = 0\n",
        "        for j in range(i, n+1):\n",
        "            sum_num += j\n",
        "            if sum_num == n:\n",
        "                result += 1\n",
        "                break\n",
        "            if sum_num > n:\n",
        "                break\n",
        "\n",
        "    return result"
      ]
    },
    {
      "cell_type": "code",
      "source": [
        "def expressions(num):\n",
        "    return len([i  for i in range(1,num+1,2) if num % i is 0])"
      ],
      "metadata": {
        "id": "XED3DEK3uQHC"
      },
      "execution_count": null,
      "outputs": []
    }
  ]
}