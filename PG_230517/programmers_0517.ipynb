{
  "nbformat": 4,
  "nbformat_minor": 0,
  "metadata": {
    "colab": {
      "provenance": []
    },
    "kernelspec": {
      "name": "python3",
      "display_name": "Python 3"
    },
    "language_info": {
      "name": "python"
    }
  },
  "cells": [
    {
      "cell_type": "markdown",
      "source": [
        "## 없는 숫자 더하기 Lv.1\n",
        "* 0부터 9까지의 숫자 중 일부가 들어있는 정수 배열 numbers가 매개변수로 주어집니다. numbers에서 찾을 수 없는 0부터 9까지의 숫자를 모두 찾아 더한 수를 return 하도록 solution 함수를 완성해주세요."
      ],
      "metadata": {
        "id": "lC7rU-9EibSi"
      }
    },
    {
      "cell_type": "code",
      "source": [
        "# 내 답\n",
        "\n",
        "def solution(numbers):\n",
        "    result = []\n",
        "    for i in range(10):\n",
        "        if i not in numbers:\n",
        "            result.append(i)\n",
        "    \n",
        "    return sum(result)"
      ],
      "metadata": {
        "id": "5R91pprNie3X"
      },
      "execution_count": null,
      "outputs": []
    },
    {
      "cell_type": "code",
      "source": [
        "def solution(numbers):\n",
        "    return sum([i for i in range(10) if i not in numbers])"
      ],
      "metadata": {
        "id": "Bp1ZQwe7iq_Q"
      },
      "execution_count": null,
      "outputs": []
    },
    {
      "cell_type": "markdown",
      "source": [
        "## 제일 작은 수 제거하기 Lv.1\n",
        "* 정수를 저장한 배열, arr 에서 가장 작은 수를 제거한 배열을 리턴하는 함수, solution을 완성해주세요. 단, 리턴하려는 배열이 빈 배열인 경우엔 배열에 -1을 채워 리턴하세요. 예를들어 arr이 [4,3,2,1]인 경우는 [4,3,2]를 리턴 하고, [10]면 [-1]을 리턴 합니다."
      ],
      "metadata": {
        "id": "0ll1D5_PkSvE"
      }
    },
    {
      "cell_type": "code",
      "source": [
        "# 내 답\n",
        "\n",
        "def solution(arr):\n",
        "    arr.remove(min(arr))\n",
        "    if arr == []:\n",
        "        return [-1]\n",
        "    else:\n",
        "        return arr"
      ],
      "metadata": {
        "id": "yCuAU7SJkWQI"
      },
      "execution_count": null,
      "outputs": []
    },
    {
      "cell_type": "markdown",
      "source": [
        "## 가운데 글자 가져오기 Lv.1\n",
        "* 단어 s의 가운데 글자를 반환하는 함수, solution을 만들어 보세요. 단어의 길이가 짝수라면 가운데 두글자를 반환하면 됩니다."
      ],
      "metadata": {
        "id": "0o8KEY96mcxG"
      }
    },
    {
      "cell_type": "code",
      "source": [
        "# 내 답\n",
        "\n",
        "def solution(s):\n",
        "    if len(s) % 2 == 0:\n",
        "        return s[int(len(s) / 2) - 1: int(len(s) / 2) + 1]\n",
        "    else:\n",
        "        return s[int(len(s) / 2)]"
      ],
      "metadata": {
        "id": "5VZdUBhHmgnN"
      },
      "execution_count": null,
      "outputs": []
    },
    {
      "cell_type": "markdown",
      "source": [
        "## 수박수박수박수박수박수? Lv.1\n",
        "* 길이가 n이고, \"수박수박수박수....\"와 같은 패턴을 유지하는 문자열을 리턴하는 함수, solution을 완성하세요. 예를들어 n이 4이면 \"수박수박\"을 리턴하고 3이라면 \"수박수\"를 리턴하면 됩니다.\n"
      ],
      "metadata": {
        "id": "C7WRVgVHoAh1"
      }
    },
    {
      "cell_type": "code",
      "source": [
        "# 내 답\n",
        "\n",
        "def solution(n):\n",
        "    result = ''\n",
        "    for i in range(n):\n",
        "        if (i + 1) % 2 != 0:\n",
        "            result += '수'\n",
        "        else:\n",
        "            result += '박'\n",
        "    return result"
      ],
      "metadata": {
        "id": "GrYHvsqloDYx"
      },
      "execution_count": null,
      "outputs": []
    },
    {
      "cell_type": "code",
      "source": [
        "def solution(n):\n",
        "    result = '수박' * n\n",
        "    return result[:n]"
      ],
      "metadata": {
        "id": "3l_PY7enobCG"
      },
      "execution_count": null,
      "outputs": []
    },
    {
      "cell_type": "markdown",
      "source": [
        "## 내적 Lv.1\n",
        "* 길이가 같은 두 1차원 정수 배열 a, b가 매개변수로 주어집니다. a와 b의 내적을 return 하도록 solution 함수를 완성해주세요.\n",
        "\n",
        "이때, a와 b의 내적은 a[0]*b[0] + a[1]*b[1] + ... + a[n-1]*b[n-1] 입니다. (n은 a, b의 길이)"
      ],
      "metadata": {
        "id": "vq1GSseypLmc"
      }
    },
    {
      "cell_type": "code",
      "source": [
        "# 내 답\n",
        "\n",
        "def solution(a, b):\n",
        "    result = 0\n",
        "    for i in range(len(a)):\n",
        "        result += a[i] * b[i]\n",
        "    \n",
        "    return result"
      ],
      "metadata": {
        "id": "R4m05FtgpPMD"
      },
      "execution_count": null,
      "outputs": []
    },
    {
      "cell_type": "markdown",
      "source": [
        "## 문자열 내림차순으로 배치하기 Lv.1\n",
        "* 문자열 s에 나타나는 문자를 큰것부터 작은 순으로 정렬해 새로운 문자열을 리턴하는 함수, solution을 완성해주세요.\n",
        "s는 영문 대소문자로만 구성되어 있으며, 대문자는 소문자보다 작은 것으로 간주합니다."
      ],
      "metadata": {
        "id": "zbOgGKU_qbUc"
      }
    },
    {
      "cell_type": "code",
      "source": [
        "# 내 답\n",
        "\n",
        "def solution(s):\n",
        "    lower_s = []\n",
        "    upper_s = []\n",
        "    for i in s:\n",
        "        if i.islower():\n",
        "            lower_s.append(i)\n",
        "        else:\n",
        "            upper_s.append(i)\n",
        "    return ''.join(sorted(lower_s, reverse = True) + sorted(upper_s, reverse = True))"
      ],
      "metadata": {
        "id": "kpGka3zAphJJ"
      },
      "execution_count": null,
      "outputs": []
    },
    {
      "cell_type": "markdown",
      "source": [
        "## 약수의 개수와 덧셈 Lv.1\n",
        "* 두 정수 left와 right가 매개변수로 주어집니다. left부터 right까지의 모든 수들 중에서, 약수의 개수가 짝수인 수는 더하고, 약수의 개수가 홀수인 수는 뺀 수를 return 하도록 solution 함수를 완성해주세요.\n"
      ],
      "metadata": {
        "id": "_Mw4wEkjtONy"
      }
    },
    {
      "cell_type": "code",
      "source": [
        "# 내 답\n",
        "\n",
        "def solution(left, right):\n",
        "    result = 0\n",
        "    for i in range(left, right + 1):\n",
        "        if int(i**0.5) == i**0.5:\n",
        "            result -= i\n",
        "        else:\n",
        "            result += i\n",
        "    \n",
        "    return result"
      ],
      "metadata": {
        "id": "HVNst_9PtQ84"
      },
      "execution_count": null,
      "outputs": []
    },
    {
      "cell_type": "markdown",
      "source": [
        "## 부족한 금액 계산하기 Lv.1\n",
        "* 새로 생긴 놀이기구는 인기가 매우 많아 줄이 끊이질 않습니다. 이 놀이기구의 원래 이용료는 price원 인데, 놀이기구를 N 번 째 이용한다면 원래 이용료의 N배를 받기로 하였습니다. 즉, 처음 이용료가 100이었다면 2번째에는 200, 3번째에는 300으로 요금이 인상됩니다.\n",
        "놀이기구를 count번 타게 되면 현재 자신이 가지고 있는 금액에서 얼마가 모자라는지를 return 하도록 solution 함수를 완성하세요.\n",
        "단, 금액이 부족하지 않으면 0을 return 하세요."
      ],
      "metadata": {
        "id": "NO8aIqQTt_Vf"
      }
    },
    {
      "cell_type": "code",
      "source": [
        "# 내 답\n",
        "\n",
        "def solution(price, money, count):\n",
        "    result = 0\n",
        "    for i in range(1, count + 1):\n",
        "        result += price * i\n",
        "    if result <= money:\n",
        "        return 0\n",
        "    else:\n",
        "        return result - money"
      ],
      "metadata": {
        "id": "axciXy5QuG7d"
      },
      "execution_count": null,
      "outputs": []
    },
    {
      "cell_type": "markdown",
      "source": [
        "## 문자열 다루기 기본 Lv.1\n",
        "* 문자열 s의 길이가 4 혹은 6이고, 숫자로만 구성돼있는지 확인해주는 함수, solution을 완성하세요. 예를 들어 s가 \"a234\"이면 False를 리턴하고 \"1234\"라면 True를 리턴하면 됩니다."
      ],
      "metadata": {
        "id": "K69-mzMpuyEN"
      }
    },
    {
      "cell_type": "code",
      "source": [
        "# 내 답\n",
        "\n",
        "def solution(s):\n",
        "    if len(s) != 4 and len(s) != 6:\n",
        "        return False\n",
        "    if s.isdigit():\n",
        "        return True\n",
        "    else:\n",
        "        return False"
      ],
      "metadata": {
        "id": "4YqS1OBpu0aW"
      },
      "execution_count": null,
      "outputs": []
    },
    {
      "cell_type": "markdown",
      "source": [
        "## 직사각형 별찍기 Lv.1\n",
        "* 이 문제에는 표준 입력으로 두 개의 정수 n과 m이 주어집니다.\n",
        "별(*) 문자를 이용해 가로의 길이가 n, 세로의 길이가 m인 직사각형 형태를 출력해보세요."
      ],
      "metadata": {
        "id": "LCdEgkhAyy6h"
      }
    },
    {
      "cell_type": "code",
      "source": [
        "# 내 답\n",
        "\n",
        "a, b = map(int, input().strip().split(' '))\n",
        "a = '*' * a\n",
        "for i in range(b):\n",
        "    print(a)"
      ],
      "metadata": {
        "id": "9iKJSsvSyyD7"
      },
      "execution_count": null,
      "outputs": []
    },
    {
      "cell_type": "markdown",
      "source": [
        "## 최대공약수와 최소공배수 Lv.1\n",
        "* 두 수를 입력받아 두 수의 최대공약수와 최소공배수를 반환하는 함수, solution을 완성해 보세요. 배열의 맨 앞에 최대공약수, 그다음 최소공배수를 넣어 반환하면 됩니다. 예를 들어 두 수 3, 12의 최대공약수는 3, 최소공배수는 12이므로 solution(3, 12)는 [3, 12]를 반환해야 합니다."
      ],
      "metadata": {
        "id": "E9-ueSo01MOn"
      }
    },
    {
      "cell_type": "code",
      "source": [
        "# 내 답\n",
        "\n",
        "import math\n",
        "\n",
        "def solution(n, m):\n",
        "    result = []\n",
        "    result.append(math.gcd(n, m))\n",
        "    for i in range(max(n, m), n*m + 1):\n",
        "        if i % n == 0 and i % m == 0:\n",
        "            result.append(i)\n",
        "            break\n",
        "    \n",
        "    return result"
      ],
      "metadata": {
        "id": "B5lkQFsq1OuP"
      },
      "execution_count": null,
      "outputs": []
    },
    {
      "cell_type": "markdown",
      "source": [
        "## 같은 숫자는 싫어 Lv.1\n",
        "* 배열 arr가 주어집니다. 배열 arr의 각 원소는 숫자 0부터 9까지로 이루어져 있습니다. 이때, 배열 arr에서 연속적으로 나타나는 숫자는 하나만 남기고 전부 제거하려고 합니다. 단, 제거된 후 남은 수들을 반환할 때는 배열 arr의 원소들의 순서를 유지해야 합니다. 예를 들면,\n",
        "\n",
        "arr = [1, 1, 3, 3, 0, 1, 1] 이면 [1, 3, 0, 1] 을 return 합니다.\n",
        "arr = [4, 4, 4, 3, 3] 이면 [4, 3] 을 return 합니다.\n",
        "배열 arr에서 연속적으로 나타나는 숫자는 제거하고 남은 수들을 return 하는 solution 함수를 완성해 주세요."
      ],
      "metadata": {
        "id": "VrBkSNKXAdi-"
      }
    },
    {
      "cell_type": "code",
      "source": [
        "# 내 답\n",
        "\n",
        "def solution(arr):\n",
        "    result = [arr[0]]\n",
        "    \n",
        "    for i in range(1, len(arr)):\n",
        "        if arr[i] != arr[i - 1]:\n",
        "            result.append(arr[i])\n",
        "    \n",
        "    return result"
      ],
      "metadata": {
        "id": "S2PlicUeAgTo"
      },
      "execution_count": null,
      "outputs": []
    },
    {
      "cell_type": "markdown",
      "source": [
        "## [1차] 비밀지도 Kakao\n",
        "* 네오는 평소 프로도가 비상금을 숨겨놓는 장소를 알려줄 비밀지도를 손에 넣었다. 그런데 이 비밀지도는 숫자로 암호화되어 있어 위치를 확인하기 위해서는 암호를 해독해야 한다. 다행히 지도 암호를 해독할 방법을 적어놓은 메모도 함께 발견했다.\n",
        "\n",
        "* 지도는 한 변의 길이가 n인 정사각형 배열 형태로, 각 칸은 \"공백\"(\" \") 또는 \"벽\"(\"#\") 두 종류로 이루어져 있다.\n",
        "전체 지도는 두 장의 지도를 겹쳐서 얻을 수 있다. 각각 \"지도 1\"과 \"지도 2\"라고 하자. 지도 1 또는 지도 2 중 어느 하나라도 벽인 부분은 전체 지도에서도 벽이다. 지도 1과 지도 2에서 모두 공백인 부분은 전체 지도에서도 공백이다.\n",
        "\"지도 1\"과 \"지도 2\"는 각각 정수 배열로 암호화되어 있다.\n",
        "암호화된 배열은 지도의 각 가로줄에서 벽 부분을 1, 공백 부분을 0으로 부호화했을 때 얻어지는 이진수에 해당하는 값의 배열이다.\n",
        "네오가 프로도의 비상금을 손에 넣을 수 있도록, 비밀지도의 암호를 해독하는 작업을 도와줄 프로그램을 작성하라."
      ],
      "metadata": {
        "id": "Te2RebgNGKgU"
      }
    },
    {
      "cell_type": "code",
      "source": [
        "# 내 답\n",
        "\n",
        "def solution(n, arr1, arr2):\n",
        "    result = []\n",
        "    for i in range(n):\n",
        "        result.append((bin(arr1[i] | arr2[i])[2:].zfill(n)).replace('1', '#').replace('0',' '))\n",
        "    \n",
        "    return result"
      ],
      "metadata": {
        "id": "-Hs1XpHFGUuR"
      },
      "execution_count": null,
      "outputs": []
    },
    {
      "cell_type": "markdown",
      "source": [
        "## 숫자 문자열과 영단어 Kakao\n",
        "* 네오와 프로도가 숫자놀이를 하고 있습니다. 네오가 프로도에게 숫자를 건넬 때 일부 자릿수를 영단어로 바꾼 카드를 건네주면 프로도는 원래 숫자를 찾는 게임입니다.\n",
        "\n",
        "다음은 숫자의 일부 자릿수를 영단어로 바꾸는 예시입니다.\n",
        "\n",
        "1478 → \"one4seveneight\"\n",
        "234567 → \"23four5six7\"\n",
        "10203 → \"1zerotwozero3\"\n",
        "이렇게 숫자의 일부 자릿수가 영단어로 바뀌어졌거나, 혹은 바뀌지 않고 그대로인 문자열 s가 매개변수로 주어집니다. s가 의미하는 원래 숫자를 return 하도록 solution 함수를 완성해주세요."
      ],
      "metadata": {
        "id": "8g6yTASiHmbs"
      }
    },
    {
      "cell_type": "code",
      "source": [
        "# 내 답\n",
        "\n",
        "def solution(s):\n",
        "    num = {'zero' : '0', 'one' : '1', 'two' : '2',\n",
        "           'three' : '3', 'four' : '4', 'five' : '5',\n",
        "           'six' : '6', 'seven' : '7', 'eight' : '8',\n",
        "           'nine' : '9'}\n",
        "    \n",
        "    for word, number in num.items():\n",
        "        s = s.replace(word, number)\n",
        "    \n",
        "    return int(s)"
      ],
      "metadata": {
        "id": "Jixt5AmrHpao"
      },
      "execution_count": null,
      "outputs": []
    },
    {
      "cell_type": "markdown",
      "source": [
        "## 예산 Lv.1\n",
        "* S사에서는 각 부서에 필요한 물품을 지원해 주기 위해 부서별로 물품을 구매하는데 필요한 금액을 조사했습니다. 그러나, 전체 예산이 정해져 있기 때문에 모든 부서의 물품을 구매해 줄 수는 없습니다. 그래서 최대한 많은 부서의 물품을 구매해 줄 수 있도록 하려고 합니다.\n",
        "\n",
        "물품을 구매해 줄 때는 각 부서가 신청한 금액만큼을 모두 지원해 줘야 합니다. 예를 들어 1,000원을 신청한 부서에는 정확히 1,000원을 지원해야 하며, 1,000원보다 적은 금액을 지원해 줄 수는 없습니다.\n",
        "\n",
        "부서별로 신청한 금액이 들어있는 배열 d와 예산 budget이 매개변수로 주어질 때, 최대 몇 개의 부서에 물품을 지원할 수 있는지 return 하도록 solution 함수를 완성해주세요."
      ],
      "metadata": {
        "id": "Pngv6D46KlLj"
      }
    },
    {
      "cell_type": "code",
      "source": [
        "# 내 답\n",
        "\n",
        "def solution(d, budget):\n",
        "    d.sort()\n",
        "    result = 0\n",
        "    \n",
        "    for i in d:\n",
        "        if budget >= i:\n",
        "            budget -= i\n",
        "            result += 1\n",
        "        else:\n",
        "            break\n",
        "    \n",
        "    return result"
      ],
      "metadata": {
        "id": "jfsYETGgKpht"
      },
      "execution_count": null,
      "outputs": []
    }
  ]
}