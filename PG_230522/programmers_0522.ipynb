{
  "nbformat": 4,
  "nbformat_minor": 0,
  "metadata": {
    "colab": {
      "provenance": []
    },
    "kernelspec": {
      "name": "python3",
      "display_name": "Python 3"
    },
    "language_info": {
      "name": "python"
    }
  },
  "cells": [
    {
      "cell_type": "markdown",
      "source": [
        "## 푸트 파이트 대회 Lv.1\n",
        "- 수웅이는 매달 주어진 음식을 빨리 먹는 푸드 파이트 대회를 개최합니다. 이 대회에서 선수들은 1대 1로 대결하며, 매 대결마다 음식의 종류와 양이 바뀝니다. 대결은 준비된 음식들을 일렬로 배치한 뒤, 한 선수는 제일 왼쪽에 있는 음식부터 오른쪽으로, 다른 선수는 제일 오른쪽에 있는 음식부터 왼쪽으로 순서대로 먹는 방식으로 진행됩니다. 중앙에는 물을 배치하고, 물을 먼저 먹는 선수가 승리하게 됩니다.\n",
        "\n",
        "- 이때, 대회의 공정성을 위해 두 선수가 먹는 음식의 종류와 양이 같아야 하며, 음식을 먹는 순서도 같아야 합니다. 또한, 이번 대회부터는 칼로리가 낮은 음식을 먼저 먹을 수 있게 배치하여 선수들이 음식을 더 잘 먹을 수 있게 하려고 합니다. 이번 대회를 위해 수웅이는 음식을 주문했는데, 대회의 조건을 고려하지 않고 음식을 주문하여 몇 개의 음식은 대회에 사용하지 못하게 되었습니다.\n",
        "\n",
        "- 예를 들어, 3가지의 음식이 준비되어 있으며, 칼로리가 적은 순서대로 1번 음식을 3개, 2번 음식을 4개, 3번 음식을 6개 준비했으며, 물을 편의상 0번 음식이라고 칭한다면, 두 선수는 1번 음식 1개, 2번 음식 2개, 3번 음식 3개씩을 먹게 되므로 음식의 배치는 \"1223330333221\"이 됩니다. 따라서 1번 음식 1개는 대회에 사용하지 못합니다.\n",
        "\n",
        "- 수웅이가 준비한 음식의 양을 칼로리가 적은 순서대로 나타내는 정수 배열 food가 주어졌을 때, 대회를 위한 음식의 배치를 나타내는 문자열을 return 하는 solution 함수를 완성해주세요."
      ],
      "metadata": {
        "id": "1TttUIlEm5VQ"
      }
    },
    {
      "cell_type": "code",
      "source": [
        "# 내 답\n",
        "\n",
        "def solution(food):\n",
        "    result = ''\n",
        "    \n",
        "    for i in range(1, len(food)):\n",
        "        num = food[i] // 2\n",
        "        result += str(i) * num\n",
        "        \n",
        "    return result + '0' + result[::-1]"
      ],
      "metadata": {
        "id": "l-oRIKpcm9Qm"
      },
      "execution_count": null,
      "outputs": []
    },
    {
      "cell_type": "markdown",
      "source": [
        "## 두 개 뽑아서 더하기 Lv.1\n",
        "- 정수 배열 numbers가 주어집니다. numbers에서 서로 다른 인덱스에 있는 두 개의 수를 뽑아 더해서 만들 수 있는 모든 수를 배열에 오름차순으로 담아 return 하도록 solution 함수를 완성해주세요."
      ],
      "metadata": {
        "id": "Vo1Zl5kXsNAH"
      }
    },
    {
      "cell_type": "code",
      "source": [
        "# 내 답\n",
        "\n",
        "def solution(numbers):\n",
        "    result = []\n",
        "    \n",
        "    for i in range(len(numbers)):\n",
        "        for j in range(i + 1, len(numbers)):\n",
        "            result.append(numbers[i] + numbers[j])\n",
        "        \n",
        "    result = set(result)\n",
        "    return sorted(result)    "
      ],
      "metadata": {
        "id": "HPnPbk9vsQVj"
      },
      "execution_count": null,
      "outputs": []
    },
    {
      "cell_type": "markdown",
      "source": [
        "## 추억 점수 Lv.1\n",
        "- 사진들을 보며 추억에 젖어 있던 루는 사진별로 추억 점수를 매길려고 합니다. 사진 속에 나오는 인물의 그리움 점수를 모두 합산한 값이 해당 사진의 추억 점수가 됩니다. 예를 들어 사진 속 인물의 이름이 [\"may\", \"kein\", \"kain\"]이고 각 인물의 그리움 점수가 [5점, 10점, 1점]일 때 해당 사진의 추억 점수는 16(5 + 10 + 1)점이 됩니다. 다른 사진 속 인물의 이름이 [\"kali\", \"mari\", \"don\", \"tony\"]이고 [\"kali\", \"mari\", \"don\"]의 그리움 점수가 각각 [11점, 1점, 55점]]이고, \"tony\"는 그리움 점수가 없을 때, 이 사진의 추억 점수는 3명의 그리움 점수를 합한 67(11 + 1 + 55)점입니다.\n",
        "\n",
        "- 그리워하는 사람의 이름을 담은 문자열 배열 name, 각 사람별 그리움 점수를 담은 정수 배열 yearning, 각 사진에 찍힌 인물의 이름을 담은 이차원 문자열 배열 photo가 매개변수로 주어질 때, 사진들의 추억 점수를 photo에 주어진 순서대로 배열에 담아 return하는 solution 함수를 완성해주세요."
      ],
      "metadata": {
        "id": "FSJMRCytxnRh"
      }
    },
    {
      "cell_type": "code",
      "source": [
        "# 내 답\n",
        "\n",
        "def solution(name, yearning, photo):\n",
        "    result = []\n",
        "    \n",
        "    for i in photo:\n",
        "        sum_ = 0\n",
        "        for j in range(len(i)):\n",
        "            if i[j] in name:\n",
        "                index_ = name.index(i[j])\n",
        "                sum_ += yearning[index_]\n",
        "            else:\n",
        "                pass\n",
        "        \n",
        "        result.append(sum_)\n",
        "        \n",
        "    return result"
      ],
      "metadata": {
        "id": "oxaB-KUPxpVS"
      },
      "execution_count": null,
      "outputs": []
    },
    {
      "cell_type": "code",
      "source": [
        "def solution(name, yearning, photo):\n",
        "    dictionary = dict(zip(name,yearning))\n",
        "    scores = []\n",
        "    for pt in photo:\n",
        "        score = 0\n",
        "        for p in pt:\n",
        "            if p in dictionary:\n",
        "                score += dictionary[p]\n",
        "        scores.append(score)\n",
        "    return scores"
      ],
      "metadata": {
        "id": "RxfhuhcQx5As"
      },
      "execution_count": null,
      "outputs": []
    }
  ]
}