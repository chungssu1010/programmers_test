{
  "nbformat": 4,
  "nbformat_minor": 0,
  "metadata": {
    "colab": {
      "provenance": []
    },
    "kernelspec": {
      "name": "python3",
      "display_name": "Python 3"
    },
    "language_info": {
      "name": "python"
    }
  },
  "cells": [
    {
      "cell_type": "markdown",
      "source": [
        "## 짝지어 제거하기 Lv.2"
      ],
      "metadata": {
        "id": "ZSFyR_qwQv1Y"
      }
    },
    {
      "cell_type": "code",
      "execution_count": null,
      "metadata": {
        "id": "Hdq4xG7B1Ior"
      },
      "outputs": [],
      "source": [
        "# 내 답\n",
        "\n",
        "def solution(s):\n",
        "    stack = []\n",
        "\n",
        "    for i in s:\n",
        "        stack.append(i)\n",
        "        if len(stack) == 1:\n",
        "            pass\n",
        "        elif stack[-1:] == stack[-2:-1]:\n",
        "            stack.pop()\n",
        "            stack.pop()\n",
        "\n",
        "    if stack == []:\n",
        "        return 1\n",
        "    else:\n",
        "        return 0"
      ]
    },
    {
      "cell_type": "code",
      "source": [
        "def solution(s):\n",
        "    answer = []\n",
        "    for i in s:\n",
        "        if not(answer):\n",
        "            answer.append(i)\n",
        "        else:\n",
        "            if(answer[-1] == i):\n",
        "                answer.pop()\n",
        "            else:\n",
        "                answer.append(i)\n",
        "    return 1 if answer == [] else 0"
      ],
      "metadata": {
        "id": "Qk4562wlQOIQ"
      },
      "execution_count": null,
      "outputs": []
    }
  ]
}